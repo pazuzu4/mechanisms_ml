{
 "cells": [
  {
   "cell_type": "code",
   "execution_count": 1,
   "id": "a4f863a6-430a-447c-8bbd-80c8babadf0e",
   "metadata": {
    "tags": []
   },
   "outputs": [],
   "source": [
    "from keras.preprocessing.text import Tokenizer\n",
    "from keras_preprocessing.sequence import pad_sequences\n",
    "from sklearn.preprocessing import StandardScaler, OneHotEncoder, LabelEncoder\n",
    "from sklearn.compose import ColumnTransformer\n",
    "from tensorflow.keras.utils import to_categorical\n",
    "import tensorflow as tf\n",
    "import numpy as np\n",
    "import pandas as pd\n",
    "import os"
   ]
  },
  {
   "cell_type": "code",
   "execution_count": 2,
   "id": "a5f0da14-e9cb-4aa6-bbfc-210b76794baf",
   "metadata": {
    "tags": []
   },
   "outputs": [],
   "source": [
    "# Initialize and fit these in a setup or training script\n",
    "scaler = StandardScaler()\n",
    "one_hot_encoder = OneHotEncoder(handle_unknown='ignore')\n",
    "label_encoder = LabelEncoder()\n",
    "\n",
    "def fit_preprocessors(train_df_data, num_cols, cat_cols, label_col='primary_mechanism'):\n",
    "    global scaler, one_hot_encoder, label_encoder\n",
    "    scaler.fit(train_df_data[num_cols])\n",
    "    one_hot_encoder.fit(train_df_data[cat_cols])\n",
    "    label_encoder.fit(train_df_data[label_col])\n",
    "\n",
    "def process_non_txt_data(in_df, has_label=True, n_classes=7, label_col='primary_mechanism', num_cols=['age'], cat_cols=['diagnosis', 'sex', 'body_part']):\n",
    "    features_scaled = scaler.transform(in_df[num_cols])\n",
    "    one_hot_tab_features = one_hot_encoder.transform(in_df[cat_cols]).toarray()\n",
    "    \n",
    "    tabular_features_scaled = np.hstack([features_scaled, one_hot_tab_features])\n",
    "    \n",
    "    if has_label:\n",
    "        labels_np = np.array(in_df[label_col])\n",
    "        y_integer_encoded = label_encoder.transform(labels_np)\n",
    "        y_one_hot = to_categorical(y_integer_encoded, num_classes=n_classes)\n",
    "        return (tabular_features_scaled, y_one_hot)\n",
    "    else:\n",
    "        return tabular_features_scaled\n"
   ]
  },
  {
   "cell_type": "code",
   "execution_count": 3,
   "id": "7b1c851d-4048-4a6b-830b-8f3d0778c6a2",
   "metadata": {
    "tags": []
   },
   "outputs": [],
   "source": [
    "# Initialize the tokenizer globally\n",
    "tokenizer = Tokenizer(num_words=100000)\n",
    "def fit_tokenizer(txt_data):\n",
    "    text_np = np.array(txt_data)\n",
    "    tokenizer.fit_on_texts(text_np)\n",
    "\n",
    "def tokenize_samples(txt_data, maxlen=207):\n",
    "    text_np = np.array(txt_data)\n",
    "    sequences = tokenizer.texts_to_sequences(text_np)\n",
    "    text_input_clean = pad_sequences(sequences, maxlen=maxlen)\n",
    "    print('Shape of data tensor:', text_input_clean.shape)\n",
    "    return(text_input_clean)"
   ]
  },
  {
   "cell_type": "code",
   "execution_count": 4,
   "id": "c528a1e1-8408-4736-81b9-5e7a7d6bd61a",
   "metadata": {
    "tags": []
   },
   "outputs": [],
   "source": [
    "narrative_path = '../../data_to_model/narrative_tbl_all.csv'\n",
    "train_path = '../../data_to_model/Train and Test Sets/train_df_count.csv'\n",
    "test_path = '../../data_to_model/Train and Test Sets/test_df_count.csv'\n",
    "new_path = '../../data_to_model/new_data_to_model_count.csv'"
   ]
  },
  {
   "cell_type": "code",
   "execution_count": 5,
   "id": "a9dff90a-befd-4ced-9547-894982f0215a",
   "metadata": {
    "tags": []
   },
   "outputs": [],
   "source": [
    "narrative_df = pd.read_csv(narrative_path)"
   ]
  },
  {
   "cell_type": "code",
   "execution_count": 6,
   "id": "f37316f8-2de7-40b4-bfec-7b2937788db4",
   "metadata": {
    "tags": []
   },
   "outputs": [],
   "source": [
    "train_df = pd.read_csv(train_path).merge(narrative_df,how='left', on=['cpsc_case_number'] )\n",
    "test_df = pd.read_csv(test_path).merge(narrative_df,how='left', on=['cpsc_case_number'] )\n",
    "new_df = pd.read_csv(new_path).merge(narrative_df,how='left', on=['cpsc_case_number'] )\n",
    "#train_df['cpsc_case_number']"
   ]
  },
  {
   "cell_type": "code",
   "execution_count": 7,
   "id": "d8364d81-4fe6-436c-9637-bd0453ca0533",
   "metadata": {
    "tags": []
   },
   "outputs": [],
   "source": [
    "fit_preprocessors(train_df, num_cols =['age'], cat_cols =['diagnosis', 'sex', 'body_part'])\n",
    "fit_tokenizer(train_df['narrative'])"
   ]
  },
  {
   "cell_type": "code",
   "execution_count": 8,
   "id": "df0219af-2ea4-435b-9e05-fbf29ee4d722",
   "metadata": {
    "tags": []
   },
   "outputs": [
    {
     "name": "stdout",
     "output_type": "stream",
     "text": [
      "(1591, 23)\n",
      "(400, 23)\n",
      "(989, 22)\n"
     ]
    }
   ],
   "source": [
    "print(train_df.shape)\n",
    "print(test_df.shape)\n",
    "print(new_df.shape)"
   ]
  },
  {
   "cell_type": "code",
   "execution_count": 9,
   "id": "9eb6ef9c-11fe-4f1a-8327-948bde3816f7",
   "metadata": {
    "tags": []
   },
   "outputs": [
    {
     "name": "stdout",
     "output_type": "stream",
     "text": [
      "(1591, 36)\n",
      "(400, 36)\n",
      "(989, 36)\n"
     ]
    }
   ],
   "source": [
    "train_tabular_input, y_train_one_hot = process_non_txt_data(in_df = train_df)\n",
    "test_tabular_input, y_test_one_hot = process_non_txt_data(in_df = test_df)\n",
    "new_tabular_input = process_non_txt_data(in_df = new_df, has_label = False)\n",
    "\n",
    "print(train_tabular_input.shape)\n",
    "print(test_tabular_input.shape)\n",
    "print(new_tabular_input.shape)\n",
    "#new_tabular_input"
   ]
  },
  {
   "cell_type": "code",
   "execution_count": 10,
   "id": "7d9c24b9-8bd5-49c8-a559-a28409bc5c42",
   "metadata": {
    "tags": []
   },
   "outputs": [
    {
     "name": "stdout",
     "output_type": "stream",
     "text": [
      "Shape of data tensor: (1591, 207)\n",
      "Shape of data tensor: (400, 207)\n",
      "Shape of data tensor: (989, 207)\n"
     ]
    }
   ],
   "source": [
    "train_txt_tokens = tokenize_samples(train_df['narrative'])\n",
    "test_txt_tokens = tokenize_samples(test_df['narrative'])\n",
    "new_txt_tokens = tokenize_samples(new_df['narrative'])"
   ]
  },
  {
   "cell_type": "code",
   "execution_count": 11,
   "id": "b89d413e-8df8-4443-99f6-10dd27dc3395",
   "metadata": {
    "tags": []
   },
   "outputs": [
    {
     "name": "stdout",
     "output_type": "stream",
     "text": [
      "Model: \"model\"\n",
      "__________________________________________________________________________________________________\n",
      "Layer (type)                    Output Shape         Param #     Connected to                     \n",
      "==================================================================================================\n",
      "text_input (InputLayer)         [(None, 207)]        0                                            \n",
      "__________________________________________________________________________________________________\n",
      "embedding (Embedding)           (None, 207, 8)       800000      text_input[0][0]                 \n",
      "__________________________________________________________________________________________________\n",
      "tabular_input (InputLayer)      [(None, 36)]         0                                            \n",
      "__________________________________________________________________________________________________\n",
      "flatten (Flatten)               (None, 1656)         0           embedding[0][0]                  \n",
      "__________________________________________________________________________________________________\n",
      "dense (Dense)                   (None, 16)           592         tabular_input[0][0]              \n",
      "__________________________________________________________________________________________________\n",
      "concatenate (Concatenate)       (None, 1672)         0           flatten[0][0]                    \n",
      "                                                                 dense[0][0]                      \n",
      "__________________________________________________________________________________________________\n",
      "dense_1 (Dense)                 (None, 7)            11711       concatenate[0][0]                \n",
      "==================================================================================================\n",
      "Total params: 812,303\n",
      "Trainable params: 812,303\n",
      "Non-trainable params: 0\n",
      "__________________________________________________________________________________________________\n"
     ]
    }
   ],
   "source": [
    "from keras.layers import Input, Embedding, Flatten, Dense, concatenate\n",
    "from keras.models import Model\n",
    "\n",
    "maxlen=207\n",
    "max_words = 100000\n",
    "\n",
    "# Text input branch\n",
    "text_input = Input(shape=(maxlen,), dtype='int32', name='text_input')\n",
    "embedded_text = Embedding(max_words, 8)(text_input)\n",
    "flattened_text = Flatten()(embedded_text)\n",
    "\n",
    "# Tabular input branch\n",
    "tabular_input = Input(shape=(train_tabular_input.shape[1],), name='tabular_input')\n",
    "dense_tabular = Dense(16, activation='relu')(tabular_input)\n",
    "\n",
    "# Combine branches\n",
    "concatenated = concatenate([flattened_text, dense_tabular], axis=-1)\n",
    "output = Dense(7, activation='sigmoid')(concatenated)\n",
    "\n",
    "# Create and compile the model\n",
    "model_combined = Model(inputs=[text_input, tabular_input], outputs=output)\n",
    "model_combined.compile(optimizer='rmsprop', loss='binary_crossentropy', metrics=['accuracy'])\n",
    "model_combined.summary()"
   ]
  },
  {
   "cell_type": "code",
   "execution_count": 12,
   "id": "b10b89b3-cb2e-44d7-91df-06b8956a66a4",
   "metadata": {
    "tags": []
   },
   "outputs": [
    {
     "name": "stdout",
     "output_type": "stream",
     "text": [
      "Epoch 1/80\n",
      "45/45 [==============================] - 1s 17ms/step - loss: 0.3721 - accuracy: 0.5276 - val_loss: 0.5259 - val_accuracy: 0.0000e+00\n",
      "Epoch 2/80\n",
      "45/45 [==============================] - 1s 13ms/step - loss: 0.2962 - accuracy: 0.5381 - val_loss: 0.4608 - val_accuracy: 0.0000e+00\n",
      "Epoch 3/80\n",
      "45/45 [==============================] - 1s 13ms/step - loss: 0.2709 - accuracy: 0.5821 - val_loss: 0.4587 - val_accuracy: 0.0000e+00\n",
      "Epoch 4/80\n",
      "45/45 [==============================] - 1s 12ms/step - loss: 0.2423 - accuracy: 0.6660 - val_loss: 0.4697 - val_accuracy: 0.0000e+00\n",
      "Epoch 5/80\n",
      "45/45 [==============================] - 1s 11ms/step - loss: 0.2166 - accuracy: 0.7016 - val_loss: 0.3773 - val_accuracy: 0.1562\n",
      "Epoch 6/80\n",
      "45/45 [==============================] - 0s 10ms/step - loss: 0.1964 - accuracy: 0.7365 - val_loss: 0.3804 - val_accuracy: 0.2062\n",
      "Epoch 7/80\n",
      "45/45 [==============================] - 0s 11ms/step - loss: 0.1796 - accuracy: 0.7624 - val_loss: 0.3227 - val_accuracy: 0.4375\n",
      "Epoch 8/80\n",
      "45/45 [==============================] - 0s 10ms/step - loss: 0.1664 - accuracy: 0.7799 - val_loss: 0.3055 - val_accuracy: 0.4875\n",
      "Epoch 9/80\n",
      "45/45 [==============================] - 0s 9ms/step - loss: 0.1552 - accuracy: 0.7980 - val_loss: 0.2957 - val_accuracy: 0.5000\n",
      "Epoch 10/80\n",
      "45/45 [==============================] - 0s 10ms/step - loss: 0.1452 - accuracy: 0.8057 - val_loss: 0.2999 - val_accuracy: 0.4938\n",
      "Epoch 11/80\n",
      "45/45 [==============================] - 0s 10ms/step - loss: 0.1369 - accuracy: 0.8232 - val_loss: 0.2699 - val_accuracy: 0.5750\n",
      "Epoch 12/80\n",
      "45/45 [==============================] - 0s 10ms/step - loss: 0.1290 - accuracy: 0.8344 - val_loss: 0.2479 - val_accuracy: 0.6313\n",
      "Epoch 13/80\n",
      "45/45 [==============================] - 0s 9ms/step - loss: 0.1220 - accuracy: 0.8428 - val_loss: 0.2329 - val_accuracy: 0.6750\n",
      "Epoch 14/80\n",
      "45/45 [==============================] - 0s 10ms/step - loss: 0.1160 - accuracy: 0.8526 - val_loss: 0.2421 - val_accuracy: 0.6500\n",
      "Epoch 15/80\n",
      "45/45 [==============================] - 0s 9ms/step - loss: 0.1102 - accuracy: 0.8623 - val_loss: 0.2287 - val_accuracy: 0.6875\n",
      "Epoch 16/80\n",
      "45/45 [==============================] - 0s 9ms/step - loss: 0.1049 - accuracy: 0.8693 - val_loss: 0.2322 - val_accuracy: 0.6875\n",
      "Epoch 17/80\n",
      "45/45 [==============================] - 0s 9ms/step - loss: 0.0998 - accuracy: 0.8791 - val_loss: 0.2246 - val_accuracy: 0.7188\n",
      "Epoch 18/80\n",
      "45/45 [==============================] - 0s 9ms/step - loss: 0.0952 - accuracy: 0.8896 - val_loss: 0.2231 - val_accuracy: 0.7188\n",
      "Epoch 19/80\n",
      "45/45 [==============================] - 0s 9ms/step - loss: 0.0909 - accuracy: 0.8952 - val_loss: 0.2179 - val_accuracy: 0.7250\n",
      "Epoch 20/80\n",
      "45/45 [==============================] - 0s 9ms/step - loss: 0.0871 - accuracy: 0.9015 - val_loss: 0.2300 - val_accuracy: 0.6812\n",
      "Epoch 21/80\n",
      "45/45 [==============================] - 0s 9ms/step - loss: 0.0832 - accuracy: 0.9078 - val_loss: 0.2203 - val_accuracy: 0.7125\n",
      "Epoch 22/80\n",
      "45/45 [==============================] - 0s 9ms/step - loss: 0.0795 - accuracy: 0.9133 - val_loss: 0.2067 - val_accuracy: 0.7375\n",
      "Epoch 23/80\n",
      "45/45 [==============================] - 0s 10ms/step - loss: 0.0762 - accuracy: 0.9161 - val_loss: 0.1974 - val_accuracy: 0.7375\n",
      "Epoch 24/80\n",
      "45/45 [==============================] - 0s 11ms/step - loss: 0.0730 - accuracy: 0.9224 - val_loss: 0.2063 - val_accuracy: 0.7563\n",
      "Epoch 25/80\n",
      "45/45 [==============================] - 0s 11ms/step - loss: 0.0698 - accuracy: 0.9266 - val_loss: 0.2075 - val_accuracy: 0.7312\n",
      "Epoch 26/80\n",
      "45/45 [==============================] - 0s 10ms/step - loss: 0.0670 - accuracy: 0.9294 - val_loss: 0.1997 - val_accuracy: 0.7375\n",
      "Epoch 27/80\n",
      "45/45 [==============================] - 0s 10ms/step - loss: 0.0639 - accuracy: 0.9350 - val_loss: 0.1889 - val_accuracy: 0.7563\n",
      "Epoch 28/80\n",
      "45/45 [==============================] - 0s 10ms/step - loss: 0.0616 - accuracy: 0.9336 - val_loss: 0.2084 - val_accuracy: 0.7375\n",
      "Epoch 29/80\n",
      "45/45 [==============================] - 0s 10ms/step - loss: 0.0591 - accuracy: 0.9364 - val_loss: 0.1978 - val_accuracy: 0.7437\n",
      "Epoch 30/80\n",
      "45/45 [==============================] - 0s 10ms/step - loss: 0.0566 - accuracy: 0.9420 - val_loss: 0.1987 - val_accuracy: 0.7437\n",
      "Epoch 31/80\n",
      "45/45 [==============================] - 0s 9ms/step - loss: 0.0542 - accuracy: 0.9441 - val_loss: 0.1913 - val_accuracy: 0.7625\n",
      "Epoch 32/80\n",
      "45/45 [==============================] - 0s 10ms/step - loss: 0.0520 - accuracy: 0.9427 - val_loss: 0.1914 - val_accuracy: 0.7500\n",
      "Epoch 33/80\n",
      "45/45 [==============================] - 0s 10ms/step - loss: 0.0499 - accuracy: 0.9483 - val_loss: 0.1844 - val_accuracy: 0.7625\n",
      "Epoch 34/80\n",
      "45/45 [==============================] - 0s 10ms/step - loss: 0.0478 - accuracy: 0.9525 - val_loss: 0.1911 - val_accuracy: 0.7437\n",
      "Epoch 35/80\n",
      "45/45 [==============================] - 0s 10ms/step - loss: 0.0457 - accuracy: 0.9560 - val_loss: 0.1985 - val_accuracy: 0.7437\n",
      "Epoch 36/80\n",
      "45/45 [==============================] - 0s 9ms/step - loss: 0.0439 - accuracy: 0.9574 - val_loss: 0.1991 - val_accuracy: 0.7500\n",
      "Epoch 37/80\n",
      "45/45 [==============================] - 0s 9ms/step - loss: 0.0419 - accuracy: 0.9588 - val_loss: 0.2103 - val_accuracy: 0.7312\n",
      "Epoch 38/80\n",
      "45/45 [==============================] - 0s 10ms/step - loss: 0.0404 - accuracy: 0.9609 - val_loss: 0.1896 - val_accuracy: 0.7500\n",
      "Epoch 39/80\n",
      "45/45 [==============================] - 0s 10ms/step - loss: 0.0385 - accuracy: 0.9623 - val_loss: 0.1937 - val_accuracy: 0.7375\n",
      "Epoch 40/80\n",
      "45/45 [==============================] - 0s 9ms/step - loss: 0.0369 - accuracy: 0.9630 - val_loss: 0.1994 - val_accuracy: 0.7375\n",
      "Epoch 41/80\n",
      "45/45 [==============================] - 0s 9ms/step - loss: 0.0353 - accuracy: 0.9651 - val_loss: 0.2023 - val_accuracy: 0.7312\n",
      "Epoch 42/80\n",
      "45/45 [==============================] - 0s 10ms/step - loss: 0.0338 - accuracy: 0.9693 - val_loss: 0.1897 - val_accuracy: 0.7625\n",
      "Epoch 43/80\n",
      "45/45 [==============================] - 0s 10ms/step - loss: 0.0323 - accuracy: 0.9700 - val_loss: 0.1981 - val_accuracy: 0.7375\n",
      "Epoch 44/80\n",
      "45/45 [==============================] - 0s 10ms/step - loss: 0.0307 - accuracy: 0.9734 - val_loss: 0.1884 - val_accuracy: 0.7375\n",
      "Epoch 45/80\n",
      "45/45 [==============================] - 0s 9ms/step - loss: 0.0295 - accuracy: 0.9762 - val_loss: 0.1946 - val_accuracy: 0.7375\n",
      "Epoch 46/80\n",
      "45/45 [==============================] - 0s 11ms/step - loss: 0.0281 - accuracy: 0.9783 - val_loss: 0.1922 - val_accuracy: 0.7500\n",
      "Epoch 47/80\n",
      "45/45 [==============================] - 0s 11ms/step - loss: 0.0269 - accuracy: 0.9797 - val_loss: 0.1874 - val_accuracy: 0.7625\n",
      "Epoch 48/80\n",
      "45/45 [==============================] - 0s 9ms/step - loss: 0.0256 - accuracy: 0.9818 - val_loss: 0.1889 - val_accuracy: 0.7625\n",
      "Epoch 49/80\n",
      "45/45 [==============================] - 0s 10ms/step - loss: 0.0244 - accuracy: 0.9832 - val_loss: 0.1989 - val_accuracy: 0.7437\n",
      "Epoch 50/80\n",
      "45/45 [==============================] - 0s 9ms/step - loss: 0.0233 - accuracy: 0.9839 - val_loss: 0.2002 - val_accuracy: 0.7437\n",
      "Epoch 51/80\n",
      "45/45 [==============================] - 0s 9ms/step - loss: 0.0222 - accuracy: 0.9860 - val_loss: 0.1908 - val_accuracy: 0.7625\n",
      "Epoch 52/80\n",
      "45/45 [==============================] - 0s 9ms/step - loss: 0.0210 - accuracy: 0.9874 - val_loss: 0.1927 - val_accuracy: 0.7625\n",
      "Epoch 53/80\n",
      "45/45 [==============================] - 0s 9ms/step - loss: 0.0200 - accuracy: 0.9916 - val_loss: 0.2059 - val_accuracy: 0.7312\n",
      "Epoch 54/80\n",
      "45/45 [==============================] - 0s 9ms/step - loss: 0.0191 - accuracy: 0.9916 - val_loss: 0.2000 - val_accuracy: 0.7563\n",
      "Epoch 55/80\n",
      "45/45 [==============================] - 0s 10ms/step - loss: 0.0181 - accuracy: 0.9916 - val_loss: 0.1974 - val_accuracy: 0.7563\n",
      "Epoch 56/80\n",
      "45/45 [==============================] - 0s 10ms/step - loss: 0.0172 - accuracy: 0.9923 - val_loss: 0.2052 - val_accuracy: 0.7500\n",
      "Epoch 57/80\n",
      "45/45 [==============================] - 0s 10ms/step - loss: 0.0164 - accuracy: 0.9923 - val_loss: 0.2015 - val_accuracy: 0.7500\n",
      "Epoch 58/80\n",
      "45/45 [==============================] - 0s 10ms/step - loss: 0.0156 - accuracy: 0.9937 - val_loss: 0.2102 - val_accuracy: 0.7500\n",
      "Epoch 59/80\n",
      "45/45 [==============================] - 0s 10ms/step - loss: 0.0147 - accuracy: 0.9958 - val_loss: 0.2169 - val_accuracy: 0.7312\n",
      "Epoch 60/80\n",
      "45/45 [==============================] - 0s 10ms/step - loss: 0.0139 - accuracy: 0.9958 - val_loss: 0.1990 - val_accuracy: 0.7500\n",
      "Epoch 61/80\n",
      "45/45 [==============================] - 0s 10ms/step - loss: 0.0132 - accuracy: 0.9958 - val_loss: 0.2143 - val_accuracy: 0.7437\n",
      "Epoch 62/80\n",
      "45/45 [==============================] - 0s 9ms/step - loss: 0.0125 - accuracy: 0.9958 - val_loss: 0.2017 - val_accuracy: 0.7500\n",
      "Epoch 63/80\n",
      "45/45 [==============================] - 0s 10ms/step - loss: 0.0118 - accuracy: 0.9972 - val_loss: 0.2125 - val_accuracy: 0.7500\n",
      "Epoch 64/80\n",
      "45/45 [==============================] - 0s 9ms/step - loss: 0.0113 - accuracy: 0.9958 - val_loss: 0.2139 - val_accuracy: 0.7312\n",
      "Epoch 65/80\n",
      "45/45 [==============================] - 0s 9ms/step - loss: 0.0105 - accuracy: 0.9965 - val_loss: 0.2191 - val_accuracy: 0.7437\n",
      "Epoch 66/80\n",
      "45/45 [==============================] - 0s 9ms/step - loss: 0.0100 - accuracy: 0.9965 - val_loss: 0.2133 - val_accuracy: 0.7500\n",
      "Epoch 67/80\n",
      "45/45 [==============================] - 0s 9ms/step - loss: 0.0094 - accuracy: 0.9972 - val_loss: 0.2288 - val_accuracy: 0.7375\n",
      "Epoch 68/80\n",
      "45/45 [==============================] - 0s 9ms/step - loss: 0.0089 - accuracy: 0.9972 - val_loss: 0.2153 - val_accuracy: 0.7563\n",
      "Epoch 69/80\n",
      "45/45 [==============================] - 0s 10ms/step - loss: 0.0084 - accuracy: 0.9972 - val_loss: 0.2216 - val_accuracy: 0.7437\n",
      "Epoch 70/80\n",
      "45/45 [==============================] - 0s 9ms/step - loss: 0.0079 - accuracy: 0.9979 - val_loss: 0.2196 - val_accuracy: 0.7563\n",
      "Epoch 71/80\n",
      "45/45 [==============================] - 0s 9ms/step - loss: 0.0074 - accuracy: 0.9993 - val_loss: 0.2344 - val_accuracy: 0.7312\n",
      "Epoch 72/80\n",
      "45/45 [==============================] - 0s 10ms/step - loss: 0.0070 - accuracy: 0.9993 - val_loss: 0.2236 - val_accuracy: 0.7625\n",
      "Epoch 73/80\n",
      "45/45 [==============================] - 0s 10ms/step - loss: 0.0065 - accuracy: 0.9993 - val_loss: 0.2403 - val_accuracy: 0.7500\n",
      "Epoch 74/80\n",
      "45/45 [==============================] - 0s 10ms/step - loss: 0.0062 - accuracy: 0.9993 - val_loss: 0.2288 - val_accuracy: 0.7563\n",
      "Epoch 75/80\n",
      "45/45 [==============================] - 0s 9ms/step - loss: 0.0058 - accuracy: 0.9993 - val_loss: 0.2338 - val_accuracy: 0.7500\n",
      "Epoch 76/80\n",
      "45/45 [==============================] - 0s 9ms/step - loss: 0.0054 - accuracy: 1.0000 - val_loss: 0.2217 - val_accuracy: 0.7563\n",
      "Epoch 77/80\n",
      "45/45 [==============================] - 0s 9ms/step - loss: 0.0051 - accuracy: 1.0000 - val_loss: 0.2326 - val_accuracy: 0.7625\n",
      "Epoch 78/80\n",
      "45/45 [==============================] - 0s 10ms/step - loss: 0.0048 - accuracy: 0.9993 - val_loss: 0.2425 - val_accuracy: 0.7500\n",
      "Epoch 79/80\n",
      "45/45 [==============================] - 0s 10ms/step - loss: 0.0044 - accuracy: 1.0000 - val_loss: 0.2405 - val_accuracy: 0.7625\n",
      "Epoch 80/80\n",
      "45/45 [==============================] - 0s 10ms/step - loss: 0.0041 - accuracy: 1.0000 - val_loss: 0.2480 - val_accuracy: 0.7500\n"
     ]
    }
   ],
   "source": [
    "history_combined = model_combined.fit([train_txt_tokens, train_tabular_input], y_train_one_hot,\n",
    "epochs=80,\n",
    "batch_size=32,\n",
    "validation_split=.1)"
   ]
  },
  {
   "cell_type": "code",
   "execution_count": 13,
   "id": "ce465c90-18fe-491e-b0ed-01aab7dfc91c",
   "metadata": {
    "tags": []
   },
   "outputs": [],
   "source": [
    "from keras.layers import Dropout"
   ]
  },
  {
   "cell_type": "code",
   "execution_count": 14,
   "id": "13659797-747c-4446-8422-2ce9de69ae48",
   "metadata": {
    "tags": []
   },
   "outputs": [
    {
     "name": "stdout",
     "output_type": "stream",
     "text": [
      "Model: \"model_1\"\n",
      "__________________________________________________________________________________________________\n",
      "Layer (type)                    Output Shape         Param #     Connected to                     \n",
      "==================================================================================================\n",
      "tabular_input (InputLayer)      [(None, 36)]         0                                            \n",
      "__________________________________________________________________________________________________\n",
      "text_input (InputLayer)         [(None, 207)]        0                                            \n",
      "__________________________________________________________________________________________________\n",
      "dense_2 (Dense)                 (None, 64)           2368        tabular_input[0][0]              \n",
      "__________________________________________________________________________________________________\n",
      "embedding_1 (Embedding)         (None, 207, 8)       800000      text_input[0][0]                 \n",
      "__________________________________________________________________________________________________\n",
      "dropout (Dropout)               (None, 64)           0           dense_2[0][0]                    \n",
      "__________________________________________________________________________________________________\n",
      "flatten_1 (Flatten)             (None, 1656)         0           embedding_1[0][0]                \n",
      "__________________________________________________________________________________________________\n",
      "dense_3 (Dense)                 (None, 32)           2080        dropout[0][0]                    \n",
      "__________________________________________________________________________________________________\n",
      "concatenate_1 (Concatenate)     (None, 1688)         0           flatten_1[0][0]                  \n",
      "                                                                 dense_3[0][0]                    \n",
      "__________________________________________________________________________________________________\n",
      "dense_4 (Dense)                 (None, 7)            11823       concatenate_1[0][0]              \n",
      "==================================================================================================\n",
      "Total params: 816,271\n",
      "Trainable params: 816,271\n",
      "Non-trainable params: 0\n",
      "__________________________________________________________________________________________________\n"
     ]
    }
   ],
   "source": [
    "# Text input branch\n",
    "text_input_deeper = Input(shape=(maxlen,), dtype='int32', name='text_input')\n",
    "embedded_text_deeper = Embedding(max_words, 8)(text_input_deeper)\n",
    "flattened_text_deeper = Flatten()(embedded_text_deeper)\n",
    "\n",
    "# Tabular input branch\n",
    "tabular_input_deeper = Input(shape=(train_tabular_input.shape[1],), name='tabular_input')\n",
    "dense_tabular_p1 = Dense(64, activation='relu')(tabular_input_deeper)\n",
    "dropout1 = Dropout(0.5)(dense_tabular_p1)  # Dropout for regularization\n",
    "dense_tabular_deeper = Dense(32, activation='relu')(dropout1)\n",
    "\n",
    "# Combine branches\n",
    "concatenated_deeper = concatenate([flattened_text_deeper, dense_tabular_deeper], axis=-1)\n",
    "output_deeper = Dense(7, activation='sigmoid')(concatenated_deeper)\n",
    "\n",
    "# Create and compile the model\n",
    "model_combined_deeper = Model(inputs=[text_input_deeper, tabular_input_deeper], outputs=output_deeper)\n",
    "model_combined_deeper.compile(optimizer='rmsprop', loss='binary_crossentropy', metrics=['accuracy'])\n",
    "model_combined_deeper.summary()"
   ]
  },
  {
   "cell_type": "code",
   "execution_count": 15,
   "id": "303dc81f-656b-483c-ac7d-8ee93567778d",
   "metadata": {
    "tags": []
   },
   "outputs": [
    {
     "name": "stdout",
     "output_type": "stream",
     "text": [
      "Epoch 1/80\n",
      "45/45 [==============================] - 1s 14ms/step - loss: 0.3745 - accuracy: 0.5311 - val_loss: 0.4779 - val_accuracy: 0.0000e+00\n",
      "Epoch 2/80\n",
      "45/45 [==============================] - 0s 9ms/step - loss: 0.2838 - accuracy: 0.5479 - val_loss: 0.4112 - val_accuracy: 0.0000e+00\n",
      "Epoch 3/80\n",
      "45/45 [==============================] - 0s 10ms/step - loss: 0.2401 - accuracy: 0.6674 - val_loss: 0.4001 - val_accuracy: 0.0000e+00\n",
      "Epoch 4/80\n",
      "45/45 [==============================] - 0s 9ms/step - loss: 0.2084 - accuracy: 0.7135 - val_loss: 0.3125 - val_accuracy: 0.4625\n",
      "Epoch 5/80\n",
      "45/45 [==============================] - 0s 10ms/step - loss: 0.1911 - accuracy: 0.7484 - val_loss: 0.3314 - val_accuracy: 0.3875\n",
      "Epoch 6/80\n",
      "45/45 [==============================] - 0s 10ms/step - loss: 0.1800 - accuracy: 0.7568 - val_loss: 0.3000 - val_accuracy: 0.4500\n",
      "Epoch 7/80\n",
      "45/45 [==============================] - 0s 9ms/step - loss: 0.1686 - accuracy: 0.7708 - val_loss: 0.3070 - val_accuracy: 0.4500\n",
      "Epoch 8/80\n",
      "45/45 [==============================] - 0s 10ms/step - loss: 0.1595 - accuracy: 0.7764 - val_loss: 0.2787 - val_accuracy: 0.5562\n",
      "Epoch 9/80\n",
      "45/45 [==============================] - 0s 10ms/step - loss: 0.1515 - accuracy: 0.7945 - val_loss: 0.2665 - val_accuracy: 0.6062\n",
      "Epoch 10/80\n",
      "45/45 [==============================] - 0s 10ms/step - loss: 0.1425 - accuracy: 0.8015 - val_loss: 0.2530 - val_accuracy: 0.6187\n",
      "Epoch 11/80\n",
      "45/45 [==============================] - 0s 9ms/step - loss: 0.1347 - accuracy: 0.8260 - val_loss: 0.2259 - val_accuracy: 0.6687\n",
      "Epoch 12/80\n",
      "45/45 [==============================] - 0s 10ms/step - loss: 0.1269 - accuracy: 0.8421 - val_loss: 0.2497 - val_accuracy: 0.6187\n",
      "Epoch 13/80\n",
      "45/45 [==============================] - 0s 9ms/step - loss: 0.1197 - accuracy: 0.8421 - val_loss: 0.2256 - val_accuracy: 0.6438\n",
      "Epoch 14/80\n",
      "45/45 [==============================] - 0s 10ms/step - loss: 0.1111 - accuracy: 0.8546 - val_loss: 0.2331 - val_accuracy: 0.6375\n",
      "Epoch 15/80\n",
      "45/45 [==============================] - 0s 9ms/step - loss: 0.1069 - accuracy: 0.8637 - val_loss: 0.2193 - val_accuracy: 0.6375\n",
      "Epoch 16/80\n",
      "45/45 [==============================] - 0s 10ms/step - loss: 0.1015 - accuracy: 0.8742 - val_loss: 0.2053 - val_accuracy: 0.6687\n",
      "Epoch 17/80\n",
      "45/45 [==============================] - 0s 10ms/step - loss: 0.0974 - accuracy: 0.8840 - val_loss: 0.2051 - val_accuracy: 0.6500\n",
      "Epoch 18/80\n",
      "45/45 [==============================] - 0s 10ms/step - loss: 0.0911 - accuracy: 0.8889 - val_loss: 0.1961 - val_accuracy: 0.6750\n",
      "Epoch 19/80\n",
      "45/45 [==============================] - 0s 10ms/step - loss: 0.0883 - accuracy: 0.8945 - val_loss: 0.1938 - val_accuracy: 0.6812\n",
      "Epoch 20/80\n",
      "45/45 [==============================] - 0s 10ms/step - loss: 0.0828 - accuracy: 0.9001 - val_loss: 0.1878 - val_accuracy: 0.7125\n",
      "Epoch 21/80\n",
      "45/45 [==============================] - 0s 10ms/step - loss: 0.0794 - accuracy: 0.9078 - val_loss: 0.1908 - val_accuracy: 0.7000\n",
      "Epoch 22/80\n",
      "45/45 [==============================] - 0s 10ms/step - loss: 0.0758 - accuracy: 0.9140 - val_loss: 0.1921 - val_accuracy: 0.7000\n",
      "Epoch 23/80\n",
      "45/45 [==============================] - 0s 9ms/step - loss: 0.0748 - accuracy: 0.9182 - val_loss: 0.1891 - val_accuracy: 0.7188\n",
      "Epoch 24/80\n",
      "45/45 [==============================] - 0s 10ms/step - loss: 0.0698 - accuracy: 0.9189 - val_loss: 0.1748 - val_accuracy: 0.7437\n",
      "Epoch 25/80\n",
      "45/45 [==============================] - 0s 9ms/step - loss: 0.0669 - accuracy: 0.9273 - val_loss: 0.1886 - val_accuracy: 0.7250\n",
      "Epoch 26/80\n",
      "45/45 [==============================] - 0s 10ms/step - loss: 0.0640 - accuracy: 0.9259 - val_loss: 0.1704 - val_accuracy: 0.7563\n",
      "Epoch 27/80\n",
      "45/45 [==============================] - 0s 9ms/step - loss: 0.0642 - accuracy: 0.9280 - val_loss: 0.1737 - val_accuracy: 0.7625\n",
      "Epoch 28/80\n",
      "45/45 [==============================] - 0s 9ms/step - loss: 0.0591 - accuracy: 0.9406 - val_loss: 0.1839 - val_accuracy: 0.7375\n",
      "Epoch 29/80\n",
      "45/45 [==============================] - 0s 10ms/step - loss: 0.0570 - accuracy: 0.9350 - val_loss: 0.1857 - val_accuracy: 0.7437\n",
      "Epoch 30/80\n",
      "45/45 [==============================] - 0s 10ms/step - loss: 0.0558 - accuracy: 0.9413 - val_loss: 0.1733 - val_accuracy: 0.7688\n",
      "Epoch 31/80\n",
      "45/45 [==============================] - 0s 10ms/step - loss: 0.0526 - accuracy: 0.9385 - val_loss: 0.1790 - val_accuracy: 0.7625\n",
      "Epoch 32/80\n",
      "45/45 [==============================] - 1s 15ms/step - loss: 0.0504 - accuracy: 0.9420 - val_loss: 0.1818 - val_accuracy: 0.7625\n",
      "Epoch 33/80\n",
      "45/45 [==============================] - 0s 11ms/step - loss: 0.0481 - accuracy: 0.9462 - val_loss: 0.1819 - val_accuracy: 0.7563\n",
      "Epoch 34/80\n",
      "45/45 [==============================] - 0s 10ms/step - loss: 0.0461 - accuracy: 0.9546 - val_loss: 0.1903 - val_accuracy: 0.7563\n",
      "Epoch 35/80\n",
      "45/45 [==============================] - 0s 10ms/step - loss: 0.0454 - accuracy: 0.9539 - val_loss: 0.1714 - val_accuracy: 0.7937\n",
      "Epoch 36/80\n",
      "45/45 [==============================] - 0s 10ms/step - loss: 0.0428 - accuracy: 0.9595 - val_loss: 0.1726 - val_accuracy: 0.7875\n",
      "Epoch 37/80\n",
      "45/45 [==============================] - 0s 10ms/step - loss: 0.0402 - accuracy: 0.9616 - val_loss: 0.1728 - val_accuracy: 0.7812\n",
      "Epoch 38/80\n",
      "45/45 [==============================] - 0s 10ms/step - loss: 0.0385 - accuracy: 0.9581 - val_loss: 0.1655 - val_accuracy: 0.7937\n",
      "Epoch 39/80\n",
      "45/45 [==============================] - 0s 10ms/step - loss: 0.0364 - accuracy: 0.9658 - val_loss: 0.1788 - val_accuracy: 0.7812\n",
      "Epoch 40/80\n",
      "45/45 [==============================] - 0s 10ms/step - loss: 0.0351 - accuracy: 0.9665 - val_loss: 0.1752 - val_accuracy: 0.7812\n",
      "Epoch 41/80\n",
      "45/45 [==============================] - 0s 10ms/step - loss: 0.0342 - accuracy: 0.9679 - val_loss: 0.1698 - val_accuracy: 0.7875\n",
      "Epoch 42/80\n",
      "45/45 [==============================] - 0s 10ms/step - loss: 0.0323 - accuracy: 0.9693 - val_loss: 0.1693 - val_accuracy: 0.7875\n",
      "Epoch 43/80\n",
      "45/45 [==============================] - 0s 10ms/step - loss: 0.0319 - accuracy: 0.9679 - val_loss: 0.1761 - val_accuracy: 0.7812\n",
      "Epoch 44/80\n",
      "45/45 [==============================] - 0s 11ms/step - loss: 0.0304 - accuracy: 0.9762 - val_loss: 0.1809 - val_accuracy: 0.7750\n",
      "Epoch 45/80\n",
      "45/45 [==============================] - 0s 11ms/step - loss: 0.0303 - accuracy: 0.9727 - val_loss: 0.1697 - val_accuracy: 0.7875\n",
      "Epoch 46/80\n",
      "45/45 [==============================] - 0s 11ms/step - loss: 0.0270 - accuracy: 0.9811 - val_loss: 0.1778 - val_accuracy: 0.7812\n",
      "Epoch 47/80\n",
      "45/45 [==============================] - 0s 11ms/step - loss: 0.0271 - accuracy: 0.9804 - val_loss: 0.1916 - val_accuracy: 0.7625\n",
      "Epoch 48/80\n",
      "45/45 [==============================] - 0s 11ms/step - loss: 0.0255 - accuracy: 0.9804 - val_loss: 0.1848 - val_accuracy: 0.7750\n",
      "Epoch 49/80\n",
      "45/45 [==============================] - 0s 10ms/step - loss: 0.0238 - accuracy: 0.9860 - val_loss: 0.1802 - val_accuracy: 0.7812\n",
      "Epoch 50/80\n",
      "45/45 [==============================] - 0s 10ms/step - loss: 0.0230 - accuracy: 0.9818 - val_loss: 0.1844 - val_accuracy: 0.7688\n",
      "Epoch 51/80\n",
      "45/45 [==============================] - 0s 10ms/step - loss: 0.0214 - accuracy: 0.9846 - val_loss: 0.1821 - val_accuracy: 0.7875\n",
      "Epoch 52/80\n",
      "45/45 [==============================] - 0s 11ms/step - loss: 0.0217 - accuracy: 0.9839 - val_loss: 0.1857 - val_accuracy: 0.7750\n",
      "Epoch 53/80\n",
      "45/45 [==============================] - 0s 11ms/step - loss: 0.0201 - accuracy: 0.9860 - val_loss: 0.1883 - val_accuracy: 0.7750\n",
      "Epoch 54/80\n",
      "45/45 [==============================] - 1s 12ms/step - loss: 0.0195 - accuracy: 0.9846 - val_loss: 0.2057 - val_accuracy: 0.7563\n",
      "Epoch 55/80\n",
      "45/45 [==============================] - 1s 11ms/step - loss: 0.0186 - accuracy: 0.9902 - val_loss: 0.1945 - val_accuracy: 0.7688\n",
      "Epoch 56/80\n",
      "45/45 [==============================] - 1s 12ms/step - loss: 0.0172 - accuracy: 0.9909 - val_loss: 0.1859 - val_accuracy: 0.7750\n",
      "Epoch 57/80\n",
      "45/45 [==============================] - 1s 11ms/step - loss: 0.0168 - accuracy: 0.9888 - val_loss: 0.1887 - val_accuracy: 0.7750\n",
      "Epoch 58/80\n",
      "45/45 [==============================] - 1s 11ms/step - loss: 0.0154 - accuracy: 0.9930 - val_loss: 0.2081 - val_accuracy: 0.7688\n",
      "Epoch 59/80\n",
      "45/45 [==============================] - 1s 12ms/step - loss: 0.0144 - accuracy: 0.9937 - val_loss: 0.1981 - val_accuracy: 0.7688\n",
      "Epoch 60/80\n",
      "45/45 [==============================] - 0s 10ms/step - loss: 0.0145 - accuracy: 0.9916 - val_loss: 0.1954 - val_accuracy: 0.7750\n",
      "Epoch 61/80\n",
      "45/45 [==============================] - 0s 11ms/step - loss: 0.0135 - accuracy: 0.9937 - val_loss: 0.1998 - val_accuracy: 0.7625\n",
      "Epoch 62/80\n",
      "45/45 [==============================] - 1s 11ms/step - loss: 0.0133 - accuracy: 0.9951 - val_loss: 0.1991 - val_accuracy: 0.7688\n",
      "Epoch 63/80\n",
      "45/45 [==============================] - 1s 11ms/step - loss: 0.0128 - accuracy: 0.9923 - val_loss: 0.1937 - val_accuracy: 0.7812\n",
      "Epoch 64/80\n",
      "45/45 [==============================] - 0s 11ms/step - loss: 0.0115 - accuracy: 0.9965 - val_loss: 0.1966 - val_accuracy: 0.7750\n",
      "Epoch 65/80\n",
      "45/45 [==============================] - 0s 10ms/step - loss: 0.0109 - accuracy: 0.9965 - val_loss: 0.1998 - val_accuracy: 0.7875\n",
      "Epoch 66/80\n",
      "45/45 [==============================] - 0s 10ms/step - loss: 0.0105 - accuracy: 0.9958 - val_loss: 0.2094 - val_accuracy: 0.7688\n",
      "Epoch 67/80\n",
      "45/45 [==============================] - 0s 10ms/step - loss: 0.0097 - accuracy: 0.9979 - val_loss: 0.2155 - val_accuracy: 0.7750\n",
      "Epoch 68/80\n",
      "45/45 [==============================] - 0s 10ms/step - loss: 0.0095 - accuracy: 0.9951 - val_loss: 0.2202 - val_accuracy: 0.7750\n",
      "Epoch 69/80\n",
      "45/45 [==============================] - 0s 10ms/step - loss: 0.0091 - accuracy: 0.9965 - val_loss: 0.2081 - val_accuracy: 0.8000\n",
      "Epoch 70/80\n",
      "45/45 [==============================] - 0s 10ms/step - loss: 0.0082 - accuracy: 0.9965 - val_loss: 0.2165 - val_accuracy: 0.7688\n",
      "Epoch 71/80\n",
      "45/45 [==============================] - 0s 10ms/step - loss: 0.0080 - accuracy: 0.9979 - val_loss: 0.2188 - val_accuracy: 0.7688\n",
      "Epoch 72/80\n",
      "45/45 [==============================] - 0s 11ms/step - loss: 0.0075 - accuracy: 0.9993 - val_loss: 0.2167 - val_accuracy: 0.7750\n",
      "Epoch 73/80\n",
      "45/45 [==============================] - 0s 10ms/step - loss: 0.0071 - accuracy: 0.9979 - val_loss: 0.2206 - val_accuracy: 0.8062\n",
      "Epoch 74/80\n",
      "45/45 [==============================] - 0s 10ms/step - loss: 0.0069 - accuracy: 0.9979 - val_loss: 0.2242 - val_accuracy: 0.7812\n",
      "Epoch 75/80\n",
      "45/45 [==============================] - 0s 10ms/step - loss: 0.0060 - accuracy: 0.9993 - val_loss: 0.2318 - val_accuracy: 0.7750\n",
      "Epoch 76/80\n",
      "45/45 [==============================] - 0s 11ms/step - loss: 0.0060 - accuracy: 1.0000 - val_loss: 0.2292 - val_accuracy: 0.7750\n",
      "Epoch 77/80\n",
      "45/45 [==============================] - 0s 10ms/step - loss: 0.0061 - accuracy: 0.9993 - val_loss: 0.2310 - val_accuracy: 0.7875\n",
      "Epoch 78/80\n",
      "45/45 [==============================] - 0s 11ms/step - loss: 0.0053 - accuracy: 1.0000 - val_loss: 0.2384 - val_accuracy: 0.7812\n",
      "Epoch 79/80\n",
      "45/45 [==============================] - 0s 10ms/step - loss: 0.0051 - accuracy: 0.9993 - val_loss: 0.2323 - val_accuracy: 0.7937\n",
      "Epoch 80/80\n",
      "45/45 [==============================] - 0s 11ms/step - loss: 0.0048 - accuracy: 1.0000 - val_loss: 0.2242 - val_accuracy: 0.7937\n"
     ]
    }
   ],
   "source": [
    "history_combined_deeper = model_combined_deeper.fit([train_txt_tokens, train_tabular_input], y_train_one_hot,\n",
    "epochs=80,\n",
    "batch_size=32,\n",
    "validation_split=.1)"
   ]
  },
  {
   "cell_type": "code",
   "execution_count": 16,
   "id": "1b5bc964-0871-4d00-99a5-f07394d75e91",
   "metadata": {
    "tags": []
   },
   "outputs": [],
   "source": [
    "test_predictions = model_combined_deeper.predict([test_txt_tokens, test_tabular_input])\n",
    "test_predicted_classes = np.argmax(test_predictions, axis=1)\n",
    "test_class_names = label_encoder.inverse_transform(test_predicted_classes)"
   ]
  },
  {
   "cell_type": "code",
   "execution_count": 26,
   "id": "91d32b28-57cf-4497-9708-4531cc7885e1",
   "metadata": {
    "tags": []
   },
   "outputs": [
    {
     "data": {
      "text/plain": [
       "array(['Other mechanism', 'Falls, trips, etc.', 'Undetermined/unknown',\n",
       "       'Other mechanism', 'Other mechanism'], dtype=object)"
      ]
     },
     "execution_count": 26,
     "metadata": {},
     "output_type": "execute_result"
    }
   ],
   "source": [
    "test_class_names[0:5]"
   ]
  },
  {
   "cell_type": "code",
   "execution_count": 24,
   "id": "fd897ac4-e98b-40cb-b208-495addb78f59",
   "metadata": {
    "tags": []
   },
   "outputs": [],
   "source": [
    "new_predictions = model_combined_deeper.predict([new_txt_tokens, new_tabular_input])\n",
    "new_predicted_classes = np.argmax(new_predictions, axis=1)\n",
    "new_class_names = label_encoder.inverse_transform(new_predicted_classes)"
   ]
  },
  {
   "cell_type": "code",
   "execution_count": 25,
   "id": "33e4dd65-644c-49a0-9a4d-d3c0a783f6db",
   "metadata": {
    "tags": []
   },
   "outputs": [
    {
     "data": {
      "text/plain": [
       "array(['Other mechanism', 'Falls, trips, etc.', 'Falls, trips, etc.',\n",
       "       'Heat stroke', 'Falls, trips, etc.'], dtype=object)"
      ]
     },
     "execution_count": 25,
     "metadata": {},
     "output_type": "execute_result"
    }
   ],
   "source": [
    "new_class_names[0:5]"
   ]
  },
  {
   "cell_type": "code",
   "execution_count": 27,
   "id": "e3b537a9-a6cb-4218-8fbb-53540fce6186",
   "metadata": {
    "tags": []
   },
   "outputs": [
    {
     "data": {
      "text/plain": [
       "(989,)"
      ]
     },
     "execution_count": 27,
     "metadata": {},
     "output_type": "execute_result"
    }
   ],
   "source": [
    "new_class_names.shape"
   ]
  },
  {
   "cell_type": "code",
   "execution_count": 42,
   "id": "e390a44c-c33f-497c-a1cf-06c03477c9df",
   "metadata": {
    "tags": []
   },
   "outputs": [],
   "source": [
    "test_pred_df = pd.DataFrame( {'cpsc_case_number': test_df['cpsc_case_number'],  'pred': test_class_names} )\n",
    "new_pred_df = pd.DataFrame( {'cpsc_case_number': new_df['cpsc_case_number'],  'pred': new_class_names} )\n",
    "\n"
   ]
  },
  {
   "cell_type": "code",
   "execution_count": 43,
   "id": "d986ef97-9b53-4f31-b3b6-5a9cf816ff56",
   "metadata": {
    "tags": []
   },
   "outputs": [
    {
     "data": {
      "text/html": [
       "<div>\n",
       "<style scoped>\n",
       "    .dataframe tbody tr th:only-of-type {\n",
       "        vertical-align: middle;\n",
       "    }\n",
       "\n",
       "    .dataframe tbody tr th {\n",
       "        vertical-align: top;\n",
       "    }\n",
       "\n",
       "    .dataframe thead th {\n",
       "        text-align: right;\n",
       "    }\n",
       "</style>\n",
       "<table border=\"1\" class=\"dataframe\">\n",
       "  <thead>\n",
       "    <tr style=\"text-align: right;\">\n",
       "      <th></th>\n",
       "      <th>cpsc_case_number</th>\n",
       "      <th>pred</th>\n",
       "    </tr>\n",
       "  </thead>\n",
       "  <tbody>\n",
       "    <tr>\n",
       "      <th>0</th>\n",
       "      <td>110138052</td>\n",
       "      <td>Other mechanism</td>\n",
       "    </tr>\n",
       "    <tr>\n",
       "      <th>1</th>\n",
       "      <td>110138064</td>\n",
       "      <td>Falls, trips, etc.</td>\n",
       "    </tr>\n",
       "    <tr>\n",
       "      <th>2</th>\n",
       "      <td>110405877</td>\n",
       "      <td>Undetermined/unknown</td>\n",
       "    </tr>\n",
       "    <tr>\n",
       "      <th>3</th>\n",
       "      <td>120138578</td>\n",
       "      <td>Other mechanism</td>\n",
       "    </tr>\n",
       "    <tr>\n",
       "      <th>4</th>\n",
       "      <td>130206222</td>\n",
       "      <td>Other mechanism</td>\n",
       "    </tr>\n",
       "    <tr>\n",
       "      <th>...</th>\n",
       "      <td>...</td>\n",
       "      <td>...</td>\n",
       "    </tr>\n",
       "    <tr>\n",
       "      <th>395</th>\n",
       "      <td>191140591</td>\n",
       "      <td>Falls, trips, etc.</td>\n",
       "    </tr>\n",
       "    <tr>\n",
       "      <th>396</th>\n",
       "      <td>191143663</td>\n",
       "      <td>Other mechanism</td>\n",
       "    </tr>\n",
       "    <tr>\n",
       "      <th>397</th>\n",
       "      <td>191230480</td>\n",
       "      <td>Falls, trips, etc.</td>\n",
       "    </tr>\n",
       "    <tr>\n",
       "      <th>398</th>\n",
       "      <td>191243987</td>\n",
       "      <td>cardio/sync</td>\n",
       "    </tr>\n",
       "    <tr>\n",
       "      <th>399</th>\n",
       "      <td>191255048</td>\n",
       "      <td>Other mechanism</td>\n",
       "    </tr>\n",
       "  </tbody>\n",
       "</table>\n",
       "<p>400 rows × 2 columns</p>\n",
       "</div>"
      ],
      "text/plain": [
       "     cpsc_case_number                  pred\n",
       "0           110138052       Other mechanism\n",
       "1           110138064    Falls, trips, etc.\n",
       "2           110405877  Undetermined/unknown\n",
       "3           120138578       Other mechanism\n",
       "4           130206222       Other mechanism\n",
       "..                ...                   ...\n",
       "395         191140591    Falls, trips, etc.\n",
       "396         191143663       Other mechanism\n",
       "397         191230480    Falls, trips, etc.\n",
       "398         191243987           cardio/sync\n",
       "399         191255048       Other mechanism\n",
       "\n",
       "[400 rows x 2 columns]"
      ]
     },
     "execution_count": 43,
     "metadata": {},
     "output_type": "execute_result"
    }
   ],
   "source": [
    "test_pred_df"
   ]
  },
  {
   "cell_type": "code",
   "execution_count": 44,
   "id": "47343031-38d0-4d27-9c0a-5933145ab330",
   "metadata": {
    "tags": []
   },
   "outputs": [
    {
     "data": {
      "text/html": [
       "<div>\n",
       "<style scoped>\n",
       "    .dataframe tbody tr th:only-of-type {\n",
       "        vertical-align: middle;\n",
       "    }\n",
       "\n",
       "    .dataframe tbody tr th {\n",
       "        vertical-align: top;\n",
       "    }\n",
       "\n",
       "    .dataframe thead th {\n",
       "        text-align: right;\n",
       "    }\n",
       "</style>\n",
       "<table border=\"1\" class=\"dataframe\">\n",
       "  <thead>\n",
       "    <tr style=\"text-align: right;\">\n",
       "      <th></th>\n",
       "      <th>cpsc_case_number</th>\n",
       "      <th>pred</th>\n",
       "    </tr>\n",
       "  </thead>\n",
       "  <tbody>\n",
       "    <tr>\n",
       "      <th>0</th>\n",
       "      <td>200116261</td>\n",
       "      <td>Other mechanism</td>\n",
       "    </tr>\n",
       "    <tr>\n",
       "      <th>1</th>\n",
       "      <td>200120874</td>\n",
       "      <td>Falls, trips, etc.</td>\n",
       "    </tr>\n",
       "    <tr>\n",
       "      <th>2</th>\n",
       "      <td>200129029</td>\n",
       "      <td>Falls, trips, etc.</td>\n",
       "    </tr>\n",
       "    <tr>\n",
       "      <th>3</th>\n",
       "      <td>200129845</td>\n",
       "      <td>Heat stroke</td>\n",
       "    </tr>\n",
       "    <tr>\n",
       "      <th>4</th>\n",
       "      <td>200135303</td>\n",
       "      <td>Falls, trips, etc.</td>\n",
       "    </tr>\n",
       "    <tr>\n",
       "      <th>...</th>\n",
       "      <td>...</td>\n",
       "      <td>...</td>\n",
       "    </tr>\n",
       "    <tr>\n",
       "      <th>984</th>\n",
       "      <td>230130107</td>\n",
       "      <td>Falls, trips, etc.</td>\n",
       "    </tr>\n",
       "    <tr>\n",
       "      <th>985</th>\n",
       "      <td>230130109</td>\n",
       "      <td>Falls, trips, etc.</td>\n",
       "    </tr>\n",
       "    <tr>\n",
       "      <th>986</th>\n",
       "      <td>230132448</td>\n",
       "      <td>Falls, trips, etc.</td>\n",
       "    </tr>\n",
       "    <tr>\n",
       "      <th>987</th>\n",
       "      <td>230132505</td>\n",
       "      <td>Falls, trips, etc.</td>\n",
       "    </tr>\n",
       "    <tr>\n",
       "      <th>988</th>\n",
       "      <td>230156633</td>\n",
       "      <td>Other mechanism</td>\n",
       "    </tr>\n",
       "  </tbody>\n",
       "</table>\n",
       "<p>989 rows × 2 columns</p>\n",
       "</div>"
      ],
      "text/plain": [
       "     cpsc_case_number                pred\n",
       "0           200116261     Other mechanism\n",
       "1           200120874  Falls, trips, etc.\n",
       "2           200129029  Falls, trips, etc.\n",
       "3           200129845         Heat stroke\n",
       "4           200135303  Falls, trips, etc.\n",
       "..                ...                 ...\n",
       "984         230130107  Falls, trips, etc.\n",
       "985         230130109  Falls, trips, etc.\n",
       "986         230132448  Falls, trips, etc.\n",
       "987         230132505  Falls, trips, etc.\n",
       "988         230156633     Other mechanism\n",
       "\n",
       "[989 rows x 2 columns]"
      ]
     },
     "execution_count": 44,
     "metadata": {},
     "output_type": "execute_result"
    }
   ],
   "source": [
    "new_pred_df"
   ]
  },
  {
   "cell_type": "code",
   "execution_count": 29,
   "id": "a07bf2ef-cc32-4cbb-a4de-a4f1d1af825a",
   "metadata": {},
   "outputs": [],
   "source": [
    "model_combined.save_weights('../../Model Objects/keras_out_new_varsv1.h5')\n",
    "model_combined_deeper.save_weights('../../Model Objects/keras_out_new_vars_deeperv1.h5')"
   ]
  },
  {
   "cell_type": "code",
   "execution_count": null,
   "id": "c8b59762-1b60-43af-b3ea-51d91fc7507a",
   "metadata": {
    "tags": []
   },
   "outputs": [],
   "source": []
  },
  {
   "cell_type": "code",
   "execution_count": 33,
   "id": "653ed884-ce2a-4711-a343-d96a00fb2521",
   "metadata": {
    "tags": []
   },
   "outputs": [
    {
     "data": {
      "text/html": [
       "<div>\n",
       "<style scoped>\n",
       "    .dataframe tbody tr th:only-of-type {\n",
       "        vertical-align: middle;\n",
       "    }\n",
       "\n",
       "    .dataframe tbody tr th {\n",
       "        vertical-align: top;\n",
       "    }\n",
       "\n",
       "    .dataframe thead th {\n",
       "        text-align: right;\n",
       "    }\n",
       "</style>\n",
       "<table border=\"1\" class=\"dataframe\">\n",
       "  <thead>\n",
       "    <tr style=\"text-align: right;\">\n",
       "      <th></th>\n",
       "      <th>cpsc_case_number</th>\n",
       "    </tr>\n",
       "  </thead>\n",
       "  <tbody>\n",
       "    <tr>\n",
       "      <th>0</th>\n",
       "      <td>200116261</td>\n",
       "    </tr>\n",
       "    <tr>\n",
       "      <th>1</th>\n",
       "      <td>200120874</td>\n",
       "    </tr>\n",
       "    <tr>\n",
       "      <th>2</th>\n",
       "      <td>200129029</td>\n",
       "    </tr>\n",
       "    <tr>\n",
       "      <th>3</th>\n",
       "      <td>200129845</td>\n",
       "    </tr>\n",
       "    <tr>\n",
       "      <th>4</th>\n",
       "      <td>200135303</td>\n",
       "    </tr>\n",
       "    <tr>\n",
       "      <th>...</th>\n",
       "      <td>...</td>\n",
       "    </tr>\n",
       "    <tr>\n",
       "      <th>984</th>\n",
       "      <td>230130107</td>\n",
       "    </tr>\n",
       "    <tr>\n",
       "      <th>985</th>\n",
       "      <td>230130109</td>\n",
       "    </tr>\n",
       "    <tr>\n",
       "      <th>986</th>\n",
       "      <td>230132448</td>\n",
       "    </tr>\n",
       "    <tr>\n",
       "      <th>987</th>\n",
       "      <td>230132505</td>\n",
       "    </tr>\n",
       "    <tr>\n",
       "      <th>988</th>\n",
       "      <td>230156633</td>\n",
       "    </tr>\n",
       "  </tbody>\n",
       "</table>\n",
       "<p>989 rows × 1 columns</p>\n",
       "</div>"
      ],
      "text/plain": [
       "     cpsc_case_number\n",
       "0           200116261\n",
       "1           200120874\n",
       "2           200129029\n",
       "3           200129845\n",
       "4           200135303\n",
       "..                ...\n",
       "984         230130107\n",
       "985         230130109\n",
       "986         230132448\n",
       "987         230132505\n",
       "988         230156633\n",
       "\n",
       "[989 rows x 1 columns]"
      ]
     },
     "execution_count": 33,
     "metadata": {},
     "output_type": "execute_result"
    }
   ],
   "source": []
  },
  {
   "cell_type": "code",
   "execution_count": null,
   "id": "7be3a190-677d-4588-a3e3-c74e8b8f707b",
   "metadata": {
    "tags": []
   },
   "outputs": [],
   "source": []
  },
  {
   "cell_type": "code",
   "execution_count": null,
   "id": "79cee368-916f-44d6-8a6e-984d1842f3a2",
   "metadata": {},
   "outputs": [],
   "source": []
  },
  {
   "cell_type": "code",
   "execution_count": null,
   "id": "70ec5079-d77e-48f8-98e0-72b943e0bd51",
   "metadata": {
    "tags": []
   },
   "outputs": [],
   "source": []
  },
  {
   "cell_type": "code",
   "execution_count": null,
   "id": "30ed5691-3449-42e3-8f8b-4313b1901a40",
   "metadata": {
    "tags": []
   },
   "outputs": [],
   "source": []
  },
  {
   "cell_type": "code",
   "execution_count": null,
   "id": "eb98d532-c233-4773-94b2-1b83d3fc7bf7",
   "metadata": {
    "tags": []
   },
   "outputs": [],
   "source": []
  },
  {
   "cell_type": "code",
   "execution_count": null,
   "id": "18523ba5-7a74-4346-a816-acb33a0f5687",
   "metadata": {
    "tags": []
   },
   "outputs": [],
   "source": []
  },
  {
   "cell_type": "code",
   "execution_count": null,
   "id": "9fbbfff5-fc99-4cbc-bf2c-1740a43f9fc8",
   "metadata": {
    "tags": []
   },
   "outputs": [],
   "source": []
  },
  {
   "cell_type": "code",
   "execution_count": null,
   "id": "86a7c528-80a4-4c87-b70f-9e43a82afc03",
   "metadata": {},
   "outputs": [],
   "source": []
  }
 ],
 "metadata": {
  "kernelspec": {
   "display_name": "Python_3_7",
   "language": "python",
   "name": "python_3_7"
  },
  "language_info": {
   "codemirror_mode": {
    "name": "ipython",
    "version": 3
   },
   "file_extension": ".py",
   "mimetype": "text/x-python",
   "name": "python",
   "nbconvert_exporter": "python",
   "pygments_lexer": "ipython3",
   "version": "3.8.3rc1"
  }
 },
 "nbformat": 4,
 "nbformat_minor": 5
}
