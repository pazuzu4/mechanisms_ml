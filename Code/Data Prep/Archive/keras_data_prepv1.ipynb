{
 "cells": [
  {
   "cell_type": "code",
   "execution_count": 1,
   "id": "a4f863a6-430a-447c-8bbd-80c8babadf0e",
   "metadata": {
    "tags": []
   },
   "outputs": [],
   "source": [
    "from keras.preprocessing.text import Tokenizer\n",
    "from keras_preprocessing.sequence import pad_sequences\n",
    "from sklearn.preprocessing import LabelEncoder\n",
    "from sklearn.preprocessing import StandardScaler\n",
    "from tensorflow.keras.utils import to_categorical\n",
    "import tensorflow as tf\n",
    "import numpy as np\n",
    "import pandas as pd\n",
    "import os"
   ]
  },
  {
   "cell_type": "code",
   "execution_count": 2,
   "id": "d8364d81-4fe6-436c-9637-bd0453ca0533",
   "metadata": {
    "tags": []
   },
   "outputs": [],
   "source": [
    "def process_non_txt_data(in_df, has_label = True, n_classes = 7\n",
    "                 , label_col = 'primary_mechanism', num_cols = ['age']\n",
    "                 , cat_cols = ['diagnosis', 'sex', 'body_part' ]  ):\n",
    "#    features = NULL\n",
    "    features = in_df[num_cols].values\n",
    "    scaler = StandardScaler()\n",
    "    features_scaled = scaler.fit_transform(features)\n",
    "    \n",
    "    one_hot_tab_features = pd.get_dummies(in_df[cat_cols] )\n",
    "    one_hot_tab_features = one_hot_tab_features.values\n",
    "    \n",
    "    tabular_features_scaled = np.hstack([features_scaled, one_hot_tab_features])\n",
    "    \n",
    "    if has_label:\n",
    "        labels_np = np.array(in_df[label_col])\n",
    "        label_encoder = LabelEncoder()\n",
    "        y_integer_encoded = label_encoder.fit_transform(labels_np)\n",
    "        y_one_hot = to_categorical(y_integer_encoded, num_classes=n_classes)\n",
    "        return(tabular_features_scaled, y_one_hot)\n",
    "    else:\n",
    "        return(tabular_features_scaled)"
   ]
  },
  {
   "cell_type": "code",
   "execution_count": 3,
   "id": "7b1c851d-4048-4a6b-830b-8f3d0778c6a2",
   "metadata": {
    "tags": []
   },
   "outputs": [],
   "source": [
    "def tokenize_samples(txt_data, maxlen = 207, max_words = 100000):\n",
    "    text_np = np.array(txt_data )\n",
    "    \n",
    "    tokenizer = Tokenizer(num_words=max_words)\n",
    "    tokenizer.fit_on_texts(text_np)\n",
    "    sequences = tokenizer.texts_to_sequences(text_np)\n",
    "    \n",
    "    word_index = tokenizer.word_index\n",
    "    print('Found %s unique tokens.' % len(word_index))\n",
    "    text_input_clean = pad_sequences(sequences, maxlen=maxlen)\n",
    "    print('Shape of data tensor:', text_input_clean.shape)\n",
    "#    print('Shape of label tensor:', train_labels_np.shape)\n",
    "    \n",
    "    return(text_input_clean)"
   ]
  },
  {
   "cell_type": "code",
   "execution_count": 4,
   "id": "c528a1e1-8408-4736-81b9-5e7a7d6bd61a",
   "metadata": {
    "tags": []
   },
   "outputs": [],
   "source": [
    "narrative_path = '../../data_to_model/narrative_tbl_all.csv'\n",
    "train_path = '../../data_to_model/Train and Test Sets/train_df_count.csv'\n",
    "test_path = '../../data_to_model/Train and Test Sets/test_df_count.csv'\n",
    "new_path = '../../data_to_model/new_data_to_model_count.csv'"
   ]
  },
  {
   "cell_type": "code",
   "execution_count": 5,
   "id": "a9dff90a-befd-4ced-9547-894982f0215a",
   "metadata": {
    "tags": []
   },
   "outputs": [],
   "source": [
    "narrative_df = pd.read_csv(narrative_path)"
   ]
  },
  {
   "cell_type": "code",
   "execution_count": 6,
   "id": "f37316f8-2de7-40b4-bfec-7b2937788db4",
   "metadata": {
    "tags": []
   },
   "outputs": [],
   "source": [
    "train_df = pd.read_csv(train_path).merge(narrative_df,how='left', on=['cpsc_case_number'] )\n",
    "test_df = pd.read_csv(test_path).merge(narrative_df,how='left', on=['cpsc_case_number'] )\n",
    "new_df = pd.read_csv(new_path).merge(narrative_df,how='left', on=['cpsc_case_number'] )\n",
    "#train_df['cpsc_case_number']"
   ]
  },
  {
   "cell_type": "code",
   "execution_count": 15,
   "id": "df0219af-2ea4-435b-9e05-fbf29ee4d722",
   "metadata": {
    "tags": []
   },
   "outputs": [
    {
     "name": "stdout",
     "output_type": "stream",
     "text": [
      "(1591, 23)\n",
      "(400, 23)\n",
      "(989, 22)\n"
     ]
    }
   ],
   "source": [
    "print(train_df.shape)\n",
    "print(test_df.shape)\n",
    "print(new_df.shape)"
   ]
  },
  {
   "cell_type": "code",
   "execution_count": 14,
   "id": "9eb6ef9c-11fe-4f1a-8327-948bde3816f7",
   "metadata": {
    "tags": []
   },
   "outputs": [
    {
     "name": "stdout",
     "output_type": "stream",
     "text": [
      "(1591, 36)\n",
      "(400, 36)\n",
      "(989, 35)\n"
     ]
    }
   ],
   "source": [
    "train_tabular_input, y_train_one_hot = process_non_txt_data(in_df = train_df)\n",
    "test_tabular_input, y_test_one_hot = process_non_txt_data(in_df = test_df)\n",
    "new_tabular_input = process_non_txt_data(in_df = new_df, has_label = False)\n",
    "\n",
    "print(train_tabular_input.shape)\n",
    "print(test_tabular_input.shape)\n",
    "print(new_tabular_input.shape)\n",
    "#new_tabular_input"
   ]
  },
  {
   "cell_type": "code",
   "execution_count": null,
   "id": "fe842aa9-0933-4e49-aeef-83849831c8bb",
   "metadata": {
    "tags": []
   },
   "outputs": [],
   "source": []
  },
  {
   "cell_type": "code",
   "execution_count": null,
   "id": "7d9c24b9-8bd5-49c8-a559-a28409bc5c42",
   "metadata": {
    "tags": []
   },
   "outputs": [],
   "source": [
    "train_txt_tokens = tokenize_samples(train_df['narrative'])\n",
    "test_txt_tokens = tokenize_samples(test_df['narrative'])\n",
    "new_txt_tokens = tokenize_samples(new_df['narrative'])"
   ]
  },
  {
   "cell_type": "code",
   "execution_count": null,
   "id": "b89d413e-8df8-4443-99f6-10dd27dc3395",
   "metadata": {
    "tags": []
   },
   "outputs": [],
   "source": [
    "from keras.layers import Input, Embedding, Flatten, Dense, concatenate\n",
    "from keras.models import Model\n",
    "\n",
    "# Text input branch\n",
    "text_input = Input(shape=(maxlen,), dtype='int32', name='text_input')\n",
    "embedded_text = Embedding(max_words, 8)(text_input)\n",
    "flattened_text = Flatten()(embedded_text)\n",
    "\n",
    "# Tabular input branch\n",
    "tabular_input = Input(shape=(tabular_features_scaled.shape[1],), name='tabular_input')\n",
    "dense_tabular = Dense(16, activation='relu')(tabular_input)\n",
    "\n",
    "# Combine branches\n",
    "concatenated = concatenate([flattened_text, dense_tabular], axis=-1)\n",
    "output = Dense(7, activation='sigmoid')(concatenated)\n",
    "\n",
    "# Create and compile the model\n",
    "model_combined = Model(inputs=[text_input, tabular_input], outputs=output)\n",
    "model_combined.compile(optimizer='rmsprop', loss='binary_crossentropy', metrics=['accuracy'])\n",
    "model_combined.summary()"
   ]
  },
  {
   "cell_type": "code",
   "execution_count": null,
   "id": "b10b89b3-cb2e-44d7-91df-06b8956a66a4",
   "metadata": {
    "tags": []
   },
   "outputs": [],
   "source": [
    "history_combined = model_combined.fit([text_input_train, tabular_features_scaled], y_train_one_hot,\n",
    "epochs=80,\n",
    "batch_size=32,\n",
    "validation_split=.1)"
   ]
  },
  {
   "cell_type": "code",
   "execution_count": null,
   "id": "ce465c90-18fe-491e-b0ed-01aab7dfc91c",
   "metadata": {
    "tags": []
   },
   "outputs": [],
   "source": [
    "from keras.layers import Dropout"
   ]
  },
  {
   "cell_type": "code",
   "execution_count": null,
   "id": "13659797-747c-4446-8422-2ce9de69ae48",
   "metadata": {
    "tags": []
   },
   "outputs": [],
   "source": [
    "# Text input branch\n",
    "text_input_deeper = Input(shape=(maxlen,), dtype='int32', name='text_input')\n",
    "embedded_text_deeper = Embedding(max_words, 8)(text_input_deeper)\n",
    "flattened_text_deeper = Flatten()(embedded_text_deeper)\n",
    "\n",
    "# Tabular input branch\n",
    "tabular_input_deeper = Input(shape=(tabular_features_scaled.shape[1],), name='tabular_input')\n",
    "dense_tabular_p1 = Dense(64, activation='relu')(tabular_input_deeper)\n",
    "dropout1 = Dropout(0.5)(dense_tabular_p1)  # Dropout for regularization\n",
    "dense_tabular_deeper = Dense(32, activation='relu')(dropout1)\n",
    "\n",
    "# Combine branches\n",
    "concatenated_deeper = concatenate([flattened_text_deeper, dense_tabular_deeper], axis=-1)\n",
    "output_deeper = Dense(7, activation='sigmoid')(concatenated_deeper)\n",
    "\n",
    "# Create and compile the model\n",
    "model_combined_deeper = Model(inputs=[text_input_deeper, tabular_input_deeper], outputs=output_deeper)\n",
    "model_combined_deeper.compile(optimizer='rmsprop', loss='binary_crossentropy', metrics=['accuracy'])\n",
    "model_combined_deeper.summary()"
   ]
  },
  {
   "cell_type": "code",
   "execution_count": null,
   "id": "303dc81f-656b-483c-ac7d-8ee93567778d",
   "metadata": {
    "tags": []
   },
   "outputs": [],
   "source": [
    "history_combined_deeper = model_combined_deeper.fit([text_input_train, tabular_features_scaled], y_train_one_hot,\n",
    "epochs=80,\n",
    "batch_size=32,\n",
    "validation_split=.1)"
   ]
  },
  {
   "cell_type": "code",
   "execution_count": null,
   "id": "1b5bc964-0871-4d00-99a5-f07394d75e91",
   "metadata": {
    "tags": []
   },
   "outputs": [],
   "source": []
  },
  {
   "cell_type": "code",
   "execution_count": null,
   "id": "f093f106-e580-466a-ad36-4ba0ab9a8753",
   "metadata": {
    "tags": []
   },
   "outputs": [],
   "source": []
  },
  {
   "cell_type": "code",
   "execution_count": null,
   "id": "91d32b28-57cf-4497-9708-4531cc7885e1",
   "metadata": {
    "tags": []
   },
   "outputs": [],
   "source": []
  },
  {
   "cell_type": "code",
   "execution_count": null,
   "id": "a07bf2ef-cc32-4cbb-a4de-a4f1d1af825a",
   "metadata": {},
   "outputs": [],
   "source": [
    "model_combined.save_weights('../Model Objects/keras_out_new_varsv1.h5')\n",
    "model_combined_deeper.save_weights('../Model Objects/keras_out_new_vars_deeperv1.h5')"
   ]
  },
  {
   "cell_type": "code",
   "execution_count": null,
   "id": "c8b59762-1b60-43af-b3ea-51d91fc7507a",
   "metadata": {
    "tags": []
   },
   "outputs": [],
   "source": []
  },
  {
   "cell_type": "code",
   "execution_count": null,
   "id": "653ed884-ce2a-4711-a343-d96a00fb2521",
   "metadata": {
    "tags": []
   },
   "outputs": [],
   "source": []
  },
  {
   "cell_type": "code",
   "execution_count": null,
   "id": "7be3a190-677d-4588-a3e3-c74e8b8f707b",
   "metadata": {
    "tags": []
   },
   "outputs": [],
   "source": []
  },
  {
   "cell_type": "code",
   "execution_count": null,
   "id": "79cee368-916f-44d6-8a6e-984d1842f3a2",
   "metadata": {},
   "outputs": [],
   "source": []
  }
 ],
 "metadata": {
  "kernelspec": {
   "display_name": "Python_3_7",
   "language": "python",
   "name": "python_3_7"
  },
  "language_info": {
   "codemirror_mode": {
    "name": "ipython",
    "version": 3
   },
   "file_extension": ".py",
   "mimetype": "text/x-python",
   "name": "python",
   "nbconvert_exporter": "python",
   "pygments_lexer": "ipython3",
   "version": "3.8.3rc1"
  }
 },
 "nbformat": 4,
 "nbformat_minor": 5
}
