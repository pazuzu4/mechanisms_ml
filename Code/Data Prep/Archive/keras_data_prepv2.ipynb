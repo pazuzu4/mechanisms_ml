{
 "cells": [
  {
   "cell_type": "code",
   "execution_count": 1,
   "id": "a4f863a6-430a-447c-8bbd-80c8babadf0e",
   "metadata": {
    "tags": []
   },
   "outputs": [],
   "source": [
    "from keras.preprocessing.text import Tokenizer\n",
    "from keras_preprocessing.sequence import pad_sequences\n",
    "from sklearn.preprocessing import StandardScaler, OneHotEncoder, LabelEncoder\n",
    "from sklearn.compose import ColumnTransformer\n",
    "from tensorflow.keras.utils import to_categorical\n",
    "import tensorflow as tf\n",
    "import numpy as np\n",
    "import pandas as pd\n",
    "import os"
   ]
  },
  {
   "cell_type": "code",
   "execution_count": 2,
   "id": "a5f0da14-e9cb-4aa6-bbfc-210b76794baf",
   "metadata": {
    "tags": []
   },
   "outputs": [],
   "source": [
    "# Initialize and fit these in a setup or training script\n",
    "scaler = StandardScaler()\n",
    "one_hot_encoder = OneHotEncoder(handle_unknown='ignore')\n",
    "\n",
    "def fit_preprocessors(train_df_data, num_cols, cat_cols):\n",
    "    global scaler, one_hot_encoder\n",
    "    scaler.fit(train_df_data[num_cols])\n",
    "    one_hot_encoder.fit(train_df_data[cat_cols])\n",
    "\n",
    "def process_non_txt_data(in_df, has_label=True, n_classes=7, label_col='primary_mechanism', num_cols=['age'], cat_cols=['diagnosis', 'sex', 'body_part']):\n",
    "    features_scaled = scaler.transform(in_df[num_cols])\n",
    "    one_hot_tab_features = one_hot_encoder.transform(in_df[cat_cols]).toarray()\n",
    "    \n",
    "    tabular_features_scaled = np.hstack([features_scaled, one_hot_tab_features])\n",
    "    \n",
    "    if has_label:\n",
    "        labels_np = np.array(in_df[label_col])\n",
    "        label_encoder = LabelEncoder()\n",
    "        y_integer_encoded = label_encoder.fit_transform(labels_np)\n",
    "        y_one_hot = to_categorical(y_integer_encoded, num_classes=n_classes)\n",
    "        return (tabular_features_scaled, y_one_hot)\n",
    "    else:\n",
    "        return tabular_features_scaled\n"
   ]
  },
  {
   "cell_type": "code",
   "execution_count": 3,
   "id": "7b1c851d-4048-4a6b-830b-8f3d0778c6a2",
   "metadata": {
    "tags": []
   },
   "outputs": [],
   "source": [
    "# Initialize the tokenizer globally\n",
    "tokenizer = Tokenizer(num_words=100000)\n",
    "def fit_tokenizer(txt_data):\n",
    "    text_np = np.array(txt_data)\n",
    "    tokenizer.fit_on_texts(text_np)\n",
    "\n",
    "def tokenize_samples(txt_data, maxlen=207):\n",
    "    text_np = np.array(txt_data)\n",
    "    sequences = tokenizer.texts_to_sequences(text_np)\n",
    "    text_input_clean = pad_sequences(sequences, maxlen=maxlen)\n",
    "    print('Shape of data tensor:', text_input_clean.shape)\n",
    "    return(text_input_clean)"
   ]
  },
  {
   "cell_type": "code",
   "execution_count": 4,
   "id": "c528a1e1-8408-4736-81b9-5e7a7d6bd61a",
   "metadata": {
    "tags": []
   },
   "outputs": [],
   "source": [
    "narrative_path = '../../data_to_model/narrative_tbl_all.csv'\n",
    "train_path = '../../data_to_model/Train and Test Sets/train_df_count.csv'\n",
    "test_path = '../../data_to_model/Train and Test Sets/test_df_count.csv'\n",
    "new_path = '../../data_to_model/new_data_to_model_count.csv'"
   ]
  },
  {
   "cell_type": "code",
   "execution_count": 5,
   "id": "a9dff90a-befd-4ced-9547-894982f0215a",
   "metadata": {
    "tags": []
   },
   "outputs": [],
   "source": [
    "narrative_df = pd.read_csv(narrative_path)"
   ]
  },
  {
   "cell_type": "code",
   "execution_count": 6,
   "id": "f37316f8-2de7-40b4-bfec-7b2937788db4",
   "metadata": {
    "tags": []
   },
   "outputs": [],
   "source": [
    "train_df = pd.read_csv(train_path).merge(narrative_df,how='left', on=['cpsc_case_number'] )\n",
    "test_df = pd.read_csv(test_path).merge(narrative_df,how='left', on=['cpsc_case_number'] )\n",
    "new_df = pd.read_csv(new_path).merge(narrative_df,how='left', on=['cpsc_case_number'] )\n",
    "#train_df['cpsc_case_number']"
   ]
  },
  {
   "cell_type": "code",
   "execution_count": 7,
   "id": "d8364d81-4fe6-436c-9637-bd0453ca0533",
   "metadata": {
    "tags": []
   },
   "outputs": [],
   "source": [
    "fit_preprocessors(train_df, num_cols =['age'], cat_cols =['diagnosis', 'sex', 'body_part'])\n",
    "fit_tokenizer(train_df['narrative'])"
   ]
  },
  {
   "cell_type": "code",
   "execution_count": 8,
   "id": "df0219af-2ea4-435b-9e05-fbf29ee4d722",
   "metadata": {
    "tags": []
   },
   "outputs": [
    {
     "name": "stdout",
     "output_type": "stream",
     "text": [
      "(1591, 23)\n",
      "(400, 23)\n",
      "(989, 22)\n"
     ]
    }
   ],
   "source": [
    "print(train_df.shape)\n",
    "print(test_df.shape)\n",
    "print(new_df.shape)"
   ]
  },
  {
   "cell_type": "code",
   "execution_count": 9,
   "id": "9eb6ef9c-11fe-4f1a-8327-948bde3816f7",
   "metadata": {
    "tags": []
   },
   "outputs": [
    {
     "name": "stdout",
     "output_type": "stream",
     "text": [
      "(1591, 36)\n",
      "(400, 36)\n",
      "(989, 36)\n"
     ]
    }
   ],
   "source": [
    "train_tabular_input, y_train_one_hot = process_non_txt_data(in_df = train_df)\n",
    "test_tabular_input, y_test_one_hot = process_non_txt_data(in_df = test_df)\n",
    "new_tabular_input = process_non_txt_data(in_df = new_df, has_label = False)\n",
    "\n",
    "print(train_tabular_input.shape)\n",
    "print(test_tabular_input.shape)\n",
    "print(new_tabular_input.shape)\n",
    "#new_tabular_input"
   ]
  },
  {
   "cell_type": "code",
   "execution_count": 10,
   "id": "7d9c24b9-8bd5-49c8-a559-a28409bc5c42",
   "metadata": {
    "tags": []
   },
   "outputs": [
    {
     "name": "stdout",
     "output_type": "stream",
     "text": [
      "Shape of data tensor: (1591, 207)\n",
      "Shape of data tensor: (400, 207)\n",
      "Shape of data tensor: (989, 207)\n"
     ]
    }
   ],
   "source": [
    "train_txt_tokens = tokenize_samples(train_df['narrative'])\n",
    "test_txt_tokens = tokenize_samples(test_df['narrative'])\n",
    "new_txt_tokens = tokenize_samples(new_df['narrative'])"
   ]
  },
  {
   "cell_type": "code",
   "execution_count": 11,
   "id": "b89d413e-8df8-4443-99f6-10dd27dc3395",
   "metadata": {
    "tags": []
   },
   "outputs": [
    {
     "name": "stdout",
     "output_type": "stream",
     "text": [
      "Model: \"model\"\n",
      "__________________________________________________________________________________________________\n",
      "Layer (type)                    Output Shape         Param #     Connected to                     \n",
      "==================================================================================================\n",
      "text_input (InputLayer)         [(None, 207)]        0                                            \n",
      "__________________________________________________________________________________________________\n",
      "embedding (Embedding)           (None, 207, 8)       800000      text_input[0][0]                 \n",
      "__________________________________________________________________________________________________\n",
      "tabular_input (InputLayer)      [(None, 36)]         0                                            \n",
      "__________________________________________________________________________________________________\n",
      "flatten (Flatten)               (None, 1656)         0           embedding[0][0]                  \n",
      "__________________________________________________________________________________________________\n",
      "dense (Dense)                   (None, 16)           592         tabular_input[0][0]              \n",
      "__________________________________________________________________________________________________\n",
      "concatenate (Concatenate)       (None, 1672)         0           flatten[0][0]                    \n",
      "                                                                 dense[0][0]                      \n",
      "__________________________________________________________________________________________________\n",
      "dense_1 (Dense)                 (None, 7)            11711       concatenate[0][0]                \n",
      "==================================================================================================\n",
      "Total params: 812,303\n",
      "Trainable params: 812,303\n",
      "Non-trainable params: 0\n",
      "__________________________________________________________________________________________________\n"
     ]
    }
   ],
   "source": [
    "from keras.layers import Input, Embedding, Flatten, Dense, concatenate\n",
    "from keras.models import Model\n",
    "\n",
    "maxlen=207\n",
    "max_words = 100000\n",
    "\n",
    "# Text input branch\n",
    "text_input = Input(shape=(maxlen,), dtype='int32', name='text_input')\n",
    "embedded_text = Embedding(max_words, 8)(text_input)\n",
    "flattened_text = Flatten()(embedded_text)\n",
    "\n",
    "# Tabular input branch\n",
    "tabular_input = Input(shape=(train_tabular_input.shape[1],), name='tabular_input')\n",
    "dense_tabular = Dense(16, activation='relu')(tabular_input)\n",
    "\n",
    "# Combine branches\n",
    "concatenated = concatenate([flattened_text, dense_tabular], axis=-1)\n",
    "output = Dense(7, activation='sigmoid')(concatenated)\n",
    "\n",
    "# Create and compile the model\n",
    "model_combined = Model(inputs=[text_input, tabular_input], outputs=output)\n",
    "model_combined.compile(optimizer='rmsprop', loss='binary_crossentropy', metrics=['accuracy'])\n",
    "model_combined.summary()"
   ]
  },
  {
   "cell_type": "code",
   "execution_count": 12,
   "id": "b10b89b3-cb2e-44d7-91df-06b8956a66a4",
   "metadata": {
    "tags": []
   },
   "outputs": [
    {
     "name": "stdout",
     "output_type": "stream",
     "text": [
      "Epoch 1/80\n",
      "45/45 [==============================] - 1s 15ms/step - loss: 0.3777 - accuracy: 0.5262 - val_loss: 0.5137 - val_accuracy: 0.0000e+00\n",
      "Epoch 2/80\n",
      "45/45 [==============================] - 0s 10ms/step - loss: 0.2964 - accuracy: 0.5381 - val_loss: 0.4705 - val_accuracy: 0.0000e+00\n",
      "Epoch 3/80\n",
      "45/45 [==============================] - 0s 10ms/step - loss: 0.2719 - accuracy: 0.5751 - val_loss: 0.4740 - val_accuracy: 0.0000e+00\n",
      "Epoch 4/80\n",
      "45/45 [==============================] - 0s 10ms/step - loss: 0.2437 - accuracy: 0.6646 - val_loss: 0.4242 - val_accuracy: 0.0000e+00\n",
      "Epoch 5/80\n",
      "45/45 [==============================] - 0s 10ms/step - loss: 0.2177 - accuracy: 0.6953 - val_loss: 0.3824 - val_accuracy: 0.0375\n",
      "Epoch 6/80\n",
      "45/45 [==============================] - 0s 10ms/step - loss: 0.1968 - accuracy: 0.7205 - val_loss: 0.3905 - val_accuracy: 0.0625\n",
      "Epoch 7/80\n",
      "45/45 [==============================] - 0s 11ms/step - loss: 0.1803 - accuracy: 0.7484 - val_loss: 0.3106 - val_accuracy: 0.4437\n",
      "Epoch 8/80\n",
      "45/45 [==============================] - 0s 11ms/step - loss: 0.1671 - accuracy: 0.7848 - val_loss: 0.3140 - val_accuracy: 0.4437\n",
      "Epoch 9/80\n",
      "45/45 [==============================] - 0s 10ms/step - loss: 0.1561 - accuracy: 0.7973 - val_loss: 0.2961 - val_accuracy: 0.4938\n",
      "Epoch 10/80\n",
      "45/45 [==============================] - 0s 10ms/step - loss: 0.1463 - accuracy: 0.8078 - val_loss: 0.2913 - val_accuracy: 0.4875\n",
      "Epoch 11/80\n",
      "45/45 [==============================] - 0s 10ms/step - loss: 0.1379 - accuracy: 0.8134 - val_loss: 0.2697 - val_accuracy: 0.5625\n",
      "Epoch 12/80\n",
      "45/45 [==============================] - 0s 10ms/step - loss: 0.1299 - accuracy: 0.8274 - val_loss: 0.2504 - val_accuracy: 0.6125\n",
      "Epoch 13/80\n",
      "45/45 [==============================] - 0s 10ms/step - loss: 0.1229 - accuracy: 0.8421 - val_loss: 0.2395 - val_accuracy: 0.6313\n",
      "Epoch 14/80\n",
      "45/45 [==============================] - 0s 10ms/step - loss: 0.1167 - accuracy: 0.8532 - val_loss: 0.2326 - val_accuracy: 0.6438\n",
      "Epoch 15/80\n",
      "45/45 [==============================] - 0s 9ms/step - loss: 0.1107 - accuracy: 0.8630 - val_loss: 0.2262 - val_accuracy: 0.6562\n",
      "Epoch 16/80\n",
      "45/45 [==============================] - 0s 10ms/step - loss: 0.1054 - accuracy: 0.8686 - val_loss: 0.2351 - val_accuracy: 0.6375\n",
      "Epoch 17/80\n",
      "45/45 [==============================] - 0s 9ms/step - loss: 0.1005 - accuracy: 0.8763 - val_loss: 0.2124 - val_accuracy: 0.6938\n",
      "Epoch 18/80\n",
      "45/45 [==============================] - 0s 9ms/step - loss: 0.0957 - accuracy: 0.8868 - val_loss: 0.2202 - val_accuracy: 0.6812\n",
      "Epoch 19/80\n",
      "45/45 [==============================] - 0s 9ms/step - loss: 0.0913 - accuracy: 0.8931 - val_loss: 0.2198 - val_accuracy: 0.6812\n",
      "Epoch 20/80\n",
      "45/45 [==============================] - 0s 9ms/step - loss: 0.0873 - accuracy: 0.9029 - val_loss: 0.2058 - val_accuracy: 0.7437\n",
      "Epoch 21/80\n",
      "45/45 [==============================] - 0s 10ms/step - loss: 0.0834 - accuracy: 0.9085 - val_loss: 0.2032 - val_accuracy: 0.7375\n",
      "Epoch 22/80\n",
      "45/45 [==============================] - 0s 9ms/step - loss: 0.0793 - accuracy: 0.9140 - val_loss: 0.2026 - val_accuracy: 0.7250\n",
      "Epoch 23/80\n",
      "45/45 [==============================] - 0s 10ms/step - loss: 0.0763 - accuracy: 0.9182 - val_loss: 0.1946 - val_accuracy: 0.7500\n",
      "Epoch 24/80\n",
      "45/45 [==============================] - 0s 10ms/step - loss: 0.0728 - accuracy: 0.9217 - val_loss: 0.1996 - val_accuracy: 0.7437\n",
      "Epoch 25/80\n",
      "45/45 [==============================] - 0s 9ms/step - loss: 0.0698 - accuracy: 0.9259 - val_loss: 0.1955 - val_accuracy: 0.7437\n",
      "Epoch 26/80\n",
      "45/45 [==============================] - 0s 10ms/step - loss: 0.0666 - accuracy: 0.9280 - val_loss: 0.1973 - val_accuracy: 0.7437\n",
      "Epoch 27/80\n",
      "45/45 [==============================] - 0s 9ms/step - loss: 0.0638 - accuracy: 0.9336 - val_loss: 0.1934 - val_accuracy: 0.7500\n",
      "Epoch 28/80\n",
      "45/45 [==============================] - 0s 9ms/step - loss: 0.0613 - accuracy: 0.9343 - val_loss: 0.1912 - val_accuracy: 0.7437\n",
      "Epoch 29/80\n",
      "45/45 [==============================] - 0s 9ms/step - loss: 0.0584 - accuracy: 0.9399 - val_loss: 0.1820 - val_accuracy: 0.7625\n",
      "Epoch 30/80\n",
      "45/45 [==============================] - 0s 10ms/step - loss: 0.0561 - accuracy: 0.9399 - val_loss: 0.1886 - val_accuracy: 0.7500\n",
      "Epoch 31/80\n",
      "45/45 [==============================] - 0s 10ms/step - loss: 0.0537 - accuracy: 0.9448 - val_loss: 0.1916 - val_accuracy: 0.7500\n",
      "Epoch 32/80\n",
      "45/45 [==============================] - 0s 9ms/step - loss: 0.0512 - accuracy: 0.9497 - val_loss: 0.1739 - val_accuracy: 0.7812\n",
      "Epoch 33/80\n",
      "45/45 [==============================] - 0s 10ms/step - loss: 0.0493 - accuracy: 0.9497 - val_loss: 0.1836 - val_accuracy: 0.7625\n",
      "Epoch 34/80\n",
      "45/45 [==============================] - 0s 9ms/step - loss: 0.0472 - accuracy: 0.9518 - val_loss: 0.1828 - val_accuracy: 0.7625\n",
      "Epoch 35/80\n",
      "45/45 [==============================] - 0s 10ms/step - loss: 0.0452 - accuracy: 0.9546 - val_loss: 0.1818 - val_accuracy: 0.7625\n",
      "Epoch 36/80\n",
      "45/45 [==============================] - 0s 10ms/step - loss: 0.0432 - accuracy: 0.9567 - val_loss: 0.1839 - val_accuracy: 0.7563\n",
      "Epoch 37/80\n",
      "45/45 [==============================] - 0s 9ms/step - loss: 0.0415 - accuracy: 0.9581 - val_loss: 0.1749 - val_accuracy: 0.7875\n",
      "Epoch 38/80\n",
      "45/45 [==============================] - 0s 9ms/step - loss: 0.0397 - accuracy: 0.9581 - val_loss: 0.1854 - val_accuracy: 0.7625\n",
      "Epoch 39/80\n",
      "45/45 [==============================] - 0s 10ms/step - loss: 0.0380 - accuracy: 0.9623 - val_loss: 0.1791 - val_accuracy: 0.7625\n",
      "Epoch 40/80\n",
      "45/45 [==============================] - 0s 9ms/step - loss: 0.0364 - accuracy: 0.9658 - val_loss: 0.1876 - val_accuracy: 0.7563\n",
      "Epoch 41/80\n",
      "45/45 [==============================] - 0s 9ms/step - loss: 0.0348 - accuracy: 0.9644 - val_loss: 0.1870 - val_accuracy: 0.7688\n",
      "Epoch 42/80\n",
      "45/45 [==============================] - 0s 9ms/step - loss: 0.0333 - accuracy: 0.9679 - val_loss: 0.1764 - val_accuracy: 0.7812\n",
      "Epoch 43/80\n",
      "45/45 [==============================] - 0s 10ms/step - loss: 0.0318 - accuracy: 0.9700 - val_loss: 0.1834 - val_accuracy: 0.7812\n",
      "Epoch 44/80\n",
      "45/45 [==============================] - 0s 10ms/step - loss: 0.0304 - accuracy: 0.9713 - val_loss: 0.1836 - val_accuracy: 0.7812\n",
      "Epoch 45/80\n",
      "45/45 [==============================] - 0s 10ms/step - loss: 0.0289 - accuracy: 0.9755 - val_loss: 0.1887 - val_accuracy: 0.7750\n",
      "Epoch 46/80\n",
      "45/45 [==============================] - 0s 9ms/step - loss: 0.0278 - accuracy: 0.9769 - val_loss: 0.1837 - val_accuracy: 0.7875\n",
      "Epoch 47/80\n",
      "45/45 [==============================] - 0s 10ms/step - loss: 0.0264 - accuracy: 0.9762 - val_loss: 0.1794 - val_accuracy: 0.7875\n",
      "Epoch 48/80\n",
      "45/45 [==============================] - 0s 9ms/step - loss: 0.0253 - accuracy: 0.9818 - val_loss: 0.1781 - val_accuracy: 0.7937\n",
      "Epoch 49/80\n",
      "45/45 [==============================] - 0s 9ms/step - loss: 0.0242 - accuracy: 0.9839 - val_loss: 0.1855 - val_accuracy: 0.7812\n",
      "Epoch 50/80\n",
      "45/45 [==============================] - 0s 9ms/step - loss: 0.0231 - accuracy: 0.9860 - val_loss: 0.1821 - val_accuracy: 0.7875\n",
      "Epoch 51/80\n",
      "45/45 [==============================] - 0s 9ms/step - loss: 0.0220 - accuracy: 0.9874 - val_loss: 0.1865 - val_accuracy: 0.7875\n",
      "Epoch 52/80\n",
      "45/45 [==============================] - 0s 9ms/step - loss: 0.0209 - accuracy: 0.9874 - val_loss: 0.1884 - val_accuracy: 0.7875\n",
      "Epoch 53/80\n",
      "45/45 [==============================] - 0s 10ms/step - loss: 0.0199 - accuracy: 0.9888 - val_loss: 0.1875 - val_accuracy: 0.7812\n",
      "Epoch 54/80\n",
      "45/45 [==============================] - 0s 9ms/step - loss: 0.0190 - accuracy: 0.9909 - val_loss: 0.1840 - val_accuracy: 0.7937\n",
      "Epoch 55/80\n",
      "45/45 [==============================] - 0s 10ms/step - loss: 0.0181 - accuracy: 0.9937 - val_loss: 0.1883 - val_accuracy: 0.8062\n",
      "Epoch 56/80\n",
      "45/45 [==============================] - 0s 9ms/step - loss: 0.0172 - accuracy: 0.9916 - val_loss: 0.1901 - val_accuracy: 0.7875\n",
      "Epoch 57/80\n",
      "45/45 [==============================] - 0s 10ms/step - loss: 0.0164 - accuracy: 0.9944 - val_loss: 0.1967 - val_accuracy: 0.7688\n",
      "Epoch 58/80\n",
      "45/45 [==============================] - 0s 10ms/step - loss: 0.0155 - accuracy: 0.9951 - val_loss: 0.1954 - val_accuracy: 0.7875\n",
      "Epoch 59/80\n",
      "45/45 [==============================] - 0s 9ms/step - loss: 0.0148 - accuracy: 0.9937 - val_loss: 0.1957 - val_accuracy: 0.8000\n",
      "Epoch 60/80\n",
      "45/45 [==============================] - 0s 9ms/step - loss: 0.0141 - accuracy: 0.9951 - val_loss: 0.1938 - val_accuracy: 0.7937\n",
      "Epoch 61/80\n",
      "45/45 [==============================] - 0s 10ms/step - loss: 0.0134 - accuracy: 0.9951 - val_loss: 0.1978 - val_accuracy: 0.8062\n",
      "Epoch 62/80\n",
      "45/45 [==============================] - 0s 10ms/step - loss: 0.0127 - accuracy: 0.9958 - val_loss: 0.2000 - val_accuracy: 0.8000\n",
      "Epoch 63/80\n",
      "45/45 [==============================] - 0s 9ms/step - loss: 0.0120 - accuracy: 0.9958 - val_loss: 0.1979 - val_accuracy: 0.7937\n",
      "Epoch 64/80\n",
      "45/45 [==============================] - 0s 9ms/step - loss: 0.0114 - accuracy: 0.9958 - val_loss: 0.1980 - val_accuracy: 0.8062\n",
      "Epoch 65/80\n",
      "45/45 [==============================] - 0s 10ms/step - loss: 0.0108 - accuracy: 0.9958 - val_loss: 0.2086 - val_accuracy: 0.7750\n",
      "Epoch 66/80\n",
      "45/45 [==============================] - 0s 9ms/step - loss: 0.0102 - accuracy: 0.9965 - val_loss: 0.2060 - val_accuracy: 0.7875\n",
      "Epoch 67/80\n",
      "45/45 [==============================] - 0s 10ms/step - loss: 0.0097 - accuracy: 0.9972 - val_loss: 0.2135 - val_accuracy: 0.7750\n",
      "Epoch 68/80\n",
      "45/45 [==============================] - 0s 10ms/step - loss: 0.0091 - accuracy: 0.9972 - val_loss: 0.2105 - val_accuracy: 0.7875\n",
      "Epoch 69/80\n",
      "45/45 [==============================] - 0s 9ms/step - loss: 0.0086 - accuracy: 0.9972 - val_loss: 0.2090 - val_accuracy: 0.8000\n",
      "Epoch 70/80\n",
      "45/45 [==============================] - 0s 9ms/step - loss: 0.0081 - accuracy: 0.9972 - val_loss: 0.2046 - val_accuracy: 0.8125\n",
      "Epoch 71/80\n",
      "45/45 [==============================] - 0s 9ms/step - loss: 0.0077 - accuracy: 0.9979 - val_loss: 0.2106 - val_accuracy: 0.7875\n",
      "Epoch 72/80\n",
      "45/45 [==============================] - 0s 10ms/step - loss: 0.0072 - accuracy: 0.9972 - val_loss: 0.2098 - val_accuracy: 0.7875\n",
      "Epoch 73/80\n",
      "45/45 [==============================] - 0s 10ms/step - loss: 0.0068 - accuracy: 0.9972 - val_loss: 0.2171 - val_accuracy: 0.7875\n",
      "Epoch 74/80\n",
      "45/45 [==============================] - 0s 10ms/step - loss: 0.0064 - accuracy: 0.9986 - val_loss: 0.2209 - val_accuracy: 0.7750\n",
      "Epoch 75/80\n",
      "45/45 [==============================] - 0s 10ms/step - loss: 0.0060 - accuracy: 0.9986 - val_loss: 0.2205 - val_accuracy: 0.7750\n",
      "Epoch 76/80\n",
      "45/45 [==============================] - 0s 10ms/step - loss: 0.0057 - accuracy: 0.9986 - val_loss: 0.2215 - val_accuracy: 0.7812\n",
      "Epoch 77/80\n",
      "45/45 [==============================] - 0s 9ms/step - loss: 0.0053 - accuracy: 0.9986 - val_loss: 0.2251 - val_accuracy: 0.7812\n",
      "Epoch 78/80\n",
      "45/45 [==============================] - 0s 10ms/step - loss: 0.0051 - accuracy: 0.9986 - val_loss: 0.2264 - val_accuracy: 0.7812\n",
      "Epoch 79/80\n",
      "45/45 [==============================] - 0s 10ms/step - loss: 0.0047 - accuracy: 0.9986 - val_loss: 0.2291 - val_accuracy: 0.7688\n",
      "Epoch 80/80\n",
      "45/45 [==============================] - 0s 9ms/step - loss: 0.0044 - accuracy: 0.9993 - val_loss: 0.2366 - val_accuracy: 0.7688\n"
     ]
    }
   ],
   "source": [
    "history_combined = model_combined.fit([train_txt_tokens, train_tabular_input], y_train_one_hot,\n",
    "epochs=80,\n",
    "batch_size=32,\n",
    "validation_split=.1)"
   ]
  },
  {
   "cell_type": "code",
   "execution_count": 13,
   "id": "ce465c90-18fe-491e-b0ed-01aab7dfc91c",
   "metadata": {
    "tags": []
   },
   "outputs": [],
   "source": [
    "from keras.layers import Dropout"
   ]
  },
  {
   "cell_type": "code",
   "execution_count": 14,
   "id": "13659797-747c-4446-8422-2ce9de69ae48",
   "metadata": {
    "tags": []
   },
   "outputs": [
    {
     "ename": "NameError",
     "evalue": "name 'tabular_features_scaled' is not defined",
     "output_type": "error",
     "traceback": [
      "\u001b[1;31m---------------------------------------------------------------------------\u001b[0m",
      "\u001b[1;31mNameError\u001b[0m                                 Traceback (most recent call last)",
      "\u001b[1;32m<ipython-input-14-3703d70a15a7>\u001b[0m in \u001b[0;36m<module>\u001b[1;34m\u001b[0m\n\u001b[0;32m      5\u001b[0m \u001b[1;33m\u001b[0m\u001b[0m\n\u001b[0;32m      6\u001b[0m \u001b[1;31m# Tabular input branch\u001b[0m\u001b[1;33m\u001b[0m\u001b[1;33m\u001b[0m\u001b[1;33m\u001b[0m\u001b[0m\n\u001b[1;32m----> 7\u001b[1;33m \u001b[0mtabular_input_deeper\u001b[0m \u001b[1;33m=\u001b[0m \u001b[0mInput\u001b[0m\u001b[1;33m(\u001b[0m\u001b[0mshape\u001b[0m\u001b[1;33m=\u001b[0m\u001b[1;33m(\u001b[0m\u001b[0mtabular_features_scaled\u001b[0m\u001b[1;33m.\u001b[0m\u001b[0mshape\u001b[0m\u001b[1;33m[\u001b[0m\u001b[1;36m1\u001b[0m\u001b[1;33m]\u001b[0m\u001b[1;33m,\u001b[0m\u001b[1;33m)\u001b[0m\u001b[1;33m,\u001b[0m \u001b[0mname\u001b[0m\u001b[1;33m=\u001b[0m\u001b[1;34m'tabular_input'\u001b[0m\u001b[1;33m)\u001b[0m\u001b[1;33m\u001b[0m\u001b[1;33m\u001b[0m\u001b[0m\n\u001b[0m\u001b[0;32m      8\u001b[0m \u001b[0mdense_tabular_p1\u001b[0m \u001b[1;33m=\u001b[0m \u001b[0mDense\u001b[0m\u001b[1;33m(\u001b[0m\u001b[1;36m64\u001b[0m\u001b[1;33m,\u001b[0m \u001b[0mactivation\u001b[0m\u001b[1;33m=\u001b[0m\u001b[1;34m'relu'\u001b[0m\u001b[1;33m)\u001b[0m\u001b[1;33m(\u001b[0m\u001b[0mtabular_input_deeper\u001b[0m\u001b[1;33m)\u001b[0m\u001b[1;33m\u001b[0m\u001b[1;33m\u001b[0m\u001b[0m\n\u001b[0;32m      9\u001b[0m \u001b[0mdropout1\u001b[0m \u001b[1;33m=\u001b[0m \u001b[0mDropout\u001b[0m\u001b[1;33m(\u001b[0m\u001b[1;36m0.5\u001b[0m\u001b[1;33m)\u001b[0m\u001b[1;33m(\u001b[0m\u001b[0mdense_tabular_p1\u001b[0m\u001b[1;33m)\u001b[0m  \u001b[1;31m# Dropout for regularization\u001b[0m\u001b[1;33m\u001b[0m\u001b[1;33m\u001b[0m\u001b[0m\n",
      "\u001b[1;31mNameError\u001b[0m: name 'tabular_features_scaled' is not defined"
     ]
    }
   ],
   "source": [
    "# Text input branch\n",
    "text_input_deeper = Input(shape=(maxlen,), dtype='int32', name='text_input')\n",
    "embedded_text_deeper = Embedding(max_words, 8)(text_input_deeper)\n",
    "flattened_text_deeper = Flatten()(embedded_text_deeper)\n",
    "\n",
    "# Tabular input branch\n",
    "tabular_input_deeper = Input(shape=(train_tabular_input.shape[1],), name='tabular_input')\n",
    "dense_tabular_p1 = Dense(64, activation='relu')(tabular_input_deeper)\n",
    "dropout1 = Dropout(0.5)(dense_tabular_p1)  # Dropout for regularization\n",
    "dense_tabular_deeper = Dense(32, activation='relu')(dropout1)\n",
    "\n",
    "# Combine branches\n",
    "concatenated_deeper = concatenate([flattened_text_deeper, dense_tabular_deeper], axis=-1)\n",
    "output_deeper = Dense(7, activation='sigmoid')(concatenated_deeper)\n",
    "\n",
    "# Create and compile the model\n",
    "model_combined_deeper = Model(inputs=[text_input_deeper, tabular_input_deeper], outputs=output_deeper)\n",
    "model_combined_deeper.compile(optimizer='rmsprop', loss='binary_crossentropy', metrics=['accuracy'])\n",
    "model_combined_deeper.summary()"
   ]
  },
  {
   "cell_type": "code",
   "execution_count": null,
   "id": "303dc81f-656b-483c-ac7d-8ee93567778d",
   "metadata": {
    "tags": []
   },
   "outputs": [],
   "source": [
    "history_combined_deeper = model_combined_deeper.fit([text_input_train, tabular_features_scaled], y_train_one_hot,\n",
    "epochs=80,\n",
    "batch_size=32,\n",
    "validation_split=.1)"
   ]
  },
  {
   "cell_type": "code",
   "execution_count": null,
   "id": "1b5bc964-0871-4d00-99a5-f07394d75e91",
   "metadata": {
    "tags": []
   },
   "outputs": [],
   "source": []
  },
  {
   "cell_type": "code",
   "execution_count": null,
   "id": "f093f106-e580-466a-ad36-4ba0ab9a8753",
   "metadata": {
    "tags": []
   },
   "outputs": [],
   "source": []
  },
  {
   "cell_type": "code",
   "execution_count": null,
   "id": "91d32b28-57cf-4497-9708-4531cc7885e1",
   "metadata": {
    "tags": []
   },
   "outputs": [],
   "source": []
  },
  {
   "cell_type": "code",
   "execution_count": null,
   "id": "a07bf2ef-cc32-4cbb-a4de-a4f1d1af825a",
   "metadata": {},
   "outputs": [],
   "source": [
    "model_combined.save_weights('../Model Objects/keras_out_new_varsv1.h5')\n",
    "model_combined_deeper.save_weights('../Model Objects/keras_out_new_vars_deeperv1.h5')"
   ]
  },
  {
   "cell_type": "code",
   "execution_count": null,
   "id": "c8b59762-1b60-43af-b3ea-51d91fc7507a",
   "metadata": {
    "tags": []
   },
   "outputs": [],
   "source": []
  },
  {
   "cell_type": "code",
   "execution_count": null,
   "id": "653ed884-ce2a-4711-a343-d96a00fb2521",
   "metadata": {
    "tags": []
   },
   "outputs": [],
   "source": []
  },
  {
   "cell_type": "code",
   "execution_count": null,
   "id": "7be3a190-677d-4588-a3e3-c74e8b8f707b",
   "metadata": {
    "tags": []
   },
   "outputs": [],
   "source": []
  },
  {
   "cell_type": "code",
   "execution_count": null,
   "id": "79cee368-916f-44d6-8a6e-984d1842f3a2",
   "metadata": {},
   "outputs": [],
   "source": []
  },
  {
   "cell_type": "code",
   "execution_count": null,
   "id": "70ec5079-d77e-48f8-98e0-72b943e0bd51",
   "metadata": {
    "tags": []
   },
   "outputs": [],
   "source": []
  },
  {
   "cell_type": "code",
   "execution_count": null,
   "id": "30ed5691-3449-42e3-8f8b-4313b1901a40",
   "metadata": {
    "tags": []
   },
   "outputs": [],
   "source": []
  },
  {
   "cell_type": "code",
   "execution_count": null,
   "id": "eb98d532-c233-4773-94b2-1b83d3fc7bf7",
   "metadata": {
    "tags": []
   },
   "outputs": [],
   "source": []
  },
  {
   "cell_type": "code",
   "execution_count": null,
   "id": "18523ba5-7a74-4346-a816-acb33a0f5687",
   "metadata": {
    "tags": []
   },
   "outputs": [],
   "source": []
  },
  {
   "cell_type": "code",
   "execution_count": null,
   "id": "9fbbfff5-fc99-4cbc-bf2c-1740a43f9fc8",
   "metadata": {
    "tags": []
   },
   "outputs": [],
   "source": []
  },
  {
   "cell_type": "code",
   "execution_count": null,
   "id": "86a7c528-80a4-4c87-b70f-9e43a82afc03",
   "metadata": {},
   "outputs": [],
   "source": []
  }
 ],
 "metadata": {
  "kernelspec": {
   "display_name": "Python_3_7",
   "language": "python",
   "name": "python_3_7"
  },
  "language_info": {
   "codemirror_mode": {
    "name": "ipython",
    "version": 3
   },
   "file_extension": ".py",
   "mimetype": "text/x-python",
   "name": "python",
   "nbconvert_exporter": "python",
   "pygments_lexer": "ipython3",
   "version": "3.8.3rc1"
  }
 },
 "nbformat": 4,
 "nbformat_minor": 5
}
