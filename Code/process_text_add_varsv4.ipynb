{
 "cells": [
  {
   "cell_type": "code",
   "execution_count": 1,
   "id": "a4f863a6-430a-447c-8bbd-80c8babadf0e",
   "metadata": {
    "tags": []
   },
   "outputs": [],
   "source": [
    "from keras.preprocessing.text import Tokenizer\n",
    "from keras_preprocessing.sequence import pad_sequences\n",
    "from sklearn.preprocessing import LabelEncoder\n",
    "from tensorflow.keras.utils import to_categorical\n",
    "import tensorflow as tf\n",
    "import numpy as np\n",
    "import pandas as pd\n",
    "import os"
   ]
  },
  {
   "cell_type": "code",
   "execution_count": 2,
   "id": "c528a1e1-8408-4736-81b9-5e7a7d6bd61a",
   "metadata": {
    "tags": []
   },
   "outputs": [],
   "source": [
    "narrative_path = '../data_to_model/keras_data/model_df_full_narrative.csv'\n",
    "train_path = '../data_to_model/Train and Test Sets/train_df_count.csv'"
   ]
  },
  {
   "cell_type": "code",
   "execution_count": 3,
   "id": "a9dff90a-befd-4ced-9547-894982f0215a",
   "metadata": {
    "tags": []
   },
   "outputs": [],
   "source": [
    "narrative_df = pd.read_csv(narrative_path)\n",
    "narrative_df.drop(columns= ['primary_mechanism'], inplace = True )"
   ]
  },
  {
   "cell_type": "code",
   "execution_count": 4,
   "id": "f37316f8-2de7-40b4-bfec-7b2937788db4",
   "metadata": {
    "tags": []
   },
   "outputs": [],
   "source": [
    "train_df = pd.read_csv(train_path).merge(narrative_df,how='left', on=['cpsc_case_number'] )\n",
    "#train_df"
   ]
  },
  {
   "cell_type": "code",
   "execution_count": 5,
   "id": "fe842aa9-0933-4e49-aeef-83849831c8bb",
   "metadata": {
    "tags": []
   },
   "outputs": [
    {
     "name": "stdout",
     "output_type": "stream",
     "text": [
      "['cardio/sync' 'Hit with various obj' 'cardio/sync' 'cardio/sync'\n",
      " 'cardio/sync' 'cardio/sync' 'cardio/sync' 'cardio/sync' 'cardio/sync'\n",
      " 'Hit with various obj' 'cardio/sync' 'Undetermined/unknown' 'cardio/sync'\n",
      " 'Undetermined/unknown' 'Undetermined/unknown' 'Undetermined/unknown'\n",
      " 'Hit with various obj' 'cardio/sync' 'cardio/sync' 'cardio/sync'\n",
      " 'Undetermined/unknown' 'Multi-sport' 'Undetermined/unknown' 'cardio/sync'\n",
      " 'cardio/sync' 'cardio/sync' 'Multi-sport' 'Multi-sport'\n",
      " 'Undetermined/unknown' 'cardio/sync']\n"
     ]
    }
   ],
   "source": [
    "text_np = np.array(train_df['narrative'])\n",
    "train_labels_np = np.array(train_df['primary_mechanism'])\n",
    "#train_labels_np_bin = np.where(train_labels_np == 'Multi-sport', 'Multi-sport', 'Other')\n",
    "print(train_labels_np[0:30])\n",
    "#print(train_labels_np_bin[0:30])"
   ]
  },
  {
   "cell_type": "code",
   "execution_count": 6,
   "id": "7d9c24b9-8bd5-49c8-a559-a28409bc5c42",
   "metadata": {
    "tags": []
   },
   "outputs": [],
   "source": [
    "#l_list = []\n",
    "#for txt in text_np:\n",
    "#    l_list.append( len(txt) )\n",
    "    \n",
    "#l_list[0:10]\n",
    "\n",
    "#max(l_list)"
   ]
  },
  {
   "cell_type": "code",
   "execution_count": 7,
   "id": "8f6eef2f-32b1-4810-a477-40fa9fc91a15",
   "metadata": {
    "tags": []
   },
   "outputs": [],
   "source": [
    "maxlen = 207\n",
    "training_samples = 1491\n",
    "validation_samples = 500\n",
    "max_words = 100000\n",
    "tokenizer = Tokenizer(num_words=max_words)\n",
    "tokenizer.fit_on_texts(text_np)\n",
    "sequences = tokenizer.texts_to_sequences(text_np)\n"
   ]
  },
  {
   "cell_type": "code",
   "execution_count": 8,
   "id": "df633e05-a798-4e41-bf87-d622c22f251c",
   "metadata": {
    "tags": []
   },
   "outputs": [
    {
     "name": "stdout",
     "output_type": "stream",
     "text": [
      "Found 1690 unique tokens.\n",
      "Shape of data tensor: (1696, 207)\n",
      "Shape of label tensor: (1696,)\n"
     ]
    }
   ],
   "source": [
    "word_index = tokenizer.word_index\n",
    "print('Found %s unique tokens.' % len(word_index))\n",
    "data = pad_sequences(sequences, maxlen=maxlen)\n",
    "\n",
    "print('Shape of data tensor:', data.shape)\n",
    "print('Shape of label tensor:', train_labels_np.shape)\n"
   ]
  },
  {
   "cell_type": "code",
   "execution_count": 9,
   "id": "1e127fa0-3dca-4a02-8605-0f6dff47d340",
   "metadata": {
    "tags": []
   },
   "outputs": [],
   "source": [
    "#indices = np.arange(data.shape[0])\n",
    "#np.random.shuffle(indices)\n",
    "#data = data[indices]\n",
    "#train_labels_np = train_labels_np[indices]\n",
    "#x_train = data[:training_samples]\n",
    "#y_train = train_labels_np[:training_samples]\n",
    "#x_val = data[training_samples: training_samples + validation_samples]\n",
    "#y_val = train_labels_np[training_samples: training_samples + validation_samples]"
   ]
  },
  {
   "cell_type": "code",
   "execution_count": 10,
   "id": "4df544f1-1e1b-47c4-ba7d-736362f614c8",
   "metadata": {
    "tags": []
   },
   "outputs": [],
   "source": [
    "label_encoder = LabelEncoder()\n",
    "\n",
    "y_train_integer_encoded = label_encoder.fit_transform(train_labels_np)\n",
    "#train_labels_npy_val_integer_encoded = label_encoder.fit_transform(y_val)\n",
    "\n",
    "#y_train_integer_encoded\n",
    "#y_train_integer_encodedtrain_labels_np\n",
    "y_train_one_hot = to_categorical(y_train_integer_encoded, num_classes=7)\n",
    "#y_val_one_hot = to_categorical(y_val_integer_encoded, num_classes=7)"
   ]
  },
  {
   "cell_type": "code",
   "execution_count": 11,
   "id": "b89d413e-8df8-4443-99f6-10dd27dc3395",
   "metadata": {
    "tags": []
   },
   "outputs": [
    {
     "data": {
      "text/plain": [
       "array([6, 2, 6, ..., 5, 4, 4])"
      ]
     },
     "execution_count": 11,
     "metadata": {},
     "output_type": "execute_result"
    }
   ],
   "source": [
    "y_train_integer_encoded"
   ]
  },
  {
   "cell_type": "code",
   "execution_count": 12,
   "id": "b10b89b3-cb2e-44d7-91df-06b8956a66a4",
   "metadata": {
    "tags": []
   },
   "outputs": [
    {
     "data": {
      "text/plain": [
       "array([[0., 0., 0., ..., 0., 0., 1.],\n",
       "       [0., 0., 1., ..., 0., 0., 0.],\n",
       "       [0., 0., 0., ..., 0., 0., 1.],\n",
       "       ...,\n",
       "       [0., 0., 0., ..., 0., 1., 0.],\n",
       "       [0., 0., 0., ..., 1., 0., 0.],\n",
       "       [0., 0., 0., ..., 1., 0., 0.]], dtype=float32)"
      ]
     },
     "execution_count": 12,
     "metadata": {},
     "output_type": "execute_result"
    }
   ],
   "source": [
    "y_train_one_hot"
   ]
  },
  {
   "cell_type": "code",
   "execution_count": 13,
   "id": "13659797-747c-4446-8422-2ce9de69ae48",
   "metadata": {
    "tags": []
   },
   "outputs": [
    {
     "name": "stdout",
     "output_type": "stream",
     "text": [
      "Model: \"sequential\"\n",
      "_________________________________________________________________\n",
      "Layer (type)                 Output Shape              Param #   \n",
      "=================================================================\n",
      "embedding (Embedding)        (None, 207, 8)            800000    \n",
      "_________________________________________________________________\n",
      "flatten (Flatten)            (None, 1656)              0         \n",
      "_________________________________________________________________\n",
      "dense (Dense)                (None, 7)                 11599     \n",
      "=================================================================\n",
      "Total params: 811,599\n",
      "Trainable params: 811,599\n",
      "Non-trainable params: 0\n",
      "_________________________________________________________________\n"
     ]
    }
   ],
   "source": [
    "from keras.models import Sequential\n",
    "from keras.layers import Embedding, Flatten, Dense\n",
    "model = Sequential()\n",
    "model.add(Embedding(max_words, 8, input_length=maxlen))\n",
    "model.add(Flatten())\n",
    "model.add(Dense(7, activation='sigmoid'))\n",
    "model.compile(optimizer='rmsprop', loss='binary_crossentropy', metrics=['accuracy'])\n",
    "model.summary()\n"
   ]
  },
  {
   "cell_type": "code",
   "execution_count": 14,
   "id": "303dc81f-656b-483c-ac7d-8ee93567778d",
   "metadata": {
    "tags": []
   },
   "outputs": [
    {
     "name": "stdout",
     "output_type": "stream",
     "text": [
      "Epoch 1/80\n",
      "48/48 [==============================] - 1s 13ms/step - loss: 0.3915 - accuracy: 0.5262 - val_loss: 0.4985 - val_accuracy: 0.0000e+00\n",
      "Epoch 2/80\n",
      "48/48 [==============================] - 0s 9ms/step - loss: 0.3074 - accuracy: 0.5374 - val_loss: 0.4847 - val_accuracy: 0.0000e+00\n",
      "Epoch 3/80\n",
      "48/48 [==============================] - 0s 9ms/step - loss: 0.2934 - accuracy: 0.5387 - val_loss: 0.4667 - val_accuracy: 0.0000e+00\n",
      "Epoch 4/80\n",
      "48/48 [==============================] - 0s 9ms/step - loss: 0.2743 - accuracy: 0.5760 - val_loss: 0.4690 - val_accuracy: 0.0000e+00\n",
      "Epoch 5/80\n",
      "48/48 [==============================] - 0s 8ms/step - loss: 0.2532 - accuracy: 0.6193 - val_loss: 0.4565 - val_accuracy: 0.0000e+00\n",
      "Epoch 6/80\n",
      "48/48 [==============================] - 0s 9ms/step - loss: 0.2322 - accuracy: 0.6547 - val_loss: 0.4158 - val_accuracy: 0.0235\n",
      "Epoch 7/80\n",
      "48/48 [==============================] - 0s 8ms/step - loss: 0.2137 - accuracy: 0.6802 - val_loss: 0.4063 - val_accuracy: 0.0824\n",
      "Epoch 8/80\n",
      "48/48 [==============================] - 0s 8ms/step - loss: 0.1980 - accuracy: 0.7182 - val_loss: 0.3852 - val_accuracy: 0.1647\n",
      "Epoch 9/80\n",
      "48/48 [==============================] - 0s 9ms/step - loss: 0.1852 - accuracy: 0.7366 - val_loss: 0.3686 - val_accuracy: 0.2824\n",
      "Epoch 10/80\n",
      "48/48 [==============================] - 0s 8ms/step - loss: 0.1735 - accuracy: 0.7641 - val_loss: 0.3707 - val_accuracy: 0.3118\n",
      "Epoch 11/80\n",
      "48/48 [==============================] - 0s 8ms/step - loss: 0.1632 - accuracy: 0.7765 - val_loss: 0.3269 - val_accuracy: 0.5059\n",
      "Epoch 12/80\n",
      "48/48 [==============================] - 0s 8ms/step - loss: 0.1548 - accuracy: 0.7962 - val_loss: 0.3224 - val_accuracy: 0.5353\n",
      "Epoch 13/80\n",
      "48/48 [==============================] - 0s 8ms/step - loss: 0.1464 - accuracy: 0.8119 - val_loss: 0.3413 - val_accuracy: 0.4765\n",
      "Epoch 14/80\n",
      "48/48 [==============================] - 0s 8ms/step - loss: 0.1396 - accuracy: 0.8237 - val_loss: 0.3200 - val_accuracy: 0.5706\n",
      "Epoch 15/80\n",
      "48/48 [==============================] - 0s 8ms/step - loss: 0.1328 - accuracy: 0.8257 - val_loss: 0.2998 - val_accuracy: 0.5941\n",
      "Epoch 16/80\n",
      "48/48 [==============================] - 0s 8ms/step - loss: 0.1268 - accuracy: 0.8453 - val_loss: 0.2889 - val_accuracy: 0.6176\n",
      "Epoch 17/80\n",
      "48/48 [==============================] - 0s 8ms/step - loss: 0.1212 - accuracy: 0.8545 - val_loss: 0.2873 - val_accuracy: 0.6118\n",
      "Epoch 18/80\n",
      "48/48 [==============================] - 0s 8ms/step - loss: 0.1160 - accuracy: 0.8591 - val_loss: 0.2803 - val_accuracy: 0.6353\n",
      "Epoch 19/80\n",
      "48/48 [==============================] - 0s 8ms/step - loss: 0.1109 - accuracy: 0.8729 - val_loss: 0.2750 - val_accuracy: 0.6353\n",
      "Epoch 20/80\n",
      "48/48 [==============================] - 0s 8ms/step - loss: 0.1062 - accuracy: 0.8709 - val_loss: 0.2675 - val_accuracy: 0.6765\n",
      "Epoch 21/80\n",
      "48/48 [==============================] - 0s 8ms/step - loss: 0.1016 - accuracy: 0.8827 - val_loss: 0.2738 - val_accuracy: 0.6588\n",
      "Epoch 22/80\n",
      "48/48 [==============================] - 0s 8ms/step - loss: 0.0973 - accuracy: 0.8853 - val_loss: 0.2531 - val_accuracy: 0.6824\n",
      "Epoch 23/80\n",
      "48/48 [==============================] - 0s 8ms/step - loss: 0.0931 - accuracy: 0.8997 - val_loss: 0.2516 - val_accuracy: 0.7000\n",
      "Epoch 24/80\n",
      "48/48 [==============================] - 0s 8ms/step - loss: 0.0895 - accuracy: 0.9050 - val_loss: 0.2458 - val_accuracy: 0.7059\n",
      "Epoch 25/80\n",
      "48/48 [==============================] - 0s 8ms/step - loss: 0.0858 - accuracy: 0.9115 - val_loss: 0.2540 - val_accuracy: 0.6941\n",
      "Epoch 26/80\n",
      "48/48 [==============================] - 0s 8ms/step - loss: 0.0822 - accuracy: 0.9161 - val_loss: 0.2292 - val_accuracy: 0.7294\n",
      "Epoch 27/80\n",
      "48/48 [==============================] - 0s 8ms/step - loss: 0.0788 - accuracy: 0.9220 - val_loss: 0.2457 - val_accuracy: 0.6824\n",
      "Epoch 28/80\n",
      "48/48 [==============================] - 0s 8ms/step - loss: 0.0759 - accuracy: 0.9240 - val_loss: 0.2357 - val_accuracy: 0.6941\n",
      "Epoch 29/80\n",
      "48/48 [==============================] - 0s 8ms/step - loss: 0.0726 - accuracy: 0.9305 - val_loss: 0.2411 - val_accuracy: 0.6941\n",
      "Epoch 30/80\n",
      "48/48 [==============================] - 0s 8ms/step - loss: 0.0695 - accuracy: 0.9410 - val_loss: 0.2203 - val_accuracy: 0.7294\n",
      "Epoch 31/80\n",
      "48/48 [==============================] - 0s 8ms/step - loss: 0.0668 - accuracy: 0.9377 - val_loss: 0.2362 - val_accuracy: 0.7000\n",
      "Epoch 32/80\n",
      "48/48 [==============================] - 0s 9ms/step - loss: 0.0640 - accuracy: 0.9430 - val_loss: 0.2244 - val_accuracy: 0.7294\n",
      "Epoch 33/80\n",
      "48/48 [==============================] - 0s 8ms/step - loss: 0.0613 - accuracy: 0.9482 - val_loss: 0.2347 - val_accuracy: 0.6882\n",
      "Epoch 34/80\n",
      "48/48 [==============================] - 0s 9ms/step - loss: 0.0587 - accuracy: 0.9482 - val_loss: 0.2255 - val_accuracy: 0.7176\n",
      "Epoch 35/80\n",
      "48/48 [==============================] - 0s 8ms/step - loss: 0.0565 - accuracy: 0.9502 - val_loss: 0.2243 - val_accuracy: 0.7118\n",
      "Epoch 36/80\n",
      "48/48 [==============================] - 0s 9ms/step - loss: 0.0540 - accuracy: 0.9515 - val_loss: 0.2183 - val_accuracy: 0.7294\n",
      "Epoch 37/80\n",
      "48/48 [==============================] - 0s 9ms/step - loss: 0.0519 - accuracy: 0.9554 - val_loss: 0.2270 - val_accuracy: 0.7294\n",
      "Epoch 38/80\n",
      "48/48 [==============================] - 0s 8ms/step - loss: 0.0498 - accuracy: 0.9594 - val_loss: 0.2289 - val_accuracy: 0.7412\n",
      "Epoch 39/80\n",
      "48/48 [==============================] - 0s 8ms/step - loss: 0.0478 - accuracy: 0.9607 - val_loss: 0.2237 - val_accuracy: 0.7353\n",
      "Epoch 40/80\n",
      "48/48 [==============================] - 0s 8ms/step - loss: 0.0455 - accuracy: 0.9633 - val_loss: 0.2336 - val_accuracy: 0.7118\n",
      "Epoch 41/80\n",
      "48/48 [==============================] - 0s 8ms/step - loss: 0.0439 - accuracy: 0.9653 - val_loss: 0.2133 - val_accuracy: 0.7471\n",
      "Epoch 42/80\n",
      "48/48 [==============================] - 0s 8ms/step - loss: 0.0419 - accuracy: 0.9672 - val_loss: 0.2236 - val_accuracy: 0.7706\n",
      "Epoch 43/80\n",
      "48/48 [==============================] - 0s 8ms/step - loss: 0.0402 - accuracy: 0.9731 - val_loss: 0.2158 - val_accuracy: 0.7529\n",
      "Epoch 44/80\n",
      "48/48 [==============================] - 0s 8ms/step - loss: 0.0386 - accuracy: 0.9744 - val_loss: 0.2243 - val_accuracy: 0.7294\n",
      "Epoch 45/80\n",
      "48/48 [==============================] - 0s 9ms/step - loss: 0.0370 - accuracy: 0.9764 - val_loss: 0.2070 - val_accuracy: 0.7706\n",
      "Epoch 46/80\n",
      "48/48 [==============================] - 0s 8ms/step - loss: 0.0354 - accuracy: 0.9784 - val_loss: 0.2199 - val_accuracy: 0.7412\n",
      "Epoch 47/80\n",
      "48/48 [==============================] - 0s 8ms/step - loss: 0.0340 - accuracy: 0.9810 - val_loss: 0.2202 - val_accuracy: 0.7471\n",
      "Epoch 48/80\n",
      "48/48 [==============================] - 0s 8ms/step - loss: 0.0325 - accuracy: 0.9817 - val_loss: 0.2333 - val_accuracy: 0.7412\n",
      "Epoch 49/80\n",
      "48/48 [==============================] - 0s 8ms/step - loss: 0.0312 - accuracy: 0.9836 - val_loss: 0.2200 - val_accuracy: 0.7471\n",
      "Epoch 50/80\n",
      "48/48 [==============================] - 0s 9ms/step - loss: 0.0298 - accuracy: 0.9836 - val_loss: 0.2265 - val_accuracy: 0.7588\n",
      "Epoch 51/80\n",
      "48/48 [==============================] - 0s 8ms/step - loss: 0.0284 - accuracy: 0.9869 - val_loss: 0.2141 - val_accuracy: 0.7471\n",
      "Epoch 52/80\n",
      "48/48 [==============================] - 0s 9ms/step - loss: 0.0272 - accuracy: 0.9856 - val_loss: 0.2217 - val_accuracy: 0.7471\n",
      "Epoch 53/80\n",
      "48/48 [==============================] - 0s 9ms/step - loss: 0.0261 - accuracy: 0.9869 - val_loss: 0.2256 - val_accuracy: 0.7412\n",
      "Epoch 54/80\n",
      "48/48 [==============================] - 0s 9ms/step - loss: 0.0250 - accuracy: 0.9869 - val_loss: 0.2149 - val_accuracy: 0.7647\n",
      "Epoch 55/80\n",
      "48/48 [==============================] - 0s 10ms/step - loss: 0.0239 - accuracy: 0.9889 - val_loss: 0.2240 - val_accuracy: 0.7588\n",
      "Epoch 56/80\n",
      "48/48 [==============================] - 0s 10ms/step - loss: 0.0229 - accuracy: 0.9895 - val_loss: 0.2216 - val_accuracy: 0.7529\n",
      "Epoch 57/80\n",
      "48/48 [==============================] - 0s 9ms/step - loss: 0.0218 - accuracy: 0.9895 - val_loss: 0.2279 - val_accuracy: 0.7647\n",
      "Epoch 58/80\n",
      "48/48 [==============================] - 0s 9ms/step - loss: 0.0209 - accuracy: 0.9902 - val_loss: 0.2184 - val_accuracy: 0.7765\n",
      "Epoch 59/80\n",
      "48/48 [==============================] - 0s 8ms/step - loss: 0.0199 - accuracy: 0.9915 - val_loss: 0.2348 - val_accuracy: 0.7647\n",
      "Epoch 60/80\n",
      "48/48 [==============================] - 0s 8ms/step - loss: 0.0191 - accuracy: 0.9915 - val_loss: 0.2217 - val_accuracy: 0.7529\n",
      "Epoch 61/80\n",
      "48/48 [==============================] - 0s 9ms/step - loss: 0.0182 - accuracy: 0.9928 - val_loss: 0.2337 - val_accuracy: 0.7471\n",
      "Epoch 62/80\n",
      "48/48 [==============================] - 0s 8ms/step - loss: 0.0173 - accuracy: 0.9934 - val_loss: 0.2416 - val_accuracy: 0.7471\n",
      "Epoch 63/80\n",
      "48/48 [==============================] - 0s 8ms/step - loss: 0.0167 - accuracy: 0.9928 - val_loss: 0.2250 - val_accuracy: 0.7706\n",
      "Epoch 64/80\n",
      "48/48 [==============================] - 0s 8ms/step - loss: 0.0158 - accuracy: 0.9941 - val_loss: 0.2294 - val_accuracy: 0.7588\n",
      "Epoch 65/80\n",
      "48/48 [==============================] - 0s 8ms/step - loss: 0.0151 - accuracy: 0.9934 - val_loss: 0.2281 - val_accuracy: 0.7588\n",
      "Epoch 66/80\n",
      "48/48 [==============================] - 0s 8ms/step - loss: 0.0144 - accuracy: 0.9928 - val_loss: 0.2234 - val_accuracy: 0.7882\n",
      "Epoch 67/80\n",
      "48/48 [==============================] - 0s 8ms/step - loss: 0.0137 - accuracy: 0.9934 - val_loss: 0.2310 - val_accuracy: 0.7647\n",
      "Epoch 68/80\n",
      "48/48 [==============================] - 0s 8ms/step - loss: 0.0131 - accuracy: 0.9954 - val_loss: 0.2311 - val_accuracy: 0.7706\n",
      "Epoch 69/80\n",
      "48/48 [==============================] - 0s 9ms/step - loss: 0.0125 - accuracy: 0.9961 - val_loss: 0.2305 - val_accuracy: 0.7765\n",
      "Epoch 70/80\n",
      "48/48 [==============================] - 0s 8ms/step - loss: 0.0119 - accuracy: 0.9961 - val_loss: 0.2372 - val_accuracy: 0.7647\n",
      "Epoch 71/80\n",
      "48/48 [==============================] - 0s 8ms/step - loss: 0.0113 - accuracy: 0.9967 - val_loss: 0.2331 - val_accuracy: 0.7941\n",
      "Epoch 72/80\n",
      "48/48 [==============================] - 0s 8ms/step - loss: 0.0108 - accuracy: 0.9980 - val_loss: 0.2330 - val_accuracy: 0.7765\n",
      "Epoch 73/80\n",
      "48/48 [==============================] - 0s 8ms/step - loss: 0.0102 - accuracy: 0.9974 - val_loss: 0.2416 - val_accuracy: 0.7588\n",
      "Epoch 74/80\n",
      "48/48 [==============================] - 0s 8ms/step - loss: 0.0098 - accuracy: 0.9974 - val_loss: 0.2397 - val_accuracy: 0.7706\n",
      "Epoch 75/80\n",
      "48/48 [==============================] - 0s 8ms/step - loss: 0.0093 - accuracy: 0.9974 - val_loss: 0.2364 - val_accuracy: 0.7824\n",
      "Epoch 76/80\n",
      "48/48 [==============================] - 0s 8ms/step - loss: 0.0089 - accuracy: 0.9974 - val_loss: 0.2441 - val_accuracy: 0.7824\n",
      "Epoch 77/80\n",
      "48/48 [==============================] - 0s 8ms/step - loss: 0.0084 - accuracy: 0.9974 - val_loss: 0.2407 - val_accuracy: 0.7824\n",
      "Epoch 78/80\n",
      "48/48 [==============================] - 0s 8ms/step - loss: 0.0080 - accuracy: 0.9980 - val_loss: 0.2495 - val_accuracy: 0.7647\n",
      "Epoch 79/80\n",
      "48/48 [==============================] - 0s 8ms/step - loss: 0.0076 - accuracy: 0.9980 - val_loss: 0.2442 - val_accuracy: 0.7706\n",
      "Epoch 80/80\n",
      "48/48 [==============================] - 0s 8ms/step - loss: 0.0072 - accuracy: 0.9987 - val_loss: 0.2510 - val_accuracy: 0.7706\n"
     ]
    }
   ],
   "source": [
    "history = model.fit(data, y_train_one_hot,\n",
    "epochs=80,\n",
    "batch_size=32,\n",
    "validation_split=.1)"
   ]
  },
  {
   "cell_type": "code",
   "execution_count": 17,
   "id": "1b5bc964-0871-4d00-99a5-f07394d75e91",
   "metadata": {
    "tags": []
   },
   "outputs": [
    {
     "name": "stdout",
     "output_type": "stream",
     "text": [
      "Model: \"sequential_2\"\n",
      "_________________________________________________________________\n",
      "Layer (type)                 Output Shape              Param #   \n",
      "=================================================================\n",
      "embedding_2 (Embedding)      (None, 207, 8)            800000    \n",
      "_________________________________________________________________\n",
      "flatten_2 (Flatten)          (None, 1656)              0         \n",
      "_________________________________________________________________\n",
      "dense_3 (Dense)              (None, 64)                106048    \n",
      "_________________________________________________________________\n",
      "dense_4 (Dense)              (None, 7)                 455       \n",
      "=================================================================\n",
      "Total params: 906,503\n",
      "Trainable params: 906,503\n",
      "Non-trainable params: 0\n",
      "_________________________________________________________________\n"
     ]
    }
   ],
   "source": [
    "modelv2 = Sequential()\n",
    "modelv2.add(Embedding(max_words, 8, input_length=maxlen))\n",
    "modelv2.add(Flatten())\n",
    "modelv2.add(Dense(64, activation='relu'))\n",
    "modelv2.add(Dense(7, activation='sigmoid'))\n",
    "modelv2.compile(optimizer='rmsprop', loss='binary_crossentropy', metrics=['accuracy'])\n",
    "modelv2.summary()\n"
   ]
  },
  {
   "cell_type": "code",
   "execution_count": 18,
   "id": "f093f106-e580-466a-ad36-4ba0ab9a8753",
   "metadata": {
    "tags": []
   },
   "outputs": [
    {
     "name": "stdout",
     "output_type": "stream",
     "text": [
      "Epoch 1/80\n",
      "48/48 [==============================] - 1s 15ms/step - loss: 0.3493 - accuracy: 0.5341 - val_loss: 0.4521 - val_accuracy: 0.0000e+00\n",
      "Epoch 2/80\n",
      "48/48 [==============================] - 0s 9ms/step - loss: 0.2866 - accuracy: 0.5688 - val_loss: 0.4468 - val_accuracy: 0.0000e+00\n",
      "Epoch 3/80\n",
      "48/48 [==============================] - 1s 11ms/step - loss: 0.2475 - accuracy: 0.6468 - val_loss: 0.4733 - val_accuracy: 0.0000e+00\n",
      "Epoch 4/80\n",
      "48/48 [==============================] - 1s 11ms/step - loss: 0.2165 - accuracy: 0.6848 - val_loss: 0.4371 - val_accuracy: 0.0000e+00\n",
      "Epoch 5/80\n",
      "48/48 [==============================] - 1s 14ms/step - loss: 0.1951 - accuracy: 0.6946 - val_loss: 0.4312 - val_accuracy: 0.0059\n",
      "Epoch 6/80\n",
      "48/48 [==============================] - 1s 12ms/step - loss: 0.1787 - accuracy: 0.7333 - val_loss: 0.3301 - val_accuracy: 0.5647\n",
      "Epoch 7/80\n",
      "48/48 [==============================] - 1s 12ms/step - loss: 0.1655 - accuracy: 0.7746 - val_loss: 0.3327 - val_accuracy: 0.5235\n",
      "Epoch 8/80\n",
      "48/48 [==============================] - 0s 10ms/step - loss: 0.1520 - accuracy: 0.8014 - val_loss: 0.3073 - val_accuracy: 0.6412\n",
      "Epoch 9/80\n",
      "48/48 [==============================] - 0s 9ms/step - loss: 0.1403 - accuracy: 0.8257 - val_loss: 0.3308 - val_accuracy: 0.5353\n",
      "Epoch 10/80\n",
      "48/48 [==============================] - 0s 9ms/step - loss: 0.1294 - accuracy: 0.8388 - val_loss: 0.3398 - val_accuracy: 0.5353\n",
      "Epoch 11/80\n",
      "48/48 [==============================] - 0s 9ms/step - loss: 0.1192 - accuracy: 0.8526 - val_loss: 0.2809 - val_accuracy: 0.6882\n",
      "Epoch 12/80\n",
      "48/48 [==============================] - 0s 9ms/step - loss: 0.1091 - accuracy: 0.8716 - val_loss: 0.2784 - val_accuracy: 0.6706\n",
      "Epoch 13/80\n",
      "48/48 [==============================] - 0s 9ms/step - loss: 0.1006 - accuracy: 0.8814 - val_loss: 0.2481 - val_accuracy: 0.7000\n",
      "Epoch 14/80\n",
      "48/48 [==============================] - 0s 9ms/step - loss: 0.0919 - accuracy: 0.8925 - val_loss: 0.2356 - val_accuracy: 0.6941\n",
      "Epoch 15/80\n",
      "48/48 [==============================] - 0s 9ms/step - loss: 0.0842 - accuracy: 0.9037 - val_loss: 0.2770 - val_accuracy: 0.6412\n",
      "Epoch 16/80\n",
      "48/48 [==============================] - 0s 9ms/step - loss: 0.0771 - accuracy: 0.9063 - val_loss: 0.2420 - val_accuracy: 0.6765\n",
      "Epoch 17/80\n",
      "48/48 [==============================] - 0s 9ms/step - loss: 0.0705 - accuracy: 0.9227 - val_loss: 0.2468 - val_accuracy: 0.6765\n",
      "Epoch 18/80\n",
      "48/48 [==============================] - 0s 10ms/step - loss: 0.0647 - accuracy: 0.9312 - val_loss: 0.2231 - val_accuracy: 0.7176\n",
      "Epoch 19/80\n",
      "48/48 [==============================] - 0s 9ms/step - loss: 0.0585 - accuracy: 0.9423 - val_loss: 0.2807 - val_accuracy: 0.6529\n",
      "Epoch 20/80\n",
      "48/48 [==============================] - 0s 9ms/step - loss: 0.0534 - accuracy: 0.9495 - val_loss: 0.2524 - val_accuracy: 0.6706\n",
      "Epoch 21/80\n",
      "48/48 [==============================] - 0s 8ms/step - loss: 0.0484 - accuracy: 0.9561 - val_loss: 0.3001 - val_accuracy: 0.6235\n",
      "Epoch 22/80\n",
      "48/48 [==============================] - 0s 9ms/step - loss: 0.0438 - accuracy: 0.9600 - val_loss: 0.2460 - val_accuracy: 0.7000\n",
      "Epoch 23/80\n",
      "48/48 [==============================] - 0s 8ms/step - loss: 0.0397 - accuracy: 0.9672 - val_loss: 0.2587 - val_accuracy: 0.6765\n",
      "Epoch 24/80\n",
      "48/48 [==============================] - 0s 9ms/step - loss: 0.0359 - accuracy: 0.9758 - val_loss: 0.2682 - val_accuracy: 0.6941\n",
      "Epoch 25/80\n",
      "48/48 [==============================] - 0s 9ms/step - loss: 0.0318 - accuracy: 0.9803 - val_loss: 0.2711 - val_accuracy: 0.6824\n",
      "Epoch 26/80\n",
      "48/48 [==============================] - 0s 8ms/step - loss: 0.0290 - accuracy: 0.9777 - val_loss: 0.2439 - val_accuracy: 0.7176\n",
      "Epoch 27/80\n",
      "48/48 [==============================] - 0s 9ms/step - loss: 0.0259 - accuracy: 0.9856 - val_loss: 0.2586 - val_accuracy: 0.7118\n",
      "Epoch 28/80\n",
      "48/48 [==============================] - 0s 8ms/step - loss: 0.0233 - accuracy: 0.9869 - val_loss: 0.2468 - val_accuracy: 0.7235\n",
      "Epoch 29/80\n",
      "48/48 [==============================] - 0s 8ms/step - loss: 0.0207 - accuracy: 0.9889 - val_loss: 0.2736 - val_accuracy: 0.7118\n",
      "Epoch 30/80\n",
      "48/48 [==============================] - 0s 9ms/step - loss: 0.0187 - accuracy: 0.9908 - val_loss: 0.3107 - val_accuracy: 0.6941\n",
      "Epoch 31/80\n",
      "48/48 [==============================] - 0s 9ms/step - loss: 0.0164 - accuracy: 0.9902 - val_loss: 0.2763 - val_accuracy: 0.7294\n",
      "Epoch 32/80\n",
      "48/48 [==============================] - 0s 8ms/step - loss: 0.0145 - accuracy: 0.9908 - val_loss: 0.2831 - val_accuracy: 0.7176\n",
      "Epoch 33/80\n",
      "48/48 [==============================] - 0s 9ms/step - loss: 0.0127 - accuracy: 0.9934 - val_loss: 0.2980 - val_accuracy: 0.6941\n",
      "Epoch 34/80\n",
      "48/48 [==============================] - 0s 9ms/step - loss: 0.0113 - accuracy: 0.9928 - val_loss: 0.3220 - val_accuracy: 0.6824\n",
      "Epoch 35/80\n",
      "48/48 [==============================] - 0s 8ms/step - loss: 0.0097 - accuracy: 0.9961 - val_loss: 0.3142 - val_accuracy: 0.6941\n",
      "Epoch 36/80\n",
      "48/48 [==============================] - 0s 8ms/step - loss: 0.0084 - accuracy: 0.9961 - val_loss: 0.2997 - val_accuracy: 0.7294\n",
      "Epoch 37/80\n",
      "48/48 [==============================] - 0s 8ms/step - loss: 0.0073 - accuracy: 0.9980 - val_loss: 0.3238 - val_accuracy: 0.7235\n",
      "Epoch 38/80\n",
      "48/48 [==============================] - 0s 9ms/step - loss: 0.0065 - accuracy: 0.9974 - val_loss: 0.3312 - val_accuracy: 0.7235\n",
      "Epoch 39/80\n",
      "48/48 [==============================] - 0s 8ms/step - loss: 0.0054 - accuracy: 0.9987 - val_loss: 0.3403 - val_accuracy: 0.7059\n",
      "Epoch 40/80\n",
      "48/48 [==============================] - 0s 8ms/step - loss: 0.0048 - accuracy: 0.9987 - val_loss: 0.3483 - val_accuracy: 0.7118\n",
      "Epoch 41/80\n",
      "48/48 [==============================] - 0s 9ms/step - loss: 0.0041 - accuracy: 0.9987 - val_loss: 0.3267 - val_accuracy: 0.7353\n",
      "Epoch 42/80\n",
      "48/48 [==============================] - 0s 9ms/step - loss: 0.0035 - accuracy: 0.9987 - val_loss: 0.3415 - val_accuracy: 0.7235\n",
      "Epoch 43/80\n",
      "48/48 [==============================] - 0s 8ms/step - loss: 0.0031 - accuracy: 0.9993 - val_loss: 0.3542 - val_accuracy: 0.7294\n",
      "Epoch 44/80\n",
      "48/48 [==============================] - 0s 9ms/step - loss: 0.0025 - accuracy: 0.9987 - val_loss: 0.3567 - val_accuracy: 0.7294\n",
      "Epoch 45/80\n",
      "48/48 [==============================] - 0s 9ms/step - loss: 0.0021 - accuracy: 1.0000 - val_loss: 0.3739 - val_accuracy: 0.7235\n",
      "Epoch 46/80\n",
      "48/48 [==============================] - 0s 10ms/step - loss: 0.0018 - accuracy: 0.9993 - val_loss: 0.3796 - val_accuracy: 0.7176\n",
      "Epoch 47/80\n",
      "48/48 [==============================] - 0s 9ms/step - loss: 0.0014 - accuracy: 0.9993 - val_loss: 0.4130 - val_accuracy: 0.7294\n",
      "Epoch 48/80\n",
      "48/48 [==============================] - 0s 9ms/step - loss: 0.0012 - accuracy: 1.0000 - val_loss: 0.4158 - val_accuracy: 0.7235\n",
      "Epoch 49/80\n",
      "48/48 [==============================] - 0s 8ms/step - loss: 9.4798e-04 - accuracy: 1.0000 - val_loss: 0.4128 - val_accuracy: 0.7294\n",
      "Epoch 50/80\n",
      "48/48 [==============================] - 0s 8ms/step - loss: 8.2736e-04 - accuracy: 1.0000 - val_loss: 0.4209 - val_accuracy: 0.7294\n",
      "Epoch 51/80\n",
      "48/48 [==============================] - 0s 9ms/step - loss: 6.9421e-04 - accuracy: 1.0000 - val_loss: 0.4536 - val_accuracy: 0.7176\n",
      "Epoch 52/80\n",
      "48/48 [==============================] - 0s 9ms/step - loss: 5.4047e-04 - accuracy: 1.0000 - val_loss: 0.4159 - val_accuracy: 0.7353\n",
      "Epoch 53/80\n",
      "48/48 [==============================] - 0s 8ms/step - loss: 4.4690e-04 - accuracy: 1.0000 - val_loss: 0.4350 - val_accuracy: 0.7412\n",
      "Epoch 54/80\n",
      "48/48 [==============================] - 0s 9ms/step - loss: 3.6643e-04 - accuracy: 1.0000 - val_loss: 0.4855 - val_accuracy: 0.7235\n",
      "Epoch 55/80\n",
      "48/48 [==============================] - 0s 8ms/step - loss: 2.7467e-04 - accuracy: 1.0000 - val_loss: 0.4494 - val_accuracy: 0.7412\n",
      "Epoch 56/80\n",
      "48/48 [==============================] - 0s 9ms/step - loss: 2.3331e-04 - accuracy: 1.0000 - val_loss: 0.5071 - val_accuracy: 0.7294\n",
      "Epoch 57/80\n",
      "48/48 [==============================] - 0s 8ms/step - loss: 1.6695e-04 - accuracy: 1.0000 - val_loss: 0.4759 - val_accuracy: 0.7412\n",
      "Epoch 58/80\n",
      "48/48 [==============================] - 0s 8ms/step - loss: 1.4443e-04 - accuracy: 1.0000 - val_loss: 0.5050 - val_accuracy: 0.7412\n",
      "Epoch 59/80\n",
      "48/48 [==============================] - 0s 8ms/step - loss: 1.0617e-04 - accuracy: 1.0000 - val_loss: 0.5607 - val_accuracy: 0.7176\n",
      "Epoch 60/80\n",
      "48/48 [==============================] - 0s 8ms/step - loss: 8.4931e-05 - accuracy: 1.0000 - val_loss: 0.4889 - val_accuracy: 0.7588\n",
      "Epoch 61/80\n",
      "48/48 [==============================] - 0s 8ms/step - loss: 6.5407e-05 - accuracy: 1.0000 - val_loss: 0.5213 - val_accuracy: 0.7412\n",
      "Epoch 62/80\n",
      "48/48 [==============================] - 0s 8ms/step - loss: 4.5765e-05 - accuracy: 1.0000 - val_loss: 0.5150 - val_accuracy: 0.7471\n",
      "Epoch 63/80\n",
      "48/48 [==============================] - 0s 9ms/step - loss: 3.7203e-05 - accuracy: 1.0000 - val_loss: 0.5616 - val_accuracy: 0.7353\n",
      "Epoch 64/80\n",
      "48/48 [==============================] - 0s 9ms/step - loss: 3.6188e-05 - accuracy: 1.0000 - val_loss: 0.5563 - val_accuracy: 0.7529\n",
      "Epoch 65/80\n",
      "48/48 [==============================] - 0s 8ms/step - loss: 2.2433e-05 - accuracy: 1.0000 - val_loss: 0.5817 - val_accuracy: 0.7471\n",
      "Epoch 66/80\n",
      "48/48 [==============================] - 0s 9ms/step - loss: 1.7451e-05 - accuracy: 1.0000 - val_loss: 0.6099 - val_accuracy: 0.7353\n",
      "Epoch 67/80\n",
      "48/48 [==============================] - 0s 9ms/step - loss: 1.3781e-05 - accuracy: 1.0000 - val_loss: 0.6230 - val_accuracy: 0.7353\n",
      "Epoch 68/80\n",
      "48/48 [==============================] - 0s 9ms/step - loss: 9.8370e-06 - accuracy: 1.0000 - val_loss: 0.5942 - val_accuracy: 0.7588\n",
      "Epoch 69/80\n",
      "48/48 [==============================] - 0s 8ms/step - loss: 7.5969e-06 - accuracy: 1.0000 - val_loss: 0.6140 - val_accuracy: 0.7588\n",
      "Epoch 70/80\n",
      "48/48 [==============================] - 0s 8ms/step - loss: 5.4195e-06 - accuracy: 1.0000 - val_loss: 0.6071 - val_accuracy: 0.7588\n",
      "Epoch 71/80\n",
      "48/48 [==============================] - 0s 9ms/step - loss: 4.3346e-06 - accuracy: 1.0000 - val_loss: 0.6332 - val_accuracy: 0.7647\n",
      "Epoch 72/80\n",
      "48/48 [==============================] - 0s 9ms/step - loss: 3.0157e-06 - accuracy: 1.0000 - val_loss: 0.6346 - val_accuracy: 0.7588\n",
      "Epoch 73/80\n",
      "48/48 [==============================] - 0s 9ms/step - loss: 2.4156e-06 - accuracy: 1.0000 - val_loss: 0.6816 - val_accuracy: 0.7529\n",
      "Epoch 74/80\n",
      "48/48 [==============================] - 0s 8ms/step - loss: 1.7190e-06 - accuracy: 1.0000 - val_loss: 0.6613 - val_accuracy: 0.7588\n",
      "Epoch 75/80\n",
      "48/48 [==============================] - 0s 9ms/step - loss: 1.3406e-06 - accuracy: 1.0000 - val_loss: 0.6716 - val_accuracy: 0.7588\n",
      "Epoch 76/80\n",
      "48/48 [==============================] - 0s 8ms/step - loss: 9.6275e-07 - accuracy: 1.0000 - val_loss: 0.6663 - val_accuracy: 0.7765\n",
      "Epoch 77/80\n",
      "48/48 [==============================] - 0s 8ms/step - loss: 8.2608e-07 - accuracy: 1.0000 - val_loss: 0.6864 - val_accuracy: 0.7588\n",
      "Epoch 78/80\n",
      "48/48 [==============================] - 0s 8ms/step - loss: 6.2305e-07 - accuracy: 1.0000 - val_loss: 0.7018 - val_accuracy: 0.7588\n",
      "Epoch 79/80\n",
      "48/48 [==============================] - 0s 8ms/step - loss: 4.7699e-07 - accuracy: 1.0000 - val_loss: 0.7031 - val_accuracy: 0.7588\n",
      "Epoch 80/80\n",
      "48/48 [==============================] - 0s 8ms/step - loss: 4.1083e-07 - accuracy: 1.0000 - val_loss: 0.7214 - val_accuracy: 0.7588\n"
     ]
    }
   ],
   "source": [
    "history2= modelv2.fit(data, y_train_one_hot,\n",
    "epochs=80,\n",
    "batch_size=32,\n",
    "validation_split=.1)"
   ]
  },
  {
   "cell_type": "code",
   "execution_count": null,
   "id": "91d32b28-57cf-4497-9708-4531cc7885e1",
   "metadata": {},
   "outputs": [],
   "source": [
    "train_df"
   ]
  },
  {
   "cell_type": "code",
   "execution_count": null,
   "id": "a07bf2ef-cc32-4cbb-a4de-a4f1d1af825a",
   "metadata": {},
   "outputs": [],
   "source": [
    "model.save_weights('../Model Objects/keras_outv2.h5')"
   ]
  },
  {
   "cell_type": "code",
   "execution_count": null,
   "id": "c8b59762-1b60-43af-b3ea-51d91fc7507a",
   "metadata": {
    "tags": []
   },
   "outputs": [],
   "source": [
    "def getModel():\n",
    "    my_dim = 8\n",
    "    \n",
    "    model = Sequential()\n",
    "    model.add(Embedding(max_words, my_dim, input_length=maxlen))\n",
    "    model.add(Flatten())\n",
    "#    model.add(Dense(32, activation='relu'))\n",
    "    model.add(Dense(7, activation='softmax'))\n",
    "    \n",
    "    return model"
   ]
  },
  {
   "cell_type": "code",
   "execution_count": null,
   "id": "653ed884-ce2a-4711-a343-d96a00fb2521",
   "metadata": {
    "tags": []
   },
   "outputs": [],
   "source": [
    "# Different configurations to try\n",
    "epochs_list = [30, 60, 90]\n",
    "batch_sizes = [16, 32, 64]\n",
    "#embedding_dim = 8\n",
    "# Dictionary to store the history of each configuration\n",
    "history_dict = {}\n",
    "\n",
    "for epochs in epochs_list:\n",
    "    for batch_size in batch_sizes:\n",
    "        # Get a fresh instance of the model for each run\n",
    "        model = getModel()\n",
    "\n",
    "        # Compile the model\n",
    "        model.compile(optimizer='rmsprop',\n",
    "                      loss='categorical_crossentropy',\n",
    "                      metrics=['accuracy'])\n",
    "\n",
    "        # Train the model\n",
    "        history = model.fit(x_train, y_train_one_hot,\n",
    "                            epochs=epochs,\n",
    "                            batch_size=batch_size,\n",
    "                            validation_data=(x_val, y_val_one_hot),\n",
    "                            verbose=2)  # Set verbose to 2 for less output\n",
    "\n",
    "        # Save the history of this configuration\n",
    "        history_dict[f\"epochs_{epochs}_batch_{batch_size}\"] = history.history\n",
    "\n",
    "        # Optionally, you can print out the final validation accuracy for each configuration\n",
    "        final_val_accuracy = history.history['val_accuracy'][-1]\n",
    "        print(f\"Epochs: {epochs}, Batch size: {batch_size}, Validation accuracy: {final_val_accuracy}\")\n",
    "\n",
    "# Now you can analyze the history_dict to see which configuration performed best\n"
   ]
  },
  {
   "cell_type": "code",
   "execution_count": null,
   "id": "7be3a190-677d-4588-a3e3-c74e8b8f707b",
   "metadata": {
    "tags": []
   },
   "outputs": [],
   "source": [
    "history_dict"
   ]
  },
  {
   "cell_type": "code",
   "execution_count": null,
   "id": "79cee368-916f-44d6-8a6e-984d1842f3a2",
   "metadata": {},
   "outputs": [],
   "source": []
  }
 ],
 "metadata": {
  "kernelspec": {
   "display_name": "Python_3_7",
   "language": "python",
   "name": "python_3_7"
  },
  "language_info": {
   "codemirror_mode": {
    "name": "ipython",
    "version": 3
   },
   "file_extension": ".py",
   "mimetype": "text/x-python",
   "name": "python",
   "nbconvert_exporter": "python",
   "pygments_lexer": "ipython3",
   "version": "3.8.3rc1"
  }
 },
 "nbformat": 4,
 "nbformat_minor": 5
}
