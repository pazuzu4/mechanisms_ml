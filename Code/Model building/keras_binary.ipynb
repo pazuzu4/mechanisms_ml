{
 "cells": [
  {
   "cell_type": "code",
   "execution_count": 1,
   "id": "a4f863a6-430a-447c-8bbd-80c8babadf0e",
   "metadata": {
    "tags": []
   },
   "outputs": [],
   "source": [
    "from keras.preprocessing.text import Tokenizer\n",
    "from keras_preprocessing.sequence import pad_sequences\n",
    "from sklearn.preprocessing import StandardScaler, OneHotEncoder, LabelEncoder\n",
    "from sklearn.compose import ColumnTransformer\n",
    "from tensorflow.keras.utils import to_categorical\n",
    "import tensorflow as tf\n",
    "import numpy as np\n",
    "import pandas as pd\n",
    "import os"
   ]
  },
  {
   "cell_type": "code",
   "execution_count": 2,
   "id": "fc504505-f548-478c-9465-cfd624bb8a35",
   "metadata": {
    "tags": []
   },
   "outputs": [],
   "source": [
    "def shuffle_dataframe(df):\n",
    "    # Generate a range of indices equal to the number of rows in the DataFrame\n",
    "    indices = np.arange(df.shape[0])\n",
    "    # Shuffle the indices randomly\n",
    "    np.random.shuffle(indices)\n",
    "    # Use the shuffled indices to reorder the DataFrame\n",
    "    shuffled_df = df.iloc[indices]\n",
    "    # Reset the index of the shuffled DataFrame and return it\n",
    "    return shuffled_df.reset_index(drop=True)"
   ]
  },
  {
   "cell_type": "code",
   "execution_count": 3,
   "id": "a5f0da14-e9cb-4aa6-bbfc-210b76794baf",
   "metadata": {
    "tags": []
   },
   "outputs": [],
   "source": [
    "# Initialize and fit these in a setup or training script\n",
    "scaler = StandardScaler()\n",
    "one_hot_encoder = OneHotEncoder(handle_unknown='ignore')\n",
    "label_encoder = LabelEncoder()\n",
    "\n",
    "def fit_preprocessors(train_df_data, num_cols, cat_cols, label_col='primary_mechanism'):\n",
    "    global scaler, one_hot_encoder, label_encoder\n",
    "    scaler.fit(train_df_data[num_cols])\n",
    "    one_hot_encoder.fit(train_df_data[cat_cols])\n",
    "    label_encoder.fit(train_df_data[label_col])\n",
    "\n",
    "def process_non_txt_data(in_df, has_label=True, n_classes=7, label_col='primary_mechanism', num_cols=['age'], cat_cols=['diagnosis', 'sex', 'body_part']):\n",
    "    features_scaled = scaler.transform(in_df[num_cols])\n",
    "    one_hot_tab_features = one_hot_encoder.transform(in_df[cat_cols]).toarray()\n",
    "    \n",
    "    tabular_features_scaled = np.hstack([features_scaled, one_hot_tab_features])\n",
    "    \n",
    "    if has_label:\n",
    "        labels_np = np.array(in_df[label_col])\n",
    "        y_integer_encoded = label_encoder.transform(labels_np)\n",
    "        y_one_hot = to_categorical(y_integer_encoded, num_classes=n_classes)\n",
    "        return (tabular_features_scaled, y_one_hot)\n",
    "    else:\n",
    "        return tabular_features_scaled"
   ]
  },
  {
   "cell_type": "code",
   "execution_count": 4,
   "id": "7b1c851d-4048-4a6b-830b-8f3d0778c6a2",
   "metadata": {
    "tags": []
   },
   "outputs": [],
   "source": [
    "# Initialize the tokenizer globally\n",
    "tokenizer = Tokenizer(num_words=100000)\n",
    "def fit_tokenizer(txt_data):\n",
    "    text_np = np.array(txt_data)\n",
    "    tokenizer.fit_on_texts(text_np)\n",
    "\n",
    "def tokenize_samples(txt_data, maxlen=207):\n",
    "    text_np = np.array(txt_data)\n",
    "    sequences = tokenizer.texts_to_sequences(text_np)\n",
    "    text_input_clean = pad_sequences(sequences, maxlen=maxlen)\n",
    "    print('Shape of data tensor:', text_input_clean.shape)\n",
    "    return(text_input_clean)"
   ]
  },
  {
   "cell_type": "code",
   "execution_count": 5,
   "id": "c528a1e1-8408-4736-81b9-5e7a7d6bd61a",
   "metadata": {
    "tags": []
   },
   "outputs": [],
   "source": [
    "narrative_path = '../../data_to_model/narrative_tbl_all.csv'\n",
    "train_path = '../../data_to_model/Train and Test Sets/train_df_count_bin.csv'\n",
    "test_path = '../../data_to_model/Train and Test Sets/test_df_count_bin.csv'\n",
    "new_path = '../../data_to_model/new_data_to_model_count.csv'"
   ]
  },
  {
   "cell_type": "code",
   "execution_count": 6,
   "id": "f37316f8-2de7-40b4-bfec-7b2937788db4",
   "metadata": {
    "tags": []
   },
   "outputs": [],
   "source": [
    "narrative_df = pd.read_csv(narrative_path)\n",
    "train_df = shuffle_dataframe(pd.read_csv(train_path).merge(narrative_df,how='left', on=['cpsc_case_number'] ))\n",
    "test_df = shuffle_dataframe(pd.read_csv(test_path).merge(narrative_df,how='left', on=['cpsc_case_number'] ))\n",
    "new_df = shuffle_dataframe(pd.read_csv(new_path).merge(narrative_df,how='left', on=['cpsc_case_number'] ))\n",
    "#train_df['primary_mechanism_bin']"
   ]
  },
  {
   "cell_type": "code",
   "execution_count": null,
   "id": "ac916b77-f69f-4fa1-b0d5-2ffc9d7a0510",
   "metadata": {
    "tags": []
   },
   "outputs": [],
   "source": []
  },
  {
   "cell_type": "code",
   "execution_count": 7,
   "id": "df0219af-2ea4-435b-9e05-fbf29ee4d722",
   "metadata": {
    "tags": []
   },
   "outputs": [
    {
     "name": "stdout",
     "output_type": "stream",
     "text": [
      "(1592, 23)\n",
      "(399, 23)\n",
      "(989, 22)\n"
     ]
    }
   ],
   "source": [
    "print(train_df.shape)\n",
    "print(test_df.shape)\n",
    "print(new_df.shape)"
   ]
  },
  {
   "cell_type": "code",
   "execution_count": 8,
   "id": "d8364d81-4fe6-436c-9637-bd0453ca0533",
   "metadata": {
    "tags": []
   },
   "outputs": [],
   "source": [
    "fit_preprocessors(train_df, num_cols =['age'], cat_cols =['diagnosis', 'sex', 'body_part'], label_col='primary_mechanism_bin')\n",
    "fit_tokenizer(train_df['narrative'])"
   ]
  },
  {
   "cell_type": "code",
   "execution_count": 9,
   "id": "9eb6ef9c-11fe-4f1a-8327-948bde3816f7",
   "metadata": {
    "tags": []
   },
   "outputs": [
    {
     "name": "stdout",
     "output_type": "stream",
     "text": [
      "(1592, 36)\n",
      "(399, 36)\n",
      "(989, 36)\n"
     ]
    }
   ],
   "source": [
    "train_tabular_input, y_train_one_hot = process_non_txt_data(in_df = train_df, n_classes=2, label_col='primary_mechanism_bin')\n",
    "test_tabular_input, y_test_one_hot = process_non_txt_data(in_df = test_df, n_classes=2, label_col='primary_mechanism_bin')\n",
    "new_tabular_input = process_non_txt_data(in_df = new_df, has_label = False)\n",
    "\n",
    "print(train_tabular_input.shape)\n",
    "print(test_tabular_input.shape)\n",
    "print(new_tabular_input.shape)\n",
    "#new_tabular_input"
   ]
  },
  {
   "cell_type": "code",
   "execution_count": null,
   "id": "4a2e3ee4-ac5d-4bbd-9be9-060280d57d33",
   "metadata": {
    "tags": []
   },
   "outputs": [],
   "source": [
    "#y_train_one_hot"
   ]
  },
  {
   "cell_type": "code",
   "execution_count": null,
   "id": "306eb1bf-2525-4149-837e-935eb0fc1dae",
   "metadata": {
    "tags": []
   },
   "outputs": [],
   "source": [
    "#y_test_one_hot"
   ]
  },
  {
   "cell_type": "code",
   "execution_count": 10,
   "id": "70a8477d-91d4-423c-990f-7464590722dc",
   "metadata": {
    "tags": []
   },
   "outputs": [
    {
     "name": "stdout",
     "output_type": "stream",
     "text": [
      "(1592, 2)\n",
      "(399, 2)\n"
     ]
    }
   ],
   "source": [
    "print(y_train_one_hot.shape)\n",
    "print(y_test_one_hot.shape)"
   ]
  },
  {
   "cell_type": "code",
   "execution_count": 11,
   "id": "7d9c24b9-8bd5-49c8-a559-a28409bc5c42",
   "metadata": {
    "tags": []
   },
   "outputs": [
    {
     "name": "stdout",
     "output_type": "stream",
     "text": [
      "Shape of data tensor: (1592, 207)\n",
      "Shape of data tensor: (399, 207)\n",
      "Shape of data tensor: (989, 207)\n"
     ]
    }
   ],
   "source": [
    "train_txt_tokens = tokenize_samples(train_df['narrative'])\n",
    "test_txt_tokens = tokenize_samples(test_df['narrative'])\n",
    "new_txt_tokens = tokenize_samples(new_df['narrative'])"
   ]
  },
  {
   "cell_type": "code",
   "execution_count": 12,
   "id": "b89d413e-8df8-4443-99f6-10dd27dc3395",
   "metadata": {
    "tags": []
   },
   "outputs": [
    {
     "name": "stdout",
     "output_type": "stream",
     "text": [
      "Model: \"model\"\n",
      "__________________________________________________________________________________________________\n",
      "Layer (type)                    Output Shape         Param #     Connected to                     \n",
      "==================================================================================================\n",
      "text_input (InputLayer)         [(None, 207)]        0                                            \n",
      "__________________________________________________________________________________________________\n",
      "embedding (Embedding)           (None, 207, 8)       800000      text_input[0][0]                 \n",
      "__________________________________________________________________________________________________\n",
      "tabular_input (InputLayer)      [(None, 36)]         0                                            \n",
      "__________________________________________________________________________________________________\n",
      "flatten (Flatten)               (None, 1656)         0           embedding[0][0]                  \n",
      "__________________________________________________________________________________________________\n",
      "dense (Dense)                   (None, 16)           592         tabular_input[0][0]              \n",
      "__________________________________________________________________________________________________\n",
      "concatenate (Concatenate)       (None, 1672)         0           flatten[0][0]                    \n",
      "                                                                 dense[0][0]                      \n",
      "__________________________________________________________________________________________________\n",
      "dense_1 (Dense)                 (None, 2)            3346        concatenate[0][0]                \n",
      "==================================================================================================\n",
      "Total params: 803,938\n",
      "Trainable params: 803,938\n",
      "Non-trainable params: 0\n",
      "__________________________________________________________________________________________________\n"
     ]
    }
   ],
   "source": [
    "from keras.layers import Input, Embedding, Flatten, Dense, concatenate\n",
    "from keras.models import Model\n",
    "\n",
    "maxlen=207\n",
    "max_words = 100000\n",
    "\n",
    "# Text input branch\n",
    "text_input = Input(shape=(maxlen,), dtype='int32', name='text_input')\n",
    "embedded_text = Embedding(max_words, 8)(text_input)\n",
    "flattened_text = Flatten()(embedded_text)\n",
    "\n",
    "# Tabular input branch\n",
    "tabular_input = Input(shape=(train_tabular_input.shape[1],), name='tabular_input')\n",
    "dense_tabular = Dense(16, activation='relu')(tabular_input)\n",
    "\n",
    "# Combine branches\n",
    "concatenated = concatenate([flattened_text, dense_tabular], axis=-1)\n",
    "output = Dense(2, activation='sigmoid')(concatenated)\n",
    "\n",
    "# Create and compile the model\n",
    "model_combined = Model(inputs=[text_input, tabular_input], outputs=output)\n",
    "model_combined.compile(optimizer='rmsprop', loss='binary_crossentropy', metrics=['accuracy'])\n",
    "model_combined.summary()"
   ]
  },
  {
   "cell_type": "code",
   "execution_count": 13,
   "id": "b10b89b3-cb2e-44d7-91df-06b8956a66a4",
   "metadata": {
    "tags": []
   },
   "outputs": [
    {
     "name": "stdout",
     "output_type": "stream",
     "text": [
      "Epoch 1/80\n",
      "45/45 [==============================] - 1s 17ms/step - loss: 0.2334 - accuracy: 0.9665 - val_loss: 0.1611 - val_accuracy: 0.9625\n",
      "Epoch 2/80\n",
      "45/45 [==============================] - 0s 10ms/step - loss: 0.1110 - accuracy: 0.9763 - val_loss: 0.1667 - val_accuracy: 0.9625\n",
      "Epoch 3/80\n",
      "45/45 [==============================] - 0s 10ms/step - loss: 0.1090 - accuracy: 0.9763 - val_loss: 0.1675 - val_accuracy: 0.9625\n",
      "Epoch 4/80\n",
      "45/45 [==============================] - 0s 10ms/step - loss: 0.1072 - accuracy: 0.9763 - val_loss: 0.1636 - val_accuracy: 0.9625\n",
      "Epoch 5/80\n",
      "45/45 [==============================] - 0s 10ms/step - loss: 0.1032 - accuracy: 0.9763 - val_loss: 0.1624 - val_accuracy: 0.9625\n",
      "Epoch 6/80\n",
      "45/45 [==============================] - 0s 11ms/step - loss: 0.0989 - accuracy: 0.9763 - val_loss: 0.1601 - val_accuracy: 0.9625\n",
      "Epoch 7/80\n",
      "45/45 [==============================] - 0s 11ms/step - loss: 0.0942 - accuracy: 0.9763 - val_loss: 0.1576 - val_accuracy: 0.9625\n",
      "Epoch 8/80\n",
      "45/45 [==============================] - 0s 10ms/step - loss: 0.0876 - accuracy: 0.9763 - val_loss: 0.1462 - val_accuracy: 0.9625\n",
      "Epoch 9/80\n",
      "45/45 [==============================] - 0s 10ms/step - loss: 0.0818 - accuracy: 0.9763 - val_loss: 0.1520 - val_accuracy: 0.9625\n",
      "Epoch 10/80\n",
      "45/45 [==============================] - 1s 14ms/step - loss: 0.0757 - accuracy: 0.9763 - val_loss: 0.1415 - val_accuracy: 0.9625\n",
      "Epoch 11/80\n",
      "45/45 [==============================] - 1s 11ms/step - loss: 0.0676 - accuracy: 0.9763 - val_loss: 0.1489 - val_accuracy: 0.9625\n",
      "Epoch 12/80\n",
      "45/45 [==============================] - 0s 11ms/step - loss: 0.0610 - accuracy: 0.9763 - val_loss: 0.1377 - val_accuracy: 0.9625\n",
      "Epoch 13/80\n",
      "45/45 [==============================] - 0s 10ms/step - loss: 0.0539 - accuracy: 0.9784 - val_loss: 0.1465 - val_accuracy: 0.9625\n",
      "Epoch 14/80\n",
      "45/45 [==============================] - 0s 11ms/step - loss: 0.0487 - accuracy: 0.9784 - val_loss: 0.1356 - val_accuracy: 0.9625\n",
      "Epoch 15/80\n",
      "45/45 [==============================] - 0s 10ms/step - loss: 0.0417 - accuracy: 0.9818 - val_loss: 0.1407 - val_accuracy: 0.9625\n",
      "Epoch 16/80\n",
      "45/45 [==============================] - 0s 10ms/step - loss: 0.0365 - accuracy: 0.9832 - val_loss: 0.1457 - val_accuracy: 0.9625\n",
      "Epoch 17/80\n",
      "45/45 [==============================] - 0s 10ms/step - loss: 0.0318 - accuracy: 0.9846 - val_loss: 0.1386 - val_accuracy: 0.9625\n",
      "Epoch 18/80\n",
      "45/45 [==============================] - 0s 10ms/step - loss: 0.0275 - accuracy: 0.9895 - val_loss: 0.1340 - val_accuracy: 0.9625\n",
      "Epoch 19/80\n",
      "45/45 [==============================] - 0s 10ms/step - loss: 0.0239 - accuracy: 0.9916 - val_loss: 0.1371 - val_accuracy: 0.9625\n",
      "Epoch 20/80\n",
      "45/45 [==============================] - 0s 10ms/step - loss: 0.0211 - accuracy: 0.9930 - val_loss: 0.1429 - val_accuracy: 0.9625\n",
      "Epoch 21/80\n",
      "45/45 [==============================] - 0s 10ms/step - loss: 0.0181 - accuracy: 0.9958 - val_loss: 0.1560 - val_accuracy: 0.9625\n",
      "Epoch 22/80\n",
      "45/45 [==============================] - 0s 10ms/step - loss: 0.0159 - accuracy: 0.9958 - val_loss: 0.1306 - val_accuracy: 0.9750\n",
      "Epoch 23/80\n",
      "45/45 [==============================] - 0s 11ms/step - loss: 0.0142 - accuracy: 0.9979 - val_loss: 0.1461 - val_accuracy: 0.9688\n",
      "Epoch 24/80\n",
      "45/45 [==============================] - 0s 10ms/step - loss: 0.0123 - accuracy: 0.9979 - val_loss: 0.1402 - val_accuracy: 0.9750\n",
      "Epoch 25/80\n",
      "45/45 [==============================] - 0s 10ms/step - loss: 0.0108 - accuracy: 0.9986 - val_loss: 0.1647 - val_accuracy: 0.9688\n",
      "Epoch 26/80\n",
      "45/45 [==============================] - 0s 10ms/step - loss: 0.0096 - accuracy: 0.9993 - val_loss: 0.1608 - val_accuracy: 0.9688\n",
      "Epoch 27/80\n",
      "45/45 [==============================] - 0s 10ms/step - loss: 0.0085 - accuracy: 0.9993 - val_loss: 0.1666 - val_accuracy: 0.9688\n",
      "Epoch 28/80\n",
      "45/45 [==============================] - 0s 10ms/step - loss: 0.0073 - accuracy: 0.9993 - val_loss: 0.1674 - val_accuracy: 0.9688\n",
      "Epoch 29/80\n",
      "45/45 [==============================] - 0s 10ms/step - loss: 0.0066 - accuracy: 0.9993 - val_loss: 0.1903 - val_accuracy: 0.9688\n",
      "Epoch 30/80\n",
      "45/45 [==============================] - 0s 10ms/step - loss: 0.0057 - accuracy: 0.9993 - val_loss: 0.1908 - val_accuracy: 0.9688\n",
      "Epoch 31/80\n",
      "45/45 [==============================] - 0s 10ms/step - loss: 0.0049 - accuracy: 0.9993 - val_loss: 0.2017 - val_accuracy: 0.9688\n",
      "Epoch 32/80\n",
      "45/45 [==============================] - 0s 10ms/step - loss: 0.0044 - accuracy: 0.9993 - val_loss: 0.1852 - val_accuracy: 0.9688\n",
      "Epoch 33/80\n",
      "45/45 [==============================] - 0s 10ms/step - loss: 0.0038 - accuracy: 0.9993 - val_loss: 0.2103 - val_accuracy: 0.9688\n",
      "Epoch 34/80\n",
      "45/45 [==============================] - 0s 10ms/step - loss: 0.0035 - accuracy: 0.9993 - val_loss: 0.1998 - val_accuracy: 0.9688\n",
      "Epoch 35/80\n",
      "45/45 [==============================] - 0s 10ms/step - loss: 0.0028 - accuracy: 0.9993 - val_loss: 0.1986 - val_accuracy: 0.9688\n",
      "Epoch 36/80\n",
      "45/45 [==============================] - 0s 9ms/step - loss: 0.0026 - accuracy: 0.9993 - val_loss: 0.2155 - val_accuracy: 0.9688\n",
      "Epoch 37/80\n",
      "45/45 [==============================] - 0s 10ms/step - loss: 0.0023 - accuracy: 0.9993 - val_loss: 0.2226 - val_accuracy: 0.9688\n",
      "Epoch 38/80\n",
      "45/45 [==============================] - 0s 10ms/step - loss: 0.0020 - accuracy: 0.9993 - val_loss: 0.2322 - val_accuracy: 0.9688\n",
      "Epoch 39/80\n",
      "45/45 [==============================] - 0s 10ms/step - loss: 0.0017 - accuracy: 0.9993 - val_loss: 0.2365 - val_accuracy: 0.9688\n",
      "Epoch 40/80\n",
      "45/45 [==============================] - 0s 10ms/step - loss: 0.0014 - accuracy: 1.0000 - val_loss: 0.2233 - val_accuracy: 0.9750\n",
      "Epoch 41/80\n",
      "45/45 [==============================] - 0s 10ms/step - loss: 0.0013 - accuracy: 0.9993 - val_loss: 0.2331 - val_accuracy: 0.9688\n",
      "Epoch 42/80\n",
      "45/45 [==============================] - 0s 10ms/step - loss: 0.0010 - accuracy: 1.0000 - val_loss: 0.2552 - val_accuracy: 0.9688\n",
      "Epoch 43/80\n",
      "45/45 [==============================] - 0s 10ms/step - loss: 0.0011 - accuracy: 1.0000 - val_loss: 0.2540 - val_accuracy: 0.9688\n",
      "Epoch 44/80\n",
      "45/45 [==============================] - 0s 10ms/step - loss: 8.1393e-04 - accuracy: 1.0000 - val_loss: 0.2467 - val_accuracy: 0.9688\n",
      "Epoch 45/80\n",
      "45/45 [==============================] - 0s 11ms/step - loss: 6.7080e-04 - accuracy: 1.0000 - val_loss: 0.2688 - val_accuracy: 0.9688\n",
      "Epoch 46/80\n",
      "45/45 [==============================] - 0s 10ms/step - loss: 5.5207e-04 - accuracy: 1.0000 - val_loss: 0.2535 - val_accuracy: 0.9750\n",
      "Epoch 47/80\n",
      "45/45 [==============================] - 0s 10ms/step - loss: 5.4924e-04 - accuracy: 1.0000 - val_loss: 0.2597 - val_accuracy: 0.9750\n",
      "Epoch 48/80\n",
      "45/45 [==============================] - 0s 10ms/step - loss: 5.0406e-04 - accuracy: 1.0000 - val_loss: 0.2836 - val_accuracy: 0.9688\n",
      "Epoch 49/80\n",
      "45/45 [==============================] - 0s 10ms/step - loss: 3.8965e-04 - accuracy: 1.0000 - val_loss: 0.2786 - val_accuracy: 0.9688\n",
      "Epoch 50/80\n",
      "45/45 [==============================] - 0s 10ms/step - loss: 3.3804e-04 - accuracy: 1.0000 - val_loss: 0.2958 - val_accuracy: 0.9688\n",
      "Epoch 51/80\n",
      "45/45 [==============================] - 0s 10ms/step - loss: 2.8863e-04 - accuracy: 1.0000 - val_loss: 0.3091 - val_accuracy: 0.9688\n",
      "Epoch 52/80\n",
      "45/45 [==============================] - 0s 10ms/step - loss: 2.3697e-04 - accuracy: 1.0000 - val_loss: 0.2793 - val_accuracy: 0.9750\n",
      "Epoch 53/80\n",
      "45/45 [==============================] - 0s 10ms/step - loss: 2.2166e-04 - accuracy: 1.0000 - val_loss: 0.3010 - val_accuracy: 0.9688\n",
      "Epoch 54/80\n",
      "45/45 [==============================] - 0s 10ms/step - loss: 1.9025e-04 - accuracy: 1.0000 - val_loss: 0.2939 - val_accuracy: 0.9750\n",
      "Epoch 55/80\n",
      "45/45 [==============================] - 0s 10ms/step - loss: 1.5971e-04 - accuracy: 1.0000 - val_loss: 0.3076 - val_accuracy: 0.9688\n",
      "Epoch 56/80\n",
      "45/45 [==============================] - 0s 10ms/step - loss: 1.3813e-04 - accuracy: 1.0000 - val_loss: 0.3120 - val_accuracy: 0.9688\n",
      "Epoch 57/80\n",
      "45/45 [==============================] - 0s 10ms/step - loss: 1.0332e-04 - accuracy: 1.0000 - val_loss: 0.3239 - val_accuracy: 0.9688\n",
      "Epoch 58/80\n",
      "45/45 [==============================] - 0s 9ms/step - loss: 9.7773e-05 - accuracy: 1.0000 - val_loss: 0.3218 - val_accuracy: 0.9688\n",
      "Epoch 59/80\n",
      "45/45 [==============================] - 0s 10ms/step - loss: 8.2816e-05 - accuracy: 1.0000 - val_loss: 0.3428 - val_accuracy: 0.9688\n",
      "Epoch 60/80\n",
      "45/45 [==============================] - 0s 10ms/step - loss: 7.1315e-05 - accuracy: 1.0000 - val_loss: 0.3305 - val_accuracy: 0.9688\n",
      "Epoch 61/80\n",
      "45/45 [==============================] - 0s 9ms/step - loss: 6.4042e-05 - accuracy: 1.0000 - val_loss: 0.3257 - val_accuracy: 0.9750\n",
      "Epoch 62/80\n",
      "45/45 [==============================] - 0s 10ms/step - loss: 4.9274e-05 - accuracy: 1.0000 - val_loss: 0.3287 - val_accuracy: 0.9750\n",
      "Epoch 63/80\n",
      "45/45 [==============================] - 0s 10ms/step - loss: 4.4868e-05 - accuracy: 1.0000 - val_loss: 0.3417 - val_accuracy: 0.9688\n",
      "Epoch 64/80\n",
      "45/45 [==============================] - 0s 10ms/step - loss: 3.2990e-05 - accuracy: 1.0000 - val_loss: 0.3478 - val_accuracy: 0.9688\n",
      "Epoch 65/80\n",
      "45/45 [==============================] - 0s 10ms/step - loss: 2.5038e-05 - accuracy: 1.0000 - val_loss: 0.3362 - val_accuracy: 0.9750\n",
      "Epoch 66/80\n",
      "45/45 [==============================] - 0s 10ms/step - loss: 2.3652e-05 - accuracy: 1.0000 - val_loss: 0.3504 - val_accuracy: 0.9750\n",
      "Epoch 67/80\n",
      "45/45 [==============================] - 0s 10ms/step - loss: 2.0926e-05 - accuracy: 1.0000 - val_loss: 0.3466 - val_accuracy: 0.9750\n",
      "Epoch 68/80\n",
      "45/45 [==============================] - 0s 10ms/step - loss: 1.7109e-05 - accuracy: 1.0000 - val_loss: 0.3507 - val_accuracy: 0.9750\n",
      "Epoch 69/80\n",
      "45/45 [==============================] - 0s 10ms/step - loss: 1.3283e-05 - accuracy: 1.0000 - val_loss: 0.3611 - val_accuracy: 0.9750\n",
      "Epoch 70/80\n",
      "45/45 [==============================] - 0s 10ms/step - loss: 1.3172e-05 - accuracy: 1.0000 - val_loss: 0.3630 - val_accuracy: 0.9750\n",
      "Epoch 71/80\n",
      "45/45 [==============================] - 0s 11ms/step - loss: 1.0448e-05 - accuracy: 1.0000 - val_loss: 0.3812 - val_accuracy: 0.9688\n",
      "Epoch 72/80\n",
      "45/45 [==============================] - 0s 11ms/step - loss: 7.6143e-06 - accuracy: 1.0000 - val_loss: 0.3656 - val_accuracy: 0.9750\n",
      "Epoch 73/80\n",
      "45/45 [==============================] - 0s 10ms/step - loss: 6.5834e-06 - accuracy: 1.0000 - val_loss: 0.3888 - val_accuracy: 0.9750\n",
      "Epoch 74/80\n",
      "45/45 [==============================] - 0s 10ms/step - loss: 5.5571e-06 - accuracy: 1.0000 - val_loss: 0.3984 - val_accuracy: 0.9688\n",
      "Epoch 75/80\n",
      "45/45 [==============================] - 0s 10ms/step - loss: 4.8232e-06 - accuracy: 1.0000 - val_loss: 0.3994 - val_accuracy: 0.9750\n",
      "Epoch 76/80\n",
      "45/45 [==============================] - 0s 10ms/step - loss: 4.3373e-06 - accuracy: 1.0000 - val_loss: 0.3896 - val_accuracy: 0.9750\n",
      "Epoch 77/80\n",
      "45/45 [==============================] - 0s 10ms/step - loss: 3.1466e-06 - accuracy: 1.0000 - val_loss: 0.3984 - val_accuracy: 0.9750\n",
      "Epoch 78/80\n",
      "45/45 [==============================] - 0s 10ms/step - loss: 2.7279e-06 - accuracy: 1.0000 - val_loss: 0.4213 - val_accuracy: 0.9688\n",
      "Epoch 79/80\n",
      "45/45 [==============================] - 0s 10ms/step - loss: 2.5428e-06 - accuracy: 1.0000 - val_loss: 0.3944 - val_accuracy: 0.9750\n",
      "Epoch 80/80\n",
      "45/45 [==============================] - 0s 10ms/step - loss: 1.8002e-06 - accuracy: 1.0000 - val_loss: 0.4206 - val_accuracy: 0.9750\n"
     ]
    }
   ],
   "source": [
    "history_combined = model_combined.fit([train_txt_tokens, train_tabular_input], y_train_one_hot,\n",
    "epochs=80,\n",
    "batch_size=32,\n",
    "validation_split=.1)"
   ]
  },
  {
   "cell_type": "code",
   "execution_count": 14,
   "id": "ce465c90-18fe-491e-b0ed-01aab7dfc91c",
   "metadata": {
    "tags": []
   },
   "outputs": [],
   "source": [
    "from keras.layers import Dropout"
   ]
  },
  {
   "cell_type": "code",
   "execution_count": 15,
   "id": "13659797-747c-4446-8422-2ce9de69ae48",
   "metadata": {
    "tags": []
   },
   "outputs": [
    {
     "name": "stdout",
     "output_type": "stream",
     "text": [
      "Model: \"model_1\"\n",
      "__________________________________________________________________________________________________\n",
      "Layer (type)                    Output Shape         Param #     Connected to                     \n",
      "==================================================================================================\n",
      "tabular_input (InputLayer)      [(None, 36)]         0                                            \n",
      "__________________________________________________________________________________________________\n",
      "text_input (InputLayer)         [(None, 207)]        0                                            \n",
      "__________________________________________________________________________________________________\n",
      "dense_2 (Dense)                 (None, 64)           2368        tabular_input[0][0]              \n",
      "__________________________________________________________________________________________________\n",
      "embedding_1 (Embedding)         (None, 207, 8)       800000      text_input[0][0]                 \n",
      "__________________________________________________________________________________________________\n",
      "dropout (Dropout)               (None, 64)           0           dense_2[0][0]                    \n",
      "__________________________________________________________________________________________________\n",
      "flatten_1 (Flatten)             (None, 1656)         0           embedding_1[0][0]                \n",
      "__________________________________________________________________________________________________\n",
      "dense_3 (Dense)                 (None, 32)           2080        dropout[0][0]                    \n",
      "__________________________________________________________________________________________________\n",
      "concatenate_1 (Concatenate)     (None, 1688)         0           flatten_1[0][0]                  \n",
      "                                                                 dense_3[0][0]                    \n",
      "__________________________________________________________________________________________________\n",
      "dense_4 (Dense)                 (None, 2)            3378        concatenate_1[0][0]              \n",
      "==================================================================================================\n",
      "Total params: 807,826\n",
      "Trainable params: 807,826\n",
      "Non-trainable params: 0\n",
      "__________________________________________________________________________________________________\n"
     ]
    }
   ],
   "source": [
    "# Text input branch\n",
    "text_input_deeper = Input(shape=(maxlen,), dtype='int32', name='text_input')\n",
    "embedded_text_deeper = Embedding(max_words, 8)(text_input_deeper)\n",
    "flattened_text_deeper = Flatten()(embedded_text_deeper)\n",
    "\n",
    "# Tabular input branch\n",
    "tabular_input_deeper = Input(shape=(train_tabular_input.shape[1],), name='tabular_input')\n",
    "dense_tabular_p1 = Dense(64, activation='relu')(tabular_input_deeper)\n",
    "dropout1 = Dropout(0.5)(dense_tabular_p1)  # Dropout for regularization\n",
    "dense_tabular_deeper = Dense(32, activation='relu')(dropout1)\n",
    "\n",
    "# Combine branches\n",
    "concatenated_deeper = concatenate([flattened_text_deeper, dense_tabular_deeper], axis=-1)\n",
    "output_deeper = Dense(2, activation='sigmoid')(concatenated_deeper)\n",
    "\n",
    "# Create and compile the model\n",
    "model_combined_deeper = Model(inputs=[text_input_deeper, tabular_input_deeper], outputs=output_deeper)\n",
    "model_combined_deeper.compile(optimizer='rmsprop', loss='binary_crossentropy', metrics=['accuracy'])\n",
    "model_combined_deeper.summary()"
   ]
  },
  {
   "cell_type": "code",
   "execution_count": 16,
   "id": "303dc81f-656b-483c-ac7d-8ee93567778d",
   "metadata": {
    "tags": []
   },
   "outputs": [
    {
     "name": "stdout",
     "output_type": "stream",
     "text": [
      "Epoch 1/80\n",
      "45/45 [==============================] - 1s 14ms/step - loss: 0.2292 - accuracy: 0.9728 - val_loss: 0.1620 - val_accuracy: 0.9625\n",
      "Epoch 2/80\n",
      "45/45 [==============================] - 0s 10ms/step - loss: 0.1094 - accuracy: 0.9763 - val_loss: 0.1832 - val_accuracy: 0.9625\n",
      "Epoch 3/80\n",
      "45/45 [==============================] - 0s 11ms/step - loss: 0.1089 - accuracy: 0.9763 - val_loss: 0.1650 - val_accuracy: 0.9625\n",
      "Epoch 4/80\n",
      "45/45 [==============================] - 0s 10ms/step - loss: 0.1050 - accuracy: 0.9763 - val_loss: 0.1638 - val_accuracy: 0.9625\n",
      "Epoch 5/80\n",
      "45/45 [==============================] - 0s 10ms/step - loss: 0.1006 - accuracy: 0.9763 - val_loss: 0.1653 - val_accuracy: 0.9625\n",
      "Epoch 6/80\n",
      "45/45 [==============================] - 0s 10ms/step - loss: 0.0951 - accuracy: 0.9763 - val_loss: 0.1589 - val_accuracy: 0.9625\n",
      "Epoch 7/80\n",
      "45/45 [==============================] - 0s 11ms/step - loss: 0.0878 - accuracy: 0.9763 - val_loss: 0.1626 - val_accuracy: 0.9625\n",
      "Epoch 8/80\n",
      "45/45 [==============================] - 0s 11ms/step - loss: 0.0803 - accuracy: 0.9763 - val_loss: 0.1588 - val_accuracy: 0.9625\n",
      "Epoch 9/80\n",
      "45/45 [==============================] - 0s 10ms/step - loss: 0.0768 - accuracy: 0.9763 - val_loss: 0.1504 - val_accuracy: 0.9625\n",
      "Epoch 10/80\n",
      "45/45 [==============================] - 0s 10ms/step - loss: 0.0667 - accuracy: 0.9770 - val_loss: 0.1483 - val_accuracy: 0.9625\n",
      "Epoch 11/80\n",
      "45/45 [==============================] - 0s 11ms/step - loss: 0.0597 - accuracy: 0.9770 - val_loss: 0.1520 - val_accuracy: 0.9625\n",
      "Epoch 12/80\n",
      "45/45 [==============================] - 0s 11ms/step - loss: 0.0518 - accuracy: 0.9777 - val_loss: 0.1386 - val_accuracy: 0.9625\n",
      "Epoch 13/80\n",
      "45/45 [==============================] - 0s 10ms/step - loss: 0.0459 - accuracy: 0.9811 - val_loss: 0.1288 - val_accuracy: 0.9625\n",
      "Epoch 14/80\n",
      "45/45 [==============================] - 0s 11ms/step - loss: 0.0402 - accuracy: 0.9846 - val_loss: 0.1316 - val_accuracy: 0.9625\n",
      "Epoch 15/80\n",
      "45/45 [==============================] - 0s 10ms/step - loss: 0.0337 - accuracy: 0.9853 - val_loss: 0.1396 - val_accuracy: 0.9625\n",
      "Epoch 16/80\n",
      "45/45 [==============================] - 0s 10ms/step - loss: 0.0307 - accuracy: 0.9881 - val_loss: 0.1363 - val_accuracy: 0.9688\n",
      "Epoch 17/80\n",
      "45/45 [==============================] - 0s 11ms/step - loss: 0.0268 - accuracy: 0.9902 - val_loss: 0.1520 - val_accuracy: 0.9625\n",
      "Epoch 18/80\n",
      "45/45 [==============================] - 0s 11ms/step - loss: 0.0232 - accuracy: 0.9909 - val_loss: 0.1402 - val_accuracy: 0.9688\n",
      "Epoch 19/80\n",
      "45/45 [==============================] - 0s 10ms/step - loss: 0.0204 - accuracy: 0.9930 - val_loss: 0.1366 - val_accuracy: 0.9688\n",
      "Epoch 20/80\n",
      "45/45 [==============================] - 0s 10ms/step - loss: 0.0188 - accuracy: 0.9951 - val_loss: 0.1501 - val_accuracy: 0.9688\n",
      "Epoch 21/80\n",
      "45/45 [==============================] - 0s 11ms/step - loss: 0.0168 - accuracy: 0.9951 - val_loss: 0.1332 - val_accuracy: 0.9688\n",
      "Epoch 22/80\n",
      "45/45 [==============================] - 0s 10ms/step - loss: 0.0144 - accuracy: 0.9979 - val_loss: 0.1460 - val_accuracy: 0.9688\n",
      "Epoch 23/80\n",
      "45/45 [==============================] - 1s 11ms/step - loss: 0.0124 - accuracy: 0.9965 - val_loss: 0.1532 - val_accuracy: 0.9688\n",
      "Epoch 24/80\n",
      "45/45 [==============================] - 0s 10ms/step - loss: 0.0102 - accuracy: 0.9979 - val_loss: 0.1595 - val_accuracy: 0.9688\n",
      "Epoch 25/80\n",
      "45/45 [==============================] - 0s 11ms/step - loss: 0.0097 - accuracy: 0.9979 - val_loss: 0.1826 - val_accuracy: 0.9688\n",
      "Epoch 26/80\n",
      "45/45 [==============================] - 0s 11ms/step - loss: 0.0085 - accuracy: 0.9993 - val_loss: 0.1466 - val_accuracy: 0.9688\n",
      "Epoch 27/80\n",
      "45/45 [==============================] - 0s 10ms/step - loss: 0.0074 - accuracy: 0.9986 - val_loss: 0.1973 - val_accuracy: 0.9688\n",
      "Epoch 28/80\n",
      "45/45 [==============================] - 0s 11ms/step - loss: 0.0062 - accuracy: 0.9993 - val_loss: 0.1787 - val_accuracy: 0.9688\n",
      "Epoch 29/80\n",
      "45/45 [==============================] - 0s 11ms/step - loss: 0.0059 - accuracy: 0.9986 - val_loss: 0.2143 - val_accuracy: 0.9688\n",
      "Epoch 30/80\n",
      "45/45 [==============================] - 1s 13ms/step - loss: 0.0055 - accuracy: 0.9993 - val_loss: 0.1925 - val_accuracy: 0.9688\n",
      "Epoch 31/80\n",
      "45/45 [==============================] - 1s 12ms/step - loss: 0.0048 - accuracy: 0.9993 - val_loss: 0.1871 - val_accuracy: 0.9688\n",
      "Epoch 32/80\n",
      "45/45 [==============================] - 1s 12ms/step - loss: 0.0040 - accuracy: 0.9993 - val_loss: 0.1845 - val_accuracy: 0.9688\n",
      "Epoch 33/80\n",
      "45/45 [==============================] - 0s 11ms/step - loss: 0.0034 - accuracy: 0.9993 - val_loss: 0.2121 - val_accuracy: 0.9688\n",
      "Epoch 34/80\n",
      "45/45 [==============================] - 0s 11ms/step - loss: 0.0031 - accuracy: 1.0000 - val_loss: 0.2015 - val_accuracy: 0.9688\n",
      "Epoch 35/80\n",
      "45/45 [==============================] - 0s 11ms/step - loss: 0.0025 - accuracy: 1.0000 - val_loss: 0.2204 - val_accuracy: 0.9688\n",
      "Epoch 36/80\n",
      "45/45 [==============================] - 1s 11ms/step - loss: 0.0029 - accuracy: 0.9993 - val_loss: 0.2039 - val_accuracy: 0.9688\n",
      "Epoch 37/80\n",
      "45/45 [==============================] - 0s 10ms/step - loss: 0.0018 - accuracy: 1.0000 - val_loss: 0.2351 - val_accuracy: 0.9688\n",
      "Epoch 38/80\n",
      "45/45 [==============================] - 0s 10ms/step - loss: 0.0019 - accuracy: 0.9993 - val_loss: 0.1976 - val_accuracy: 0.9688\n",
      "Epoch 39/80\n",
      "45/45 [==============================] - 0s 10ms/step - loss: 0.0017 - accuracy: 1.0000 - val_loss: 0.2283 - val_accuracy: 0.9688\n",
      "Epoch 40/80\n",
      "45/45 [==============================] - 1s 11ms/step - loss: 0.0015 - accuracy: 1.0000 - val_loss: 0.2115 - val_accuracy: 0.9688\n",
      "Epoch 41/80\n",
      "45/45 [==============================] - 0s 11ms/step - loss: 0.0012 - accuracy: 1.0000 - val_loss: 0.2286 - val_accuracy: 0.9688\n",
      "Epoch 42/80\n",
      "45/45 [==============================] - 0s 11ms/step - loss: 0.0013 - accuracy: 1.0000 - val_loss: 0.2463 - val_accuracy: 0.9688\n",
      "Epoch 43/80\n",
      "45/45 [==============================] - 0s 10ms/step - loss: 0.0010 - accuracy: 1.0000 - val_loss: 0.2184 - val_accuracy: 0.9688\n",
      "Epoch 44/80\n",
      "45/45 [==============================] - 0s 10ms/step - loss: 9.2718e-04 - accuracy: 1.0000 - val_loss: 0.2247 - val_accuracy: 0.9688\n",
      "Epoch 45/80\n",
      "45/45 [==============================] - 0s 10ms/step - loss: 7.5295e-04 - accuracy: 1.0000 - val_loss: 0.2316 - val_accuracy: 0.9688\n",
      "Epoch 46/80\n",
      "45/45 [==============================] - 0s 11ms/step - loss: 6.4256e-04 - accuracy: 1.0000 - val_loss: 0.2424 - val_accuracy: 0.9688\n",
      "Epoch 47/80\n",
      "45/45 [==============================] - 0s 11ms/step - loss: 6.2251e-04 - accuracy: 1.0000 - val_loss: 0.2379 - val_accuracy: 0.9688\n",
      "Epoch 48/80\n",
      "45/45 [==============================] - 0s 10ms/step - loss: 4.5507e-04 - accuracy: 1.0000 - val_loss: 0.2727 - val_accuracy: 0.9688\n",
      "Epoch 49/80\n",
      "45/45 [==============================] - 0s 11ms/step - loss: 3.5937e-04 - accuracy: 1.0000 - val_loss: 0.2773 - val_accuracy: 0.9688\n",
      "Epoch 50/80\n",
      "45/45 [==============================] - 0s 11ms/step - loss: 4.4544e-04 - accuracy: 1.0000 - val_loss: 0.2729 - val_accuracy: 0.9688\n",
      "Epoch 51/80\n",
      "45/45 [==============================] - 0s 10ms/step - loss: 3.5458e-04 - accuracy: 1.0000 - val_loss: 0.2378 - val_accuracy: 0.9688\n",
      "Epoch 52/80\n",
      "45/45 [==============================] - 0s 10ms/step - loss: 3.1903e-04 - accuracy: 1.0000 - val_loss: 0.2818 - val_accuracy: 0.9688\n",
      "Epoch 53/80\n",
      "45/45 [==============================] - 0s 11ms/step - loss: 2.2538e-04 - accuracy: 1.0000 - val_loss: 0.2556 - val_accuracy: 0.9688\n",
      "Epoch 54/80\n",
      "45/45 [==============================] - 0s 11ms/step - loss: 1.6994e-04 - accuracy: 1.0000 - val_loss: 0.2935 - val_accuracy: 0.9688\n",
      "Epoch 55/80\n",
      "45/45 [==============================] - 1s 11ms/step - loss: 1.6979e-04 - accuracy: 1.0000 - val_loss: 0.2407 - val_accuracy: 0.9688\n",
      "Epoch 56/80\n",
      "45/45 [==============================] - 1s 12ms/step - loss: 1.4753e-04 - accuracy: 1.0000 - val_loss: 0.2901 - val_accuracy: 0.9688\n",
      "Epoch 57/80\n",
      "45/45 [==============================] - 1s 13ms/step - loss: 1.3458e-04 - accuracy: 1.0000 - val_loss: 0.3220 - val_accuracy: 0.9688\n",
      "Epoch 58/80\n",
      "45/45 [==============================] - 1s 12ms/step - loss: 9.3172e-05 - accuracy: 1.0000 - val_loss: 0.3264 - val_accuracy: 0.9688\n",
      "Epoch 59/80\n",
      "45/45 [==============================] - 0s 11ms/step - loss: 1.0245e-04 - accuracy: 1.0000 - val_loss: 0.3432 - val_accuracy: 0.9688\n",
      "Epoch 60/80\n",
      "45/45 [==============================] - 1s 12ms/step - loss: 9.7628e-05 - accuracy: 1.0000 - val_loss: 0.3009 - val_accuracy: 0.9688\n",
      "Epoch 61/80\n",
      "45/45 [==============================] - 0s 11ms/step - loss: 7.3790e-05 - accuracy: 1.0000 - val_loss: 0.2855 - val_accuracy: 0.9688\n",
      "Epoch 62/80\n",
      "45/45 [==============================] - 0s 11ms/step - loss: 4.8093e-05 - accuracy: 1.0000 - val_loss: 0.3313 - val_accuracy: 0.9688\n",
      "Epoch 63/80\n",
      "45/45 [==============================] - 1s 11ms/step - loss: 3.9964e-05 - accuracy: 1.0000 - val_loss: 0.3132 - val_accuracy: 0.9688\n",
      "Epoch 64/80\n",
      "45/45 [==============================] - 0s 10ms/step - loss: 4.1516e-05 - accuracy: 1.0000 - val_loss: 0.2934 - val_accuracy: 0.9688\n",
      "Epoch 65/80\n",
      "45/45 [==============================] - 0s 11ms/step - loss: 3.6152e-05 - accuracy: 1.0000 - val_loss: 0.3174 - val_accuracy: 0.9688\n",
      "Epoch 66/80\n",
      "45/45 [==============================] - 0s 10ms/step - loss: 3.3368e-05 - accuracy: 1.0000 - val_loss: 0.3313 - val_accuracy: 0.9688\n",
      "Epoch 67/80\n",
      "45/45 [==============================] - 0s 11ms/step - loss: 2.0825e-05 - accuracy: 1.0000 - val_loss: 0.3631 - val_accuracy: 0.9688\n",
      "Epoch 68/80\n",
      "45/45 [==============================] - 0s 11ms/step - loss: 1.9742e-05 - accuracy: 1.0000 - val_loss: 0.3532 - val_accuracy: 0.9688\n",
      "Epoch 69/80\n",
      "45/45 [==============================] - 1s 11ms/step - loss: 1.3659e-05 - accuracy: 1.0000 - val_loss: 0.3006 - val_accuracy: 0.9688\n",
      "Epoch 70/80\n",
      "45/45 [==============================] - 1s 11ms/step - loss: 1.2580e-05 - accuracy: 1.0000 - val_loss: 0.3106 - val_accuracy: 0.9688\n",
      "Epoch 71/80\n",
      "45/45 [==============================] - 0s 11ms/step - loss: 8.7594e-06 - accuracy: 1.0000 - val_loss: 0.3519 - val_accuracy: 0.9688\n",
      "Epoch 72/80\n",
      "45/45 [==============================] - 0s 10ms/step - loss: 1.1603e-05 - accuracy: 1.0000 - val_loss: 0.3582 - val_accuracy: 0.9688\n",
      "Epoch 73/80\n",
      "45/45 [==============================] - 0s 11ms/step - loss: 8.7696e-06 - accuracy: 1.0000 - val_loss: 0.3532 - val_accuracy: 0.9688\n",
      "Epoch 74/80\n",
      "45/45 [==============================] - 0s 11ms/step - loss: 7.0695e-06 - accuracy: 1.0000 - val_loss: 0.3625 - val_accuracy: 0.9688\n",
      "Epoch 75/80\n",
      "45/45 [==============================] - 0s 10ms/step - loss: 5.8214e-06 - accuracy: 1.0000 - val_loss: 0.3519 - val_accuracy: 0.9688\n",
      "Epoch 76/80\n",
      "45/45 [==============================] - 0s 11ms/step - loss: 3.8353e-06 - accuracy: 1.0000 - val_loss: 0.3640 - val_accuracy: 0.9688\n",
      "Epoch 77/80\n",
      "45/45 [==============================] - 0s 11ms/step - loss: 3.9611e-06 - accuracy: 1.0000 - val_loss: 0.3695 - val_accuracy: 0.9688\n",
      "Epoch 78/80\n",
      "45/45 [==============================] - 0s 11ms/step - loss: 3.5295e-06 - accuracy: 1.0000 - val_loss: 0.3583 - val_accuracy: 0.9688\n",
      "Epoch 79/80\n",
      "45/45 [==============================] - 1s 12ms/step - loss: 3.0306e-06 - accuracy: 1.0000 - val_loss: 0.3811 - val_accuracy: 0.9688\n",
      "Epoch 80/80\n",
      "45/45 [==============================] - 0s 11ms/step - loss: 2.8264e-06 - accuracy: 1.0000 - val_loss: 0.3966 - val_accuracy: 0.9688\n"
     ]
    }
   ],
   "source": [
    "history_combined_deeper = model_combined_deeper.fit([train_txt_tokens, train_tabular_input], y_train_one_hot,\n",
    "epochs=80,\n",
    "batch_size=32,\n",
    "validation_split=.1)"
   ]
  },
  {
   "cell_type": "code",
   "execution_count": 19,
   "id": "1b5bc964-0871-4d00-99a5-f07394d75e91",
   "metadata": {
    "tags": []
   },
   "outputs": [],
   "source": [
    "test_predictions = model_combined.predict([test_txt_tokens, test_tabular_input])\n",
    "test_predicted_classes = np.argmax(test_predictions, axis=1)\n",
    "test_class_names = label_encoder.inverse_transform(test_predicted_classes)"
   ]
  },
  {
   "cell_type": "code",
   "execution_count": 20,
   "id": "91d32b28-57cf-4497-9708-4531cc7885e1",
   "metadata": {
    "tags": []
   },
   "outputs": [
    {
     "data": {
      "text/plain": [
       "array(['Other', 'Other', 'Other', 'Other', 'Other'], dtype=object)"
      ]
     },
     "execution_count": 20,
     "metadata": {},
     "output_type": "execute_result"
    }
   ],
   "source": [
    "test_class_names[0:5]"
   ]
  },
  {
   "cell_type": "code",
   "execution_count": 21,
   "id": "fd897ac4-e98b-40cb-b208-495addb78f59",
   "metadata": {
    "tags": []
   },
   "outputs": [],
   "source": [
    "new_predictions = model_combined.predict([new_txt_tokens, new_tabular_input])\n",
    "new_predicted_classes = np.argmax(new_predictions, axis=1)\n",
    "new_class_names = label_encoder.inverse_transform(new_predicted_classes)"
   ]
  },
  {
   "cell_type": "code",
   "execution_count": 22,
   "id": "33e4dd65-644c-49a0-9a4d-d3c0a783f6db",
   "metadata": {
    "tags": []
   },
   "outputs": [
    {
     "data": {
      "text/plain": [
       "array(['Other', 'Other', 'Other', 'Other', 'Other'], dtype=object)"
      ]
     },
     "execution_count": 22,
     "metadata": {},
     "output_type": "execute_result"
    }
   ],
   "source": [
    "new_class_names[0:5]"
   ]
  },
  {
   "cell_type": "code",
   "execution_count": 23,
   "id": "e3b537a9-a6cb-4218-8fbb-53540fce6186",
   "metadata": {
    "tags": []
   },
   "outputs": [
    {
     "data": {
      "text/plain": [
       "(989,)"
      ]
     },
     "execution_count": 23,
     "metadata": {},
     "output_type": "execute_result"
    }
   ],
   "source": [
    "new_class_names.shape"
   ]
  },
  {
   "cell_type": "code",
   "execution_count": 24,
   "id": "e390a44c-c33f-497c-a1cf-06c03477c9df",
   "metadata": {
    "tags": []
   },
   "outputs": [],
   "source": [
    "test_pred_df = pd.DataFrame( {'cpsc_case_number': test_df['cpsc_case_number'],  'pred': test_class_names} )\n",
    "new_pred_df = pd.DataFrame( {'cpsc_case_number': new_df['cpsc_case_number'],  'pred': new_class_names} )\n",
    "\n"
   ]
  },
  {
   "cell_type": "code",
   "execution_count": 28,
   "id": "d986ef97-9b53-4f31-b3b6-5a9cf816ff56",
   "metadata": {
    "tags": []
   },
   "outputs": [],
   "source": [
    "test_pred_df.to_csv('../../Results/Prediction Data/keras_binary_test_out.csv')"
   ]
  },
  {
   "cell_type": "code",
   "execution_count": 29,
   "id": "47343031-38d0-4d27-9c0a-5933145ab330",
   "metadata": {
    "tags": []
   },
   "outputs": [],
   "source": [
    "new_pred_df.to_csv('../../Results/Prediction Data/keras_binary_new_out.csv')"
   ]
  },
  {
   "cell_type": "code",
   "execution_count": 27,
   "id": "a07bf2ef-cc32-4cbb-a4de-a4f1d1af825a",
   "metadata": {},
   "outputs": [],
   "source": [
    "model_combined.save_weights('../../Model Objects/keras_out_new_vars_binv1.h5')\n",
    "model_combined_deeper.save_weights('../../Model Objects/keras_out_new_vars_binv1.h5')"
   ]
  },
  {
   "cell_type": "code",
   "execution_count": null,
   "id": "c8b59762-1b60-43af-b3ea-51d91fc7507a",
   "metadata": {
    "tags": []
   },
   "outputs": [],
   "source": []
  },
  {
   "cell_type": "code",
   "execution_count": null,
   "id": "653ed884-ce2a-4711-a343-d96a00fb2521",
   "metadata": {
    "tags": []
   },
   "outputs": [],
   "source": []
  },
  {
   "cell_type": "code",
   "execution_count": null,
   "id": "7be3a190-677d-4588-a3e3-c74e8b8f707b",
   "metadata": {
    "tags": []
   },
   "outputs": [],
   "source": []
  },
  {
   "cell_type": "code",
   "execution_count": null,
   "id": "79cee368-916f-44d6-8a6e-984d1842f3a2",
   "metadata": {},
   "outputs": [],
   "source": []
  },
  {
   "cell_type": "code",
   "execution_count": null,
   "id": "70ec5079-d77e-48f8-98e0-72b943e0bd51",
   "metadata": {
    "tags": []
   },
   "outputs": [],
   "source": []
  },
  {
   "cell_type": "code",
   "execution_count": null,
   "id": "30ed5691-3449-42e3-8f8b-4313b1901a40",
   "metadata": {
    "tags": []
   },
   "outputs": [],
   "source": []
  },
  {
   "cell_type": "code",
   "execution_count": null,
   "id": "eb98d532-c233-4773-94b2-1b83d3fc7bf7",
   "metadata": {
    "tags": []
   },
   "outputs": [],
   "source": []
  },
  {
   "cell_type": "code",
   "execution_count": null,
   "id": "18523ba5-7a74-4346-a816-acb33a0f5687",
   "metadata": {
    "tags": []
   },
   "outputs": [],
   "source": []
  },
  {
   "cell_type": "code",
   "execution_count": null,
   "id": "9fbbfff5-fc99-4cbc-bf2c-1740a43f9fc8",
   "metadata": {
    "tags": []
   },
   "outputs": [],
   "source": []
  },
  {
   "cell_type": "code",
   "execution_count": null,
   "id": "86a7c528-80a4-4c87-b70f-9e43a82afc03",
   "metadata": {},
   "outputs": [],
   "source": []
  }
 ],
 "metadata": {
  "kernelspec": {
   "display_name": "Python_3_7",
   "language": "python",
   "name": "python_3_7"
  },
  "language_info": {
   "codemirror_mode": {
    "name": "ipython",
    "version": 3
   },
   "file_extension": ".py",
   "mimetype": "text/x-python",
   "name": "python",
   "nbconvert_exporter": "python",
   "pygments_lexer": "ipython3",
   "version": "3.8.3rc1"
  }
 },
 "nbformat": 4,
 "nbformat_minor": 5
}
