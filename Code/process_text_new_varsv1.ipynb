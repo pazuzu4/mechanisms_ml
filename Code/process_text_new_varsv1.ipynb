{
 "cells": [
  {
   "cell_type": "code",
   "execution_count": 1,
   "id": "a4f863a6-430a-447c-8bbd-80c8babadf0e",
   "metadata": {
    "tags": []
   },
   "outputs": [],
   "source": [
    "from keras.preprocessing.text import Tokenizer\n",
    "from keras_preprocessing.sequence import pad_sequences\n",
    "from sklearn.preprocessing import LabelEncoder\n",
    "from tensorflow.keras.utils import to_categorical\n",
    "import tensorflow as tf\n",
    "import numpy as np\n",
    "import pandas as pd\n",
    "import os"
   ]
  },
  {
   "cell_type": "code",
   "execution_count": 2,
   "id": "c528a1e1-8408-4736-81b9-5e7a7d6bd61a",
   "metadata": {
    "tags": []
   },
   "outputs": [],
   "source": [
    "narrative_path = '../data_to_model/keras_data/model_df_full_narrative.csv'\n",
    "train_path = '../data_to_model/Train and Test Sets/train_df_count.csv'"
   ]
  },
  {
   "cell_type": "code",
   "execution_count": 3,
   "id": "a9dff90a-befd-4ced-9547-894982f0215a",
   "metadata": {
    "tags": []
   },
   "outputs": [],
   "source": [
    "narrative_df = pd.read_csv(narrative_path)\n",
    "narrative_df.drop(columns= ['primary_mechanism'], inplace = True )"
   ]
  },
  {
   "cell_type": "code",
   "execution_count": 4,
   "id": "f37316f8-2de7-40b4-bfec-7b2937788db4",
   "metadata": {
    "tags": []
   },
   "outputs": [],
   "source": [
    "train_df = pd.read_csv(train_path).merge(narrative_df,how='left', on=['cpsc_case_number'] )\n",
    "#train_df"
   ]
  },
  {
   "cell_type": "code",
   "execution_count": 5,
   "id": "4499153b-111f-4bd7-b661-b5bca69c503b",
   "metadata": {
    "tags": []
   },
   "outputs": [],
   "source": [
    "from sklearn.preprocessing import StandardScaler\n",
    "\n",
    "features = train_df[['age']].values\n",
    "scaler = StandardScaler()\n",
    "features_scaled = scaler.fit_transform(features)\n",
    "#features_scaled\n"
   ]
  },
  {
   "cell_type": "code",
   "execution_count": 6,
   "id": "7c6d34c7-ee4e-4db6-af81-9ee80f61056b",
   "metadata": {
    "tags": []
   },
   "outputs": [],
   "source": [
    "one_hot_tab_features = pd.get_dummies(train_df[['diagnosis', 'sex', 'body_part' ]] )\n",
    "#print(one_hot_tab_features)\n",
    "one_hot_tab_features = one_hot_tab_features.values\n",
    "#print(one_hot_tab_features)"
   ]
  },
  {
   "cell_type": "code",
   "execution_count": 7,
   "id": "869f32c7-f007-4dc2-bb6f-9b5c9bbf33ac",
   "metadata": {
    "tags": []
   },
   "outputs": [
    {
     "name": "stdout",
     "output_type": "stream",
     "text": [
      "[[ 1.62316007  0.          0.         ...  0.          0.\n",
      "   0.        ]\n",
      " [-1.25396467  0.          0.         ...  0.          0.\n",
      "   0.        ]\n",
      " [ 0.39010661  0.          0.         ...  1.          0.\n",
      "   0.        ]\n",
      " ...\n",
      " [ 0.39010661  0.          1.         ...  0.          0.\n",
      "   0.        ]\n",
      " [ 0.59561552  0.          0.         ...  0.          0.\n",
      "   0.        ]\n",
      " [ 0.69836998  0.          0.         ...  0.          0.\n",
      "   0.        ]]\n",
      "(1597, 36)\n"
     ]
    }
   ],
   "source": [
    "tabular_features_scaled = np.hstack([features_scaled, one_hot_tab_features])\n",
    "print(tabular_features_scaled)\n",
    "print(tabular_features_scaled.shape)"
   ]
  },
  {
   "cell_type": "code",
   "execution_count": 8,
   "id": "fe842aa9-0933-4e49-aeef-83849831c8bb",
   "metadata": {
    "tags": []
   },
   "outputs": [],
   "source": [
    "text_np = np.array(train_df['narrative'])\n",
    "train_labels_np = np.array(train_df['primary_mechanism'])\n",
    "#train_labels_np_bin = np.where(train_labels_np == 'Multi-sport', 'Multi-sport', 'Other')\n",
    "#print(train_labels_np[0:30])\n",
    "#print(train_labels_np_bin[0:30])"
   ]
  },
  {
   "cell_type": "code",
   "execution_count": 9,
   "id": "7d9c24b9-8bd5-49c8-a559-a28409bc5c42",
   "metadata": {
    "tags": []
   },
   "outputs": [],
   "source": [
    "#l_list = []\n",
    "#for txt in text_np:\n",
    "#    l_list.append( len(txt) )\n",
    "    \n",
    "#l_list[0:10]\n",
    "\n",
    "#max(l_list)"
   ]
  },
  {
   "cell_type": "code",
   "execution_count": 10,
   "id": "8f6eef2f-32b1-4810-a477-40fa9fc91a15",
   "metadata": {
    "tags": []
   },
   "outputs": [],
   "source": [
    "maxlen = 207\n",
    "#training_samples = 1491\n",
    "#validation_samples = 500\n",
    "max_words = 100000\n",
    "tokenizer = Tokenizer(num_words=max_words)\n",
    "tokenizer.fit_on_texts(text_np)\n",
    "sequences = tokenizer.texts_to_sequences(text_np)\n"
   ]
  },
  {
   "cell_type": "code",
   "execution_count": 11,
   "id": "df633e05-a798-4e41-bf87-d622c22f251c",
   "metadata": {
    "tags": []
   },
   "outputs": [
    {
     "name": "stdout",
     "output_type": "stream",
     "text": [
      "Found 1635 unique tokens.\n",
      "Shape of data tensor: (1597, 207)\n",
      "Shape of label tensor: (1597,)\n"
     ]
    }
   ],
   "source": [
    "word_index = tokenizer.word_index\n",
    "print('Found %s unique tokens.' % len(word_index))\n",
    "text_input_train = pad_sequences(sequences, maxlen=maxlen)\n",
    "\n",
    "print('Shape of data tensor:', text_input_train.shape)\n",
    "print('Shape of label tensor:', train_labels_np.shape)\n"
   ]
  },
  {
   "cell_type": "code",
   "execution_count": 12,
   "id": "4df544f1-1e1b-47c4-ba7d-736362f614c8",
   "metadata": {
    "tags": []
   },
   "outputs": [],
   "source": [
    "label_encoder = LabelEncoder()\n",
    "\n",
    "y_train_integer_encoded = label_encoder.fit_transform(train_labels_np)\n",
    "#train_labels_npy_val_integer_encoded = label_encoder.fit_transform(y_val)\n",
    "\n",
    "#y_train_integer_encoded\n",
    "#y_train_integer_encodedtrain_labels_np\n",
    "y_train_one_hot = to_categorical(y_train_integer_encoded, num_classes=7)\n",
    "#y_val_one_hot = to_categorical(y_val_integer_encoded, num_classes=7)"
   ]
  },
  {
   "cell_type": "code",
   "execution_count": 13,
   "id": "1e127fa0-3dca-4a02-8605-0f6dff47d340",
   "metadata": {
    "tags": []
   },
   "outputs": [],
   "source": [
    "#indices = np.arange(data.shape[0])\n",
    "#np.random.shuffle(indices)\n",
    "#data = data[indices]\n",
    "#train_labels_np = train_labels_np[indices]\n",
    "#x_train = data[:training_samples]\n",
    "#y_train = train_labels_np[:training_samples]\n",
    "#x_val = data[training_samples: training_samples + validation_samples]\n",
    "#y_val = train_labels_np[training_samples: training_samples + validation_samples]"
   ]
  },
  {
   "cell_type": "code",
   "execution_count": 14,
   "id": "b89d413e-8df8-4443-99f6-10dd27dc3395",
   "metadata": {
    "tags": []
   },
   "outputs": [
    {
     "name": "stdout",
     "output_type": "stream",
     "text": [
      "Model: \"model\"\n",
      "__________________________________________________________________________________________________\n",
      "Layer (type)                    Output Shape         Param #     Connected to                     \n",
      "==================================================================================================\n",
      "text_input (InputLayer)         [(None, 207)]        0                                            \n",
      "__________________________________________________________________________________________________\n",
      "embedding (Embedding)           (None, 207, 8)       800000      text_input[0][0]                 \n",
      "__________________________________________________________________________________________________\n",
      "tabular_input (InputLayer)      [(None, 36)]         0                                            \n",
      "__________________________________________________________________________________________________\n",
      "flatten (Flatten)               (None, 1656)         0           embedding[0][0]                  \n",
      "__________________________________________________________________________________________________\n",
      "dense (Dense)                   (None, 16)           592         tabular_input[0][0]              \n",
      "__________________________________________________________________________________________________\n",
      "concatenate (Concatenate)       (None, 1672)         0           flatten[0][0]                    \n",
      "                                                                 dense[0][0]                      \n",
      "__________________________________________________________________________________________________\n",
      "dense_1 (Dense)                 (None, 7)            11711       concatenate[0][0]                \n",
      "==================================================================================================\n",
      "Total params: 812,303\n",
      "Trainable params: 812,303\n",
      "Non-trainable params: 0\n",
      "__________________________________________________________________________________________________\n"
     ]
    }
   ],
   "source": [
    "from keras.layers import Input, Embedding, Flatten, Dense, concatenate\n",
    "from keras.models import Model\n",
    "\n",
    "# Text input branch\n",
    "text_input = Input(shape=(maxlen,), dtype='int32', name='text_input')\n",
    "embedded_text = Embedding(max_words, 8)(text_input)\n",
    "flattened_text = Flatten()(embedded_text)\n",
    "\n",
    "# Tabular input branch\n",
    "tabular_input = Input(shape=(tabular_features_scaled.shape[1],), name='tabular_input')\n",
    "dense_tabular = Dense(16, activation='relu')(tabular_input)\n",
    "\n",
    "# Combine branches\n",
    "concatenated = concatenate([flattened_text, dense_tabular], axis=-1)\n",
    "output = Dense(7, activation='sigmoid')(concatenated)\n",
    "\n",
    "# Create and compile the model\n",
    "model_combined = Model(inputs=[text_input, tabular_input], outputs=output)\n",
    "model_combined.compile(optimizer='rmsprop', loss='binary_crossentropy', metrics=['accuracy'])\n",
    "model_combined.summary()"
   ]
  },
  {
   "cell_type": "code",
   "execution_count": 15,
   "id": "b10b89b3-cb2e-44d7-91df-06b8956a66a4",
   "metadata": {
    "tags": []
   },
   "outputs": [
    {
     "name": "stdout",
     "output_type": "stream",
     "text": [
      "Epoch 1/80\n",
      "45/45 [==============================] - 1s 17ms/step - loss: 0.3788 - accuracy: 0.5261 - val_loss: 0.4801 - val_accuracy: 0.0000e+00\n",
      "Epoch 2/80\n",
      "45/45 [==============================] - 0s 10ms/step - loss: 0.3015 - accuracy: 0.5358 - val_loss: 0.4778 - val_accuracy: 0.0000e+00\n",
      "Epoch 3/80\n",
      "45/45 [==============================] - 0s 11ms/step - loss: 0.2793 - accuracy: 0.5518 - val_loss: 0.4585 - val_accuracy: 0.0000e+00\n",
      "Epoch 4/80\n",
      "45/45 [==============================] - 0s 10ms/step - loss: 0.2525 - accuracy: 0.6235 - val_loss: 0.4328 - val_accuracy: 0.0000e+00\n",
      "Epoch 5/80\n",
      "45/45 [==============================] - 0s 10ms/step - loss: 0.2261 - accuracy: 0.6778 - val_loss: 0.3889 - val_accuracy: 0.0938\n",
      "Epoch 6/80\n",
      "45/45 [==============================] - 0s 10ms/step - loss: 0.2038 - accuracy: 0.7154 - val_loss: 0.3626 - val_accuracy: 0.2875\n",
      "Epoch 7/80\n",
      "45/45 [==============================] - 0s 10ms/step - loss: 0.1860 - accuracy: 0.7550 - val_loss: 0.3256 - val_accuracy: 0.4938\n",
      "Epoch 8/80\n",
      "45/45 [==============================] - 0s 10ms/step - loss: 0.1725 - accuracy: 0.7780 - val_loss: 0.3369 - val_accuracy: 0.3938\n",
      "Epoch 9/80\n",
      "45/45 [==============================] - 0s 10ms/step - loss: 0.1606 - accuracy: 0.7884 - val_loss: 0.3197 - val_accuracy: 0.4812\n",
      "Epoch 10/80\n",
      "45/45 [==============================] - 0s 10ms/step - loss: 0.1500 - accuracy: 0.7989 - val_loss: 0.2908 - val_accuracy: 0.5500\n",
      "Epoch 11/80\n",
      "45/45 [==============================] - 0s 10ms/step - loss: 0.1406 - accuracy: 0.8086 - val_loss: 0.2662 - val_accuracy: 0.6187\n",
      "Epoch 12/80\n",
      "45/45 [==============================] - 0s 10ms/step - loss: 0.1321 - accuracy: 0.8253 - val_loss: 0.2592 - val_accuracy: 0.6250\n",
      "Epoch 13/80\n",
      "45/45 [==============================] - 0s 10ms/step - loss: 0.1241 - accuracy: 0.8344 - val_loss: 0.2554 - val_accuracy: 0.6125\n",
      "Epoch 14/80\n",
      "45/45 [==============================] - 0s 10ms/step - loss: 0.1176 - accuracy: 0.8441 - val_loss: 0.2380 - val_accuracy: 0.6313\n",
      "Epoch 15/80\n",
      "45/45 [==============================] - 0s 10ms/step - loss: 0.1107 - accuracy: 0.8525 - val_loss: 0.2404 - val_accuracy: 0.6687\n",
      "Epoch 16/80\n",
      "45/45 [==============================] - 0s 10ms/step - loss: 0.1049 - accuracy: 0.8713 - val_loss: 0.2301 - val_accuracy: 0.6875\n",
      "Epoch 17/80\n",
      "45/45 [==============================] - 0s 10ms/step - loss: 0.0996 - accuracy: 0.8796 - val_loss: 0.2431 - val_accuracy: 0.6438\n",
      "Epoch 18/80\n",
      "45/45 [==============================] - 0s 10ms/step - loss: 0.0944 - accuracy: 0.8873 - val_loss: 0.2197 - val_accuracy: 0.7000\n",
      "Epoch 19/80\n",
      "45/45 [==============================] - 0s 10ms/step - loss: 0.0894 - accuracy: 0.8935 - val_loss: 0.2158 - val_accuracy: 0.7125\n",
      "Epoch 20/80\n",
      "45/45 [==============================] - 0s 10ms/step - loss: 0.0848 - accuracy: 0.9040 - val_loss: 0.2055 - val_accuracy: 0.7063\n",
      "Epoch 21/80\n",
      "45/45 [==============================] - 0s 11ms/step - loss: 0.0807 - accuracy: 0.9144 - val_loss: 0.2072 - val_accuracy: 0.7250\n",
      "Epoch 22/80\n",
      "45/45 [==============================] - 0s 10ms/step - loss: 0.0767 - accuracy: 0.9179 - val_loss: 0.2063 - val_accuracy: 0.7250\n",
      "Epoch 23/80\n",
      "45/45 [==============================] - 0s 10ms/step - loss: 0.0730 - accuracy: 0.9214 - val_loss: 0.2032 - val_accuracy: 0.7563\n",
      "Epoch 24/80\n",
      "45/45 [==============================] - 0s 10ms/step - loss: 0.0692 - accuracy: 0.9276 - val_loss: 0.1954 - val_accuracy: 0.7437\n",
      "Epoch 25/80\n",
      "45/45 [==============================] - 0s 10ms/step - loss: 0.0663 - accuracy: 0.9339 - val_loss: 0.1963 - val_accuracy: 0.7375\n",
      "Epoch 26/80\n",
      "45/45 [==============================] - 0s 10ms/step - loss: 0.0630 - accuracy: 0.9360 - val_loss: 0.1889 - val_accuracy: 0.7375\n",
      "Epoch 27/80\n",
      "45/45 [==============================] - 0s 10ms/step - loss: 0.0600 - accuracy: 0.9374 - val_loss: 0.2027 - val_accuracy: 0.7312\n",
      "Epoch 28/80\n",
      "45/45 [==============================] - 0s 10ms/step - loss: 0.0574 - accuracy: 0.9436 - val_loss: 0.1911 - val_accuracy: 0.7437\n",
      "Epoch 29/80\n",
      "45/45 [==============================] - 0s 10ms/step - loss: 0.0545 - accuracy: 0.9436 - val_loss: 0.1861 - val_accuracy: 0.7437\n",
      "Epoch 30/80\n",
      "45/45 [==============================] - 0s 10ms/step - loss: 0.0521 - accuracy: 0.9527 - val_loss: 0.1954 - val_accuracy: 0.7375\n",
      "Epoch 31/80\n",
      "45/45 [==============================] - 0s 10ms/step - loss: 0.0494 - accuracy: 0.9541 - val_loss: 0.2010 - val_accuracy: 0.7375\n",
      "Epoch 32/80\n",
      "45/45 [==============================] - 0s 10ms/step - loss: 0.0474 - accuracy: 0.9541 - val_loss: 0.1897 - val_accuracy: 0.7500\n",
      "Epoch 33/80\n",
      "45/45 [==============================] - 0s 10ms/step - loss: 0.0450 - accuracy: 0.9610 - val_loss: 0.2083 - val_accuracy: 0.7250\n",
      "Epoch 34/80\n",
      "45/45 [==============================] - 0s 10ms/step - loss: 0.0431 - accuracy: 0.9617 - val_loss: 0.1851 - val_accuracy: 0.7500\n",
      "Epoch 35/80\n",
      "45/45 [==============================] - 0s 10ms/step - loss: 0.0410 - accuracy: 0.9617 - val_loss: 0.1965 - val_accuracy: 0.7250\n",
      "Epoch 36/80\n",
      "45/45 [==============================] - 0s 10ms/step - loss: 0.0393 - accuracy: 0.9645 - val_loss: 0.1915 - val_accuracy: 0.7563\n",
      "Epoch 37/80\n",
      "45/45 [==============================] - 0s 10ms/step - loss: 0.0375 - accuracy: 0.9687 - val_loss: 0.1973 - val_accuracy: 0.7437\n",
      "Epoch 38/80\n",
      "45/45 [==============================] - 0s 10ms/step - loss: 0.0358 - accuracy: 0.9722 - val_loss: 0.1868 - val_accuracy: 0.7625\n",
      "Epoch 39/80\n",
      "45/45 [==============================] - 0s 10ms/step - loss: 0.0342 - accuracy: 0.9729 - val_loss: 0.1904 - val_accuracy: 0.7625\n",
      "Epoch 40/80\n",
      "45/45 [==============================] - 0s 10ms/step - loss: 0.0326 - accuracy: 0.9763 - val_loss: 0.1913 - val_accuracy: 0.7688\n",
      "Epoch 41/80\n",
      "45/45 [==============================] - 0s 10ms/step - loss: 0.0311 - accuracy: 0.9770 - val_loss: 0.1954 - val_accuracy: 0.7563\n",
      "Epoch 42/80\n",
      "45/45 [==============================] - 1s 13ms/step - loss: 0.0297 - accuracy: 0.9798 - val_loss: 0.1904 - val_accuracy: 0.7625\n",
      "Epoch 43/80\n",
      "45/45 [==============================] - 1s 11ms/step - loss: 0.0283 - accuracy: 0.9798 - val_loss: 0.1935 - val_accuracy: 0.7625\n",
      "Epoch 44/80\n",
      "45/45 [==============================] - 0s 11ms/step - loss: 0.0269 - accuracy: 0.9819 - val_loss: 0.1830 - val_accuracy: 0.7812\n",
      "Epoch 45/80\n",
      "45/45 [==============================] - 0s 10ms/step - loss: 0.0257 - accuracy: 0.9812 - val_loss: 0.2026 - val_accuracy: 0.7375\n",
      "Epoch 46/80\n",
      "45/45 [==============================] - 0s 10ms/step - loss: 0.0243 - accuracy: 0.9833 - val_loss: 0.1934 - val_accuracy: 0.7563\n",
      "Epoch 47/80\n",
      "45/45 [==============================] - 0s 10ms/step - loss: 0.0232 - accuracy: 0.9854 - val_loss: 0.1977 - val_accuracy: 0.7500\n",
      "Epoch 48/80\n",
      "45/45 [==============================] - 0s 10ms/step - loss: 0.0221 - accuracy: 0.9861 - val_loss: 0.1950 - val_accuracy: 0.7625\n",
      "Epoch 49/80\n",
      "45/45 [==============================] - 0s 10ms/step - loss: 0.0211 - accuracy: 0.9868 - val_loss: 0.1879 - val_accuracy: 0.7750\n",
      "Epoch 50/80\n",
      "45/45 [==============================] - 0s 10ms/step - loss: 0.0201 - accuracy: 0.9889 - val_loss: 0.1900 - val_accuracy: 0.7875\n",
      "Epoch 51/80\n",
      "45/45 [==============================] - 0s 10ms/step - loss: 0.0189 - accuracy: 0.9896 - val_loss: 0.1846 - val_accuracy: 0.7937\n",
      "Epoch 52/80\n",
      "45/45 [==============================] - 0s 10ms/step - loss: 0.0181 - accuracy: 0.9903 - val_loss: 0.2005 - val_accuracy: 0.7500\n",
      "Epoch 53/80\n",
      "45/45 [==============================] - 0s 10ms/step - loss: 0.0171 - accuracy: 0.9903 - val_loss: 0.1935 - val_accuracy: 0.7688\n",
      "Epoch 54/80\n",
      "45/45 [==============================] - 0s 10ms/step - loss: 0.0162 - accuracy: 0.9916 - val_loss: 0.2023 - val_accuracy: 0.7750\n",
      "Epoch 55/80\n",
      "45/45 [==============================] - 0s 10ms/step - loss: 0.0153 - accuracy: 0.9930 - val_loss: 0.2091 - val_accuracy: 0.7500\n",
      "Epoch 56/80\n",
      "45/45 [==============================] - 0s 10ms/step - loss: 0.0148 - accuracy: 0.9930 - val_loss: 0.2007 - val_accuracy: 0.7688\n",
      "Epoch 57/80\n",
      "45/45 [==============================] - 0s 10ms/step - loss: 0.0139 - accuracy: 0.9937 - val_loss: 0.2028 - val_accuracy: 0.7563\n",
      "Epoch 58/80\n",
      "45/45 [==============================] - 0s 10ms/step - loss: 0.0131 - accuracy: 0.9923 - val_loss: 0.2045 - val_accuracy: 0.7688\n",
      "Epoch 59/80\n",
      "45/45 [==============================] - 0s 10ms/step - loss: 0.0125 - accuracy: 0.9930 - val_loss: 0.2122 - val_accuracy: 0.7563\n",
      "Epoch 60/80\n",
      "45/45 [==============================] - 0s 10ms/step - loss: 0.0117 - accuracy: 0.9958 - val_loss: 0.2153 - val_accuracy: 0.7688\n",
      "Epoch 61/80\n",
      "45/45 [==============================] - 0s 10ms/step - loss: 0.0112 - accuracy: 0.9979 - val_loss: 0.2111 - val_accuracy: 0.7688\n",
      "Epoch 62/80\n",
      "45/45 [==============================] - 0s 10ms/step - loss: 0.0106 - accuracy: 0.9972 - val_loss: 0.2146 - val_accuracy: 0.7688\n",
      "Epoch 63/80\n",
      "45/45 [==============================] - 0s 10ms/step - loss: 0.0100 - accuracy: 0.9972 - val_loss: 0.2137 - val_accuracy: 0.7625\n",
      "Epoch 64/80\n",
      "45/45 [==============================] - 0s 10ms/step - loss: 0.0094 - accuracy: 0.9979 - val_loss: 0.2125 - val_accuracy: 0.7688\n",
      "Epoch 65/80\n",
      "45/45 [==============================] - 0s 10ms/step - loss: 0.0089 - accuracy: 0.9986 - val_loss: 0.2161 - val_accuracy: 0.7688\n",
      "Epoch 66/80\n",
      "45/45 [==============================] - 0s 11ms/step - loss: 0.0083 - accuracy: 0.9979 - val_loss: 0.2135 - val_accuracy: 0.7812\n",
      "Epoch 67/80\n",
      "45/45 [==============================] - 0s 10ms/step - loss: 0.0079 - accuracy: 0.9986 - val_loss: 0.2228 - val_accuracy: 0.7625\n",
      "Epoch 68/80\n",
      "45/45 [==============================] - 0s 10ms/step - loss: 0.0074 - accuracy: 0.9993 - val_loss: 0.2150 - val_accuracy: 0.7812\n",
      "Epoch 69/80\n",
      "45/45 [==============================] - 0s 10ms/step - loss: 0.0070 - accuracy: 0.9993 - val_loss: 0.2288 - val_accuracy: 0.7500\n",
      "Epoch 70/80\n",
      "45/45 [==============================] - 0s 10ms/step - loss: 0.0066 - accuracy: 0.9986 - val_loss: 0.2230 - val_accuracy: 0.7563\n",
      "Epoch 71/80\n",
      "45/45 [==============================] - 0s 10ms/step - loss: 0.0062 - accuracy: 0.9986 - val_loss: 0.2165 - val_accuracy: 0.8125\n",
      "Epoch 72/80\n",
      "45/45 [==============================] - 0s 10ms/step - loss: 0.0059 - accuracy: 0.9993 - val_loss: 0.2230 - val_accuracy: 0.7625\n",
      "Epoch 73/80\n",
      "45/45 [==============================] - 0s 10ms/step - loss: 0.0055 - accuracy: 0.9993 - val_loss: 0.2280 - val_accuracy: 0.7563\n",
      "Epoch 74/80\n",
      "45/45 [==============================] - 0s 10ms/step - loss: 0.0052 - accuracy: 0.9993 - val_loss: 0.2313 - val_accuracy: 0.7625\n",
      "Epoch 75/80\n",
      "45/45 [==============================] - 0s 10ms/step - loss: 0.0048 - accuracy: 0.9993 - val_loss: 0.2382 - val_accuracy: 0.7688\n",
      "Epoch 76/80\n",
      "45/45 [==============================] - 0s 10ms/step - loss: 0.0045 - accuracy: 0.9993 - val_loss: 0.2426 - val_accuracy: 0.7500\n",
      "Epoch 77/80\n",
      "45/45 [==============================] - 0s 9ms/step - loss: 0.0042 - accuracy: 0.9993 - val_loss: 0.2305 - val_accuracy: 0.7937\n",
      "Epoch 78/80\n",
      "45/45 [==============================] - 0s 10ms/step - loss: 0.0040 - accuracy: 0.9993 - val_loss: 0.2392 - val_accuracy: 0.7750\n",
      "Epoch 79/80\n",
      "45/45 [==============================] - 0s 10ms/step - loss: 0.0037 - accuracy: 1.0000 - val_loss: 0.2389 - val_accuracy: 0.7812\n",
      "Epoch 80/80\n",
      "45/45 [==============================] - 0s 10ms/step - loss: 0.0035 - accuracy: 1.0000 - val_loss: 0.2418 - val_accuracy: 0.7625\n"
     ]
    }
   ],
   "source": [
    "history_combined = model_combined.fit([text_input_train, tabular_features_scaled], y_train_one_hot,\n",
    "epochs=80,\n",
    "batch_size=32,\n",
    "validation_split=.1)"
   ]
  },
  {
   "cell_type": "code",
   "execution_count": 16,
   "id": "ce465c90-18fe-491e-b0ed-01aab7dfc91c",
   "metadata": {
    "tags": []
   },
   "outputs": [],
   "source": [
    "from keras.layers import Dropout"
   ]
  },
  {
   "cell_type": "code",
   "execution_count": 17,
   "id": "13659797-747c-4446-8422-2ce9de69ae48",
   "metadata": {
    "tags": []
   },
   "outputs": [
    {
     "name": "stdout",
     "output_type": "stream",
     "text": [
      "Model: \"model_1\"\n",
      "__________________________________________________________________________________________________\n",
      "Layer (type)                    Output Shape         Param #     Connected to                     \n",
      "==================================================================================================\n",
      "tabular_input (InputLayer)      [(None, 36)]         0                                            \n",
      "__________________________________________________________________________________________________\n",
      "text_input (InputLayer)         [(None, 207)]        0                                            \n",
      "__________________________________________________________________________________________________\n",
      "dense_2 (Dense)                 (None, 64)           2368        tabular_input[0][0]              \n",
      "__________________________________________________________________________________________________\n",
      "embedding_1 (Embedding)         (None, 207, 8)       800000      text_input[0][0]                 \n",
      "__________________________________________________________________________________________________\n",
      "dropout (Dropout)               (None, 64)           0           dense_2[0][0]                    \n",
      "__________________________________________________________________________________________________\n",
      "flatten_1 (Flatten)             (None, 1656)         0           embedding_1[0][0]                \n",
      "__________________________________________________________________________________________________\n",
      "dense_3 (Dense)                 (None, 32)           2080        dropout[0][0]                    \n",
      "__________________________________________________________________________________________________\n",
      "concatenate_1 (Concatenate)     (None, 1688)         0           flatten_1[0][0]                  \n",
      "                                                                 dense_3[0][0]                    \n",
      "__________________________________________________________________________________________________\n",
      "dense_4 (Dense)                 (None, 7)            11823       concatenate_1[0][0]              \n",
      "==================================================================================================\n",
      "Total params: 816,271\n",
      "Trainable params: 816,271\n",
      "Non-trainable params: 0\n",
      "__________________________________________________________________________________________________\n"
     ]
    }
   ],
   "source": [
    "# Text input branch\n",
    "text_input_deeper = Input(shape=(maxlen,), dtype='int32', name='text_input')\n",
    "embedded_text_deeper = Embedding(max_words, 8)(text_input_deeper)\n",
    "flattened_text_deeper = Flatten()(embedded_text_deeper)\n",
    "\n",
    "# Tabular input branch\n",
    "tabular_input_deeper = Input(shape=(tabular_features_scaled.shape[1],), name='tabular_input')\n",
    "dense_tabular_p1 = Dense(64, activation='relu')(tabular_input_deeper)\n",
    "dropout1 = Dropout(0.5)(dense_tabular_p1)  # Dropout for regularization\n",
    "dense_tabular_deeper = Dense(32, activation='relu')(dropout1)\n",
    "\n",
    "# Combine branches\n",
    "concatenated_deeper = concatenate([flattened_text_deeper, dense_tabular_deeper], axis=-1)\n",
    "output_deeper = Dense(7, activation='sigmoid')(concatenated_deeper)\n",
    "\n",
    "# Create and compile the model\n",
    "model_combined_deeper = Model(inputs=[text_input_deeper, tabular_input_deeper], outputs=output_deeper)\n",
    "model_combined_deeper.compile(optimizer='rmsprop', loss='binary_crossentropy', metrics=['accuracy'])\n",
    "model_combined_deeper.summary()"
   ]
  },
  {
   "cell_type": "code",
   "execution_count": 18,
   "id": "303dc81f-656b-483c-ac7d-8ee93567778d",
   "metadata": {
    "tags": []
   },
   "outputs": [
    {
     "name": "stdout",
     "output_type": "stream",
     "text": [
      "Epoch 1/80\n",
      "45/45 [==============================] - 1s 14ms/step - loss: 0.3798 - accuracy: 0.5108 - val_loss: 0.4864 - val_accuracy: 0.0000e+00\n",
      "Epoch 2/80\n",
      "45/45 [==============================] - 0s 10ms/step - loss: 0.2901 - accuracy: 0.5407 - val_loss: 0.4861 - val_accuracy: 0.0000e+00\n",
      "Epoch 3/80\n",
      "45/45 [==============================] - 0s 11ms/step - loss: 0.2505 - accuracy: 0.6486 - val_loss: 0.4127 - val_accuracy: 0.0000e+00\n",
      "Epoch 4/80\n",
      "45/45 [==============================] - 0s 11ms/step - loss: 0.2178 - accuracy: 0.7112 - val_loss: 0.3587 - val_accuracy: 0.2688\n",
      "Epoch 5/80\n",
      "45/45 [==============================] - 0s 10ms/step - loss: 0.1966 - accuracy: 0.7404 - val_loss: 0.3419 - val_accuracy: 0.3313\n",
      "Epoch 6/80\n",
      "45/45 [==============================] - 0s 11ms/step - loss: 0.1818 - accuracy: 0.7537 - val_loss: 0.3219 - val_accuracy: 0.4500\n",
      "Epoch 7/80\n",
      "45/45 [==============================] - 0s 10ms/step - loss: 0.1695 - accuracy: 0.7731 - val_loss: 0.3200 - val_accuracy: 0.4375\n",
      "Epoch 8/80\n",
      "45/45 [==============================] - 0s 10ms/step - loss: 0.1598 - accuracy: 0.7794 - val_loss: 0.2739 - val_accuracy: 0.5562\n",
      "Epoch 9/80\n",
      "45/45 [==============================] - 0s 11ms/step - loss: 0.1489 - accuracy: 0.7975 - val_loss: 0.2765 - val_accuracy: 0.5688\n",
      "Epoch 10/80\n",
      "45/45 [==============================] - 0s 10ms/step - loss: 0.1386 - accuracy: 0.8100 - val_loss: 0.2540 - val_accuracy: 0.6125\n",
      "Epoch 11/80\n",
      "45/45 [==============================] - 0s 10ms/step - loss: 0.1292 - accuracy: 0.8288 - val_loss: 0.2278 - val_accuracy: 0.6438\n",
      "Epoch 12/80\n",
      "45/45 [==============================] - 0s 11ms/step - loss: 0.1228 - accuracy: 0.8386 - val_loss: 0.2260 - val_accuracy: 0.6562\n",
      "Epoch 13/80\n",
      "45/45 [==============================] - 0s 10ms/step - loss: 0.1135 - accuracy: 0.8566 - val_loss: 0.2137 - val_accuracy: 0.6812\n",
      "Epoch 14/80\n",
      "45/45 [==============================] - 0s 10ms/step - loss: 0.1087 - accuracy: 0.8678 - val_loss: 0.1949 - val_accuracy: 0.7188\n",
      "Epoch 15/80\n",
      "45/45 [==============================] - 0s 10ms/step - loss: 0.1011 - accuracy: 0.8803 - val_loss: 0.1791 - val_accuracy: 0.7437\n",
      "Epoch 16/80\n",
      "45/45 [==============================] - 0s 10ms/step - loss: 0.0947 - accuracy: 0.8887 - val_loss: 0.1986 - val_accuracy: 0.7375\n",
      "Epoch 17/80\n",
      "45/45 [==============================] - 0s 10ms/step - loss: 0.0916 - accuracy: 0.8907 - val_loss: 0.1837 - val_accuracy: 0.7563\n",
      "Epoch 18/80\n",
      "45/45 [==============================] - 0s 10ms/step - loss: 0.0868 - accuracy: 0.8949 - val_loss: 0.1738 - val_accuracy: 0.7688\n",
      "Epoch 19/80\n",
      "45/45 [==============================] - 0s 10ms/step - loss: 0.0806 - accuracy: 0.9074 - val_loss: 0.1828 - val_accuracy: 0.7688\n",
      "Epoch 20/80\n",
      "45/45 [==============================] - 0s 11ms/step - loss: 0.0771 - accuracy: 0.9123 - val_loss: 0.1673 - val_accuracy: 0.7812\n",
      "Epoch 21/80\n",
      "45/45 [==============================] - 1s 11ms/step - loss: 0.0724 - accuracy: 0.9172 - val_loss: 0.1728 - val_accuracy: 0.7875\n",
      "Epoch 22/80\n",
      "45/45 [==============================] - 0s 11ms/step - loss: 0.0709 - accuracy: 0.9214 - val_loss: 0.1680 - val_accuracy: 0.7937\n",
      "Epoch 23/80\n",
      "45/45 [==============================] - 0s 11ms/step - loss: 0.0677 - accuracy: 0.9297 - val_loss: 0.1734 - val_accuracy: 0.7937\n",
      "Epoch 24/80\n",
      "45/45 [==============================] - 0s 11ms/step - loss: 0.0649 - accuracy: 0.9304 - val_loss: 0.1650 - val_accuracy: 0.7875\n",
      "Epoch 25/80\n",
      "45/45 [==============================] - 0s 11ms/step - loss: 0.0622 - accuracy: 0.9311 - val_loss: 0.1589 - val_accuracy: 0.7937\n",
      "Epoch 26/80\n",
      "45/45 [==============================] - 1s 11ms/step - loss: 0.0599 - accuracy: 0.9381 - val_loss: 0.1660 - val_accuracy: 0.7875\n",
      "Epoch 27/80\n",
      "45/45 [==============================] - 1s 11ms/step - loss: 0.0566 - accuracy: 0.9422 - val_loss: 0.1634 - val_accuracy: 0.7937\n",
      "Epoch 28/80\n",
      "45/45 [==============================] - 0s 11ms/step - loss: 0.0532 - accuracy: 0.9485 - val_loss: 0.1618 - val_accuracy: 0.8000\n",
      "Epoch 29/80\n",
      "45/45 [==============================] - 0s 11ms/step - loss: 0.0504 - accuracy: 0.9485 - val_loss: 0.1633 - val_accuracy: 0.7937\n",
      "Epoch 30/80\n",
      "45/45 [==============================] - 0s 11ms/step - loss: 0.0485 - accuracy: 0.9576 - val_loss: 0.1585 - val_accuracy: 0.8000\n",
      "Epoch 31/80\n",
      "45/45 [==============================] - 0s 11ms/step - loss: 0.0475 - accuracy: 0.9562 - val_loss: 0.1725 - val_accuracy: 0.7937\n",
      "Epoch 32/80\n",
      "45/45 [==============================] - 1s 11ms/step - loss: 0.0453 - accuracy: 0.9527 - val_loss: 0.1526 - val_accuracy: 0.8125\n",
      "Epoch 33/80\n",
      "45/45 [==============================] - 1s 11ms/step - loss: 0.0426 - accuracy: 0.9638 - val_loss: 0.1548 - val_accuracy: 0.8188\n",
      "Epoch 34/80\n",
      "45/45 [==============================] - 1s 11ms/step - loss: 0.0422 - accuracy: 0.9596 - val_loss: 0.1660 - val_accuracy: 0.8062\n",
      "Epoch 35/80\n",
      "45/45 [==============================] - 1s 11ms/step - loss: 0.0402 - accuracy: 0.9645 - val_loss: 0.1652 - val_accuracy: 0.8000\n",
      "Epoch 36/80\n",
      "45/45 [==============================] - 0s 11ms/step - loss: 0.0373 - accuracy: 0.9673 - val_loss: 0.1486 - val_accuracy: 0.8313\n",
      "Epoch 37/80\n",
      "45/45 [==============================] - 0s 11ms/step - loss: 0.0360 - accuracy: 0.9687 - val_loss: 0.1511 - val_accuracy: 0.8313\n",
      "Epoch 38/80\n",
      "45/45 [==============================] - 0s 10ms/step - loss: 0.0339 - accuracy: 0.9729 - val_loss: 0.1584 - val_accuracy: 0.8125\n",
      "Epoch 39/80\n",
      "45/45 [==============================] - 0s 11ms/step - loss: 0.0333 - accuracy: 0.9722 - val_loss: 0.1681 - val_accuracy: 0.8000\n",
      "Epoch 40/80\n",
      "45/45 [==============================] - 1s 11ms/step - loss: 0.0314 - accuracy: 0.9763 - val_loss: 0.1674 - val_accuracy: 0.8000\n",
      "Epoch 41/80\n",
      "45/45 [==============================] - 0s 11ms/step - loss: 0.0305 - accuracy: 0.9763 - val_loss: 0.1726 - val_accuracy: 0.7937\n",
      "Epoch 42/80\n",
      "45/45 [==============================] - 0s 10ms/step - loss: 0.0285 - accuracy: 0.9798 - val_loss: 0.1590 - val_accuracy: 0.8188\n",
      "Epoch 43/80\n",
      "45/45 [==============================] - 0s 10ms/step - loss: 0.0281 - accuracy: 0.9777 - val_loss: 0.1533 - val_accuracy: 0.8250\n",
      "Epoch 44/80\n",
      "45/45 [==============================] - 0s 10ms/step - loss: 0.0257 - accuracy: 0.9826 - val_loss: 0.1714 - val_accuracy: 0.8000\n",
      "Epoch 45/80\n",
      "45/45 [==============================] - 0s 9ms/step - loss: 0.0256 - accuracy: 0.9833 - val_loss: 0.1702 - val_accuracy: 0.8125\n",
      "Epoch 46/80\n",
      "45/45 [==============================] - 0s 10ms/step - loss: 0.0243 - accuracy: 0.9791 - val_loss: 0.1638 - val_accuracy: 0.8250\n",
      "Epoch 47/80\n",
      "45/45 [==============================] - 0s 10ms/step - loss: 0.0237 - accuracy: 0.9840 - val_loss: 0.1639 - val_accuracy: 0.8250\n",
      "Epoch 48/80\n",
      "45/45 [==============================] - 0s 10ms/step - loss: 0.0227 - accuracy: 0.9833 - val_loss: 0.1744 - val_accuracy: 0.8000\n",
      "Epoch 49/80\n",
      "45/45 [==============================] - 0s 10ms/step - loss: 0.0218 - accuracy: 0.9854 - val_loss: 0.1676 - val_accuracy: 0.8250\n",
      "Epoch 50/80\n",
      "45/45 [==============================] - 0s 10ms/step - loss: 0.0197 - accuracy: 0.9875 - val_loss: 0.1698 - val_accuracy: 0.8313\n",
      "Epoch 51/80\n",
      "45/45 [==============================] - 0s 10ms/step - loss: 0.0193 - accuracy: 0.9889 - val_loss: 0.1751 - val_accuracy: 0.8188\n",
      "Epoch 52/80\n",
      "45/45 [==============================] - 0s 10ms/step - loss: 0.0192 - accuracy: 0.9861 - val_loss: 0.1801 - val_accuracy: 0.8125\n",
      "Epoch 53/80\n",
      "45/45 [==============================] - 0s 10ms/step - loss: 0.0176 - accuracy: 0.9916 - val_loss: 0.1778 - val_accuracy: 0.8250\n",
      "Epoch 54/80\n",
      "45/45 [==============================] - 0s 10ms/step - loss: 0.0163 - accuracy: 0.9916 - val_loss: 0.1783 - val_accuracy: 0.8313\n",
      "Epoch 55/80\n",
      "45/45 [==============================] - 0s 10ms/step - loss: 0.0161 - accuracy: 0.9930 - val_loss: 0.1719 - val_accuracy: 0.8250\n",
      "Epoch 56/80\n",
      "45/45 [==============================] - 0s 10ms/step - loss: 0.0146 - accuracy: 0.9930 - val_loss: 0.1836 - val_accuracy: 0.8125\n",
      "Epoch 57/80\n",
      "45/45 [==============================] - 0s 10ms/step - loss: 0.0147 - accuracy: 0.9916 - val_loss: 0.1806 - val_accuracy: 0.8250\n",
      "Epoch 58/80\n",
      "45/45 [==============================] - 0s 10ms/step - loss: 0.0133 - accuracy: 0.9944 - val_loss: 0.1819 - val_accuracy: 0.8188\n",
      "Epoch 59/80\n",
      "45/45 [==============================] - 0s 10ms/step - loss: 0.0132 - accuracy: 0.9923 - val_loss: 0.1802 - val_accuracy: 0.8188\n",
      "Epoch 60/80\n",
      "45/45 [==============================] - 0s 10ms/step - loss: 0.0128 - accuracy: 0.9944 - val_loss: 0.1830 - val_accuracy: 0.8125\n",
      "Epoch 61/80\n",
      "45/45 [==============================] - 0s 10ms/step - loss: 0.0118 - accuracy: 0.9944 - val_loss: 0.1866 - val_accuracy: 0.8250\n",
      "Epoch 62/80\n",
      "45/45 [==============================] - 0s 10ms/step - loss: 0.0110 - accuracy: 0.9958 - val_loss: 0.1853 - val_accuracy: 0.8188\n",
      "Epoch 63/80\n",
      "45/45 [==============================] - 0s 10ms/step - loss: 0.0109 - accuracy: 0.9951 - val_loss: 0.1889 - val_accuracy: 0.8188\n",
      "Epoch 64/80\n",
      "45/45 [==============================] - 0s 10ms/step - loss: 0.0099 - accuracy: 0.9972 - val_loss: 0.1893 - val_accuracy: 0.8062\n",
      "Epoch 65/80\n",
      "45/45 [==============================] - 0s 10ms/step - loss: 0.0099 - accuracy: 0.9944 - val_loss: 0.1895 - val_accuracy: 0.8125\n",
      "Epoch 66/80\n",
      "45/45 [==============================] - 0s 10ms/step - loss: 0.0086 - accuracy: 0.9986 - val_loss: 0.1973 - val_accuracy: 0.8000\n",
      "Epoch 67/80\n",
      "45/45 [==============================] - 0s 11ms/step - loss: 0.0085 - accuracy: 0.9979 - val_loss: 0.1988 - val_accuracy: 0.8125\n",
      "Epoch 68/80\n",
      "45/45 [==============================] - 0s 10ms/step - loss: 0.0082 - accuracy: 0.9979 - val_loss: 0.2052 - val_accuracy: 0.8062\n",
      "Epoch 69/80\n",
      "45/45 [==============================] - 0s 10ms/step - loss: 0.0079 - accuracy: 0.9986 - val_loss: 0.1998 - val_accuracy: 0.8250\n",
      "Epoch 70/80\n",
      "45/45 [==============================] - 0s 10ms/step - loss: 0.0075 - accuracy: 0.9972 - val_loss: 0.2026 - val_accuracy: 0.8062\n",
      "Epoch 71/80\n",
      "45/45 [==============================] - 0s 10ms/step - loss: 0.0071 - accuracy: 0.9993 - val_loss: 0.1982 - val_accuracy: 0.8125\n",
      "Epoch 72/80\n",
      "45/45 [==============================] - 0s 10ms/step - loss: 0.0069 - accuracy: 0.9986 - val_loss: 0.2178 - val_accuracy: 0.7937\n",
      "Epoch 73/80\n",
      "45/45 [==============================] - 0s 10ms/step - loss: 0.0061 - accuracy: 1.0000 - val_loss: 0.2098 - val_accuracy: 0.8125\n",
      "Epoch 74/80\n",
      "45/45 [==============================] - 0s 10ms/step - loss: 0.0063 - accuracy: 0.9993 - val_loss: 0.2113 - val_accuracy: 0.8062\n",
      "Epoch 75/80\n",
      "45/45 [==============================] - 0s 11ms/step - loss: 0.0051 - accuracy: 1.0000 - val_loss: 0.2029 - val_accuracy: 0.8062\n",
      "Epoch 76/80\n",
      "45/45 [==============================] - 0s 11ms/step - loss: 0.0055 - accuracy: 0.9993 - val_loss: 0.2140 - val_accuracy: 0.8062\n",
      "Epoch 77/80\n",
      "45/45 [==============================] - 0s 10ms/step - loss: 0.0053 - accuracy: 0.9993 - val_loss: 0.2112 - val_accuracy: 0.8062\n",
      "Epoch 78/80\n",
      "45/45 [==============================] - 0s 10ms/step - loss: 0.0051 - accuracy: 1.0000 - val_loss: 0.2228 - val_accuracy: 0.8000\n",
      "Epoch 79/80\n",
      "45/45 [==============================] - 0s 10ms/step - loss: 0.0045 - accuracy: 0.9993 - val_loss: 0.2238 - val_accuracy: 0.8000\n",
      "Epoch 80/80\n",
      "45/45 [==============================] - 0s 10ms/step - loss: 0.0045 - accuracy: 0.9993 - val_loss: 0.2347 - val_accuracy: 0.7937\n"
     ]
    }
   ],
   "source": [
    "history_combined_deeper = model_combined_deeper.fit([text_input_train, tabular_features_scaled], y_train_one_hot,\n",
    "epochs=80,\n",
    "batch_size=32,\n",
    "validation_split=.1)"
   ]
  },
  {
   "cell_type": "code",
   "execution_count": null,
   "id": "1b5bc964-0871-4d00-99a5-f07394d75e91",
   "metadata": {
    "tags": []
   },
   "outputs": [],
   "source": []
  },
  {
   "cell_type": "code",
   "execution_count": null,
   "id": "f093f106-e580-466a-ad36-4ba0ab9a8753",
   "metadata": {
    "tags": []
   },
   "outputs": [],
   "source": []
  },
  {
   "cell_type": "code",
   "execution_count": null,
   "id": "91d32b28-57cf-4497-9708-4531cc7885e1",
   "metadata": {
    "tags": []
   },
   "outputs": [],
   "source": []
  },
  {
   "cell_type": "code",
   "execution_count": 19,
   "id": "a07bf2ef-cc32-4cbb-a4de-a4f1d1af825a",
   "metadata": {},
   "outputs": [],
   "source": [
    "model_combined.save_weights('../Model Objects/keras_out_new_varsv1.h5')\n",
    "model_combined_deeper.save_weights('../Model Objects/keras_out_new_vars_deeperv1.h5')"
   ]
  },
  {
   "cell_type": "code",
   "execution_count": null,
   "id": "c8b59762-1b60-43af-b3ea-51d91fc7507a",
   "metadata": {
    "tags": []
   },
   "outputs": [],
   "source": []
  },
  {
   "cell_type": "code",
   "execution_count": null,
   "id": "653ed884-ce2a-4711-a343-d96a00fb2521",
   "metadata": {
    "tags": []
   },
   "outputs": [],
   "source": []
  },
  {
   "cell_type": "code",
   "execution_count": null,
   "id": "7be3a190-677d-4588-a3e3-c74e8b8f707b",
   "metadata": {
    "tags": []
   },
   "outputs": [],
   "source": []
  },
  {
   "cell_type": "code",
   "execution_count": null,
   "id": "79cee368-916f-44d6-8a6e-984d1842f3a2",
   "metadata": {},
   "outputs": [],
   "source": []
  }
 ],
 "metadata": {
  "kernelspec": {
   "display_name": "Python_3_7",
   "language": "python",
   "name": "python_3_7"
  },
  "language_info": {
   "codemirror_mode": {
    "name": "ipython",
    "version": 3
   },
   "file_extension": ".py",
   "mimetype": "text/x-python",
   "name": "python",
   "nbconvert_exporter": "python",
   "pygments_lexer": "ipython3",
   "version": "3.8.3rc1"
  }
 },
 "nbformat": 4,
 "nbformat_minor": 5
}
