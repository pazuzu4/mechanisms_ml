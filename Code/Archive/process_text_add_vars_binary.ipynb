{
 "cells": [
  {
   "cell_type": "code",
   "execution_count": 1,
   "id": "a4f863a6-430a-447c-8bbd-80c8babadf0e",
   "metadata": {
    "tags": []
   },
   "outputs": [],
   "source": [
    "from keras.preprocessing.text import Tokenizer\n",
    "from keras_preprocessing.sequence import pad_sequences\n",
    "from sklearn.preprocessing import LabelEncoder\n",
    "from tensorflow.keras.utils import to_categorical\n",
    "import tensorflow as tf\n",
    "import numpy as np\n",
    "import pandas as pd\n",
    "import os"
   ]
  },
  {
   "cell_type": "code",
   "execution_count": 2,
   "id": "f37316f8-2de7-40b4-bfec-7b2937788db4",
   "metadata": {
    "tags": []
   },
   "outputs": [
    {
     "data": {
      "text/html": [
       "<div>\n",
       "<style scoped>\n",
       "    .dataframe tbody tr th:only-of-type {\n",
       "        vertical-align: middle;\n",
       "    }\n",
       "\n",
       "    .dataframe tbody tr th {\n",
       "        vertical-align: top;\n",
       "    }\n",
       "\n",
       "    .dataframe thead th {\n",
       "        text-align: right;\n",
       "    }\n",
       "</style>\n",
       "<table border=\"1\" class=\"dataframe\">\n",
       "  <thead>\n",
       "    <tr style=\"text-align: right;\">\n",
       "      <th></th>\n",
       "      <th>cpsc_case_number</th>\n",
       "      <th>narrative</th>\n",
       "      <th>primary_mechanism</th>\n",
       "    </tr>\n",
       "  </thead>\n",
       "  <tbody>\n",
       "    <tr>\n",
       "      <th>0</th>\n",
       "      <td>100145411</td>\n",
       "      <td>67 yof pt fell on the floor playing pickle bal...</td>\n",
       "      <td>Falls, trips, etc.</td>\n",
       "    </tr>\n",
       "    <tr>\n",
       "      <th>1</th>\n",
       "      <td>100417928</td>\n",
       "      <td>63yof playing pickleball in the hot sun and pa...</td>\n",
       "      <td>Heat stroke</td>\n",
       "    </tr>\n",
       "    <tr>\n",
       "      <th>2</th>\n",
       "      <td>100417973</td>\n",
       "      <td>66yom strained lower leg playing pickle ball</td>\n",
       "      <td>Other mechanism</td>\n",
       "    </tr>\n",
       "    <tr>\n",
       "      <th>3</th>\n",
       "      <td>100417997</td>\n",
       "      <td>60yof pt playing pickle ball and fell sustaine...</td>\n",
       "      <td>Falls, trips, etc.</td>\n",
       "    </tr>\n",
       "    <tr>\n",
       "      <th>4</th>\n",
       "      <td>100454409</td>\n",
       "      <td>70 yom pt injured knee while playing pickle ba...</td>\n",
       "      <td>Other mechanism</td>\n",
       "    </tr>\n",
       "    <tr>\n",
       "      <th>...</th>\n",
       "      <td>...</td>\n",
       "      <td>...</td>\n",
       "      <td>...</td>\n",
       "    </tr>\n",
       "    <tr>\n",
       "      <th>1986</th>\n",
       "      <td>200101825</td>\n",
       "      <td>68 yof tripped and fell while playing tennis. ...</td>\n",
       "      <td>Falls, trips, etc.</td>\n",
       "    </tr>\n",
       "    <tr>\n",
       "      <th>1987</th>\n",
       "      <td>200102934</td>\n",
       "      <td>76yof was hit in the eye with a tennis ball dx...</td>\n",
       "      <td>Hit with various obj</td>\n",
       "    </tr>\n",
       "    <tr>\n",
       "      <th>1988</th>\n",
       "      <td>200110467</td>\n",
       "      <td>61yof was playing tennis when she developed pa...</td>\n",
       "      <td>Undetermined/unknown</td>\n",
       "    </tr>\n",
       "    <tr>\n",
       "      <th>1989</th>\n",
       "      <td>200124689</td>\n",
       "      <td>70yof fell while playing tennis dx: strained u...</td>\n",
       "      <td>Falls, trips, etc.</td>\n",
       "    </tr>\n",
       "    <tr>\n",
       "      <th>1990</th>\n",
       "      <td>200301553</td>\n",
       "      <td>76yom.playing tennis slipped.fell down.dx.lac....</td>\n",
       "      <td>Falls, trips, etc.</td>\n",
       "    </tr>\n",
       "  </tbody>\n",
       "</table>\n",
       "<p>1991 rows × 3 columns</p>\n",
       "</div>"
      ],
      "text/plain": [
       "      cpsc_case_number                                          narrative  \\\n",
       "0            100145411  67 yof pt fell on the floor playing pickle bal...   \n",
       "1            100417928  63yof playing pickleball in the hot sun and pa...   \n",
       "2            100417973       66yom strained lower leg playing pickle ball   \n",
       "3            100417997  60yof pt playing pickle ball and fell sustaine...   \n",
       "4            100454409  70 yom pt injured knee while playing pickle ba...   \n",
       "...                ...                                                ...   \n",
       "1986         200101825  68 yof tripped and fell while playing tennis. ...   \n",
       "1987         200102934  76yof was hit in the eye with a tennis ball dx...   \n",
       "1988         200110467  61yof was playing tennis when she developed pa...   \n",
       "1989         200124689  70yof fell while playing tennis dx: strained u...   \n",
       "1990         200301553  76yom.playing tennis slipped.fell down.dx.lac....   \n",
       "\n",
       "         primary_mechanism  \n",
       "0       Falls, trips, etc.  \n",
       "1              Heat stroke  \n",
       "2          Other mechanism  \n",
       "3       Falls, trips, etc.  \n",
       "4          Other mechanism  \n",
       "...                    ...  \n",
       "1986    Falls, trips, etc.  \n",
       "1987  Hit with various obj  \n",
       "1988  Undetermined/unknown  \n",
       "1989    Falls, trips, etc.  \n",
       "1990    Falls, trips, etc.  \n",
       "\n",
       "[1991 rows x 3 columns]"
      ]
     },
     "execution_count": 2,
     "metadata": {},
     "output_type": "execute_result"
    }
   ],
   "source": [
    "train_path = '../data_to_model/keras_data/model_df_full_narrative.csv'\n",
    "train_df = pd.read_csv(train_path)\n",
    "train_df"
   ]
  },
  {
   "cell_type": "code",
   "execution_count": 3,
   "id": "fe842aa9-0933-4e49-aeef-83849831c8bb",
   "metadata": {
    "tags": []
   },
   "outputs": [
    {
     "name": "stdout",
     "output_type": "stream",
     "text": [
      "['Falls, trips, etc.' 'Heat stroke' 'Other mechanism' 'Falls, trips, etc.'\n",
      " 'Other mechanism' 'Falls, trips, etc.' 'Falls, trips, etc.'\n",
      " 'Other mechanism' 'Other mechanism' 'Falls, trips, etc.'\n",
      " 'Hit with various obj' 'Falls, trips, etc.' 'Falls, trips, etc.'\n",
      " 'cardio/sync' 'Falls, trips, etc.' 'Other mechanism' 'Other mechanism'\n",
      " 'Other mechanism' 'Other mechanism' 'Falls, trips, etc.'\n",
      " 'Falls, trips, etc.' 'Hit with various obj' 'Other mechanism'\n",
      " 'Multi-sport' 'Falls, trips, etc.' 'Other mechanism' 'Falls, trips, etc.'\n",
      " 'Falls, trips, etc.' 'Falls, trips, etc.' 'Falls, trips, etc.']\n",
      "[0 0 0 0 0 0 0 0 0 0 0 0 0 0 0 0 0 0 0 0 0 0 0 1 0 0 0 0 0 0]\n"
     ]
    }
   ],
   "source": [
    "text_np = np.array(train_df['narrative'])\n",
    "train_labels_np = np.array(train_df['primary_mechanism'])\n",
    "train_labels_np_bin = np.where(train_labels_np == 'Multi-sport', 1, 0)\n",
    "print(train_labels_np[0:30])\n",
    "print(train_labels_np_bin[0:30])"
   ]
  },
  {
   "cell_type": "code",
   "execution_count": null,
   "id": "7d9c24b9-8bd5-49c8-a559-a28409bc5c42",
   "metadata": {
    "tags": []
   },
   "outputs": [],
   "source": [
    "#l_list = []\n",
    "#for txt in text_np:\n",
    "#    l_list.append( len(txt) )\n",
    "    \n",
    "#l_list[0:10]\n",
    "\n",
    "#max(l_list)"
   ]
  },
  {
   "cell_type": "code",
   "execution_count": 4,
   "id": "8f6eef2f-32b1-4810-a477-40fa9fc91a15",
   "metadata": {
    "tags": []
   },
   "outputs": [],
   "source": [
    "maxlen = 207\n",
    "training_samples = 1491\n",
    "validation_samples = 500\n",
    "max_words = 100000\n",
    "tokenizer = Tokenizer(num_words=max_words)\n",
    "tokenizer.fit_on_texts(text_np)\n",
    "sequences = tokenizer.texts_to_sequences(text_np)\n"
   ]
  },
  {
   "cell_type": "code",
   "execution_count": 5,
   "id": "df633e05-a798-4e41-bf87-d622c22f251c",
   "metadata": {
    "tags": []
   },
   "outputs": [
    {
     "name": "stdout",
     "output_type": "stream",
     "text": [
      "Found 1857 unique tokens.\n",
      "Shape of data tensor: (1991, 207)\n",
      "Shape of label tensor: (1991,)\n"
     ]
    }
   ],
   "source": [
    "word_index = tokenizer.word_index\n",
    "print('Found %s unique tokens.' % len(word_index))\n",
    "data = pad_sequences(sequences, maxlen=maxlen)\n",
    "\n",
    "print('Shape of data tensor:', data.shape)\n",
    "print('Shape of label tensor:', train_labels_np.shape)\n"
   ]
  },
  {
   "cell_type": "code",
   "execution_count": 6,
   "id": "1e127fa0-3dca-4a02-8605-0f6dff47d340",
   "metadata": {
    "tags": []
   },
   "outputs": [],
   "source": [
    "indices = np.arange(data.shape[0])\n",
    "np.random.shuffle(indices)\n",
    "data = data[indices]\n",
    "train_labels_np_bin = train_labels_np_bin[indices]\n",
    "x_train = data[:training_samples]\n",
    "y_train_bin = train_labels_np_bin[:training_samples]\n",
    "x_val = data[training_samples: training_samples + validation_samples]\n",
    "y_val_bin = train_labels_np_bin[training_samples: training_samples + validation_samples]"
   ]
  },
  {
   "cell_type": "code",
   "execution_count": null,
   "id": "4df544f1-1e1b-47c4-ba7d-736362f614c8",
   "metadata": {
    "tags": []
   },
   "outputs": [],
   "source": [
    "data.shape"
   ]
  },
  {
   "cell_type": "code",
   "execution_count": 7,
   "id": "13659797-747c-4446-8422-2ce9de69ae48",
   "metadata": {
    "tags": []
   },
   "outputs": [
    {
     "name": "stdout",
     "output_type": "stream",
     "text": [
      "Model: \"sequential\"\n",
      "_________________________________________________________________\n",
      "Layer (type)                 Output Shape              Param #   \n",
      "=================================================================\n",
      "embedding (Embedding)        (None, 207, 8)            800000    \n",
      "_________________________________________________________________\n",
      "flatten (Flatten)            (None, 1656)              0         \n",
      "_________________________________________________________________\n",
      "dense (Dense)                (None, 7)                 11599     \n",
      "=================================================================\n",
      "Total params: 811,599\n",
      "Trainable params: 811,599\n",
      "Non-trainable params: 0\n",
      "_________________________________________________________________\n"
     ]
    }
   ],
   "source": [
    "from keras.models import Sequential\n",
    "from keras.layers import Embedding, Flatten, Dense\n",
    "model = Sequential()\n",
    "model.add(Embedding(max_words, 8, input_length=maxlen))\n",
    "model.add(Flatten())\n",
    "model.add(Dense(7, activation='softmax'))\n",
    "model.compile(optimizer='rmsprop', loss='binary_crossentropy', metrics=['accuracy'])\n",
    "model.summary()\n"
   ]
  },
  {
   "cell_type": "code",
   "execution_count": 9,
   "id": "303dc81f-656b-483c-ac7d-8ee93567778d",
   "metadata": {
    "tags": []
   },
   "outputs": [
    {
     "name": "stdout",
     "output_type": "stream",
     "text": [
      "Epoch 1/80\n",
      "47/47 [==============================] - 1s 14ms/step - loss: 0.1950 - accuracy: 0.1254 - val_loss: 0.2151 - val_accuracy: 0.2060\n",
      "Epoch 2/80\n",
      "47/47 [==============================] - 0s 10ms/step - loss: 0.1950 - accuracy: 0.1261 - val_loss: 0.2151 - val_accuracy: 0.0900\n",
      "Epoch 3/80\n",
      "47/47 [==============================] - 0s 9ms/step - loss: 0.1950 - accuracy: 0.1489 - val_loss: 0.2151 - val_accuracy: 0.1800\n",
      "Epoch 4/80\n",
      "47/47 [==============================] - 0s 9ms/step - loss: 0.1950 - accuracy: 0.1623 - val_loss: 0.2151 - val_accuracy: 0.1160\n",
      "Epoch 5/80\n",
      "47/47 [==============================] - 0s 9ms/step - loss: 0.1950 - accuracy: 0.1482 - val_loss: 0.2151 - val_accuracy: 0.1440\n",
      "Epoch 6/80\n",
      "47/47 [==============================] - 0s 9ms/step - loss: 0.1950 - accuracy: 0.1697 - val_loss: 0.2151 - val_accuracy: 0.1580\n",
      "Epoch 7/80\n",
      "47/47 [==============================] - 0s 9ms/step - loss: 0.1950 - accuracy: 0.1516 - val_loss: 0.2151 - val_accuracy: 0.2460\n",
      "Epoch 8/80\n",
      "47/47 [==============================] - 0s 9ms/step - loss: 0.1950 - accuracy: 0.1657 - val_loss: 0.2151 - val_accuracy: 0.0420\n",
      "Epoch 9/80\n",
      "47/47 [==============================] - 0s 9ms/step - loss: 0.1950 - accuracy: 0.1650 - val_loss: 0.2151 - val_accuracy: 0.1980\n",
      "Epoch 10/80\n",
      "47/47 [==============================] - 0s 9ms/step - loss: 0.1950 - accuracy: 0.1677 - val_loss: 0.2151 - val_accuracy: 0.1180\n",
      "Epoch 11/80\n",
      "47/47 [==============================] - 0s 9ms/step - loss: 0.1950 - accuracy: 0.1650 - val_loss: 0.2151 - val_accuracy: 0.0580\n",
      "Epoch 12/80\n",
      "47/47 [==============================] - 0s 9ms/step - loss: 0.1950 - accuracy: 0.1643 - val_loss: 0.2151 - val_accuracy: 0.0300\n",
      "Epoch 13/80\n",
      "47/47 [==============================] - 0s 9ms/step - loss: 0.1950 - accuracy: 0.1945 - val_loss: 0.2151 - val_accuracy: 0.1080\n",
      "Epoch 14/80\n",
      "47/47 [==============================] - 0s 9ms/step - loss: 0.1950 - accuracy: 0.1583 - val_loss: 0.2151 - val_accuracy: 0.1840\n",
      "Epoch 15/80\n",
      "47/47 [==============================] - 0s 9ms/step - loss: 0.1950 - accuracy: 0.1422 - val_loss: 0.2151 - val_accuracy: 0.0660\n",
      "Epoch 16/80\n",
      "47/47 [==============================] - 0s 9ms/step - loss: 0.1950 - accuracy: 0.1838 - val_loss: 0.2151 - val_accuracy: 0.1040\n",
      "Epoch 17/80\n",
      "47/47 [==============================] - 0s 9ms/step - loss: 0.1950 - accuracy: 0.1502 - val_loss: 0.2151 - val_accuracy: 0.2100\n",
      "Epoch 18/80\n",
      "47/47 [==============================] - 0s 9ms/step - loss: 0.1950 - accuracy: 0.1851 - val_loss: 0.2151 - val_accuracy: 0.2760\n",
      "Epoch 19/80\n",
      "47/47 [==============================] - 0s 9ms/step - loss: 0.1950 - accuracy: 0.1328 - val_loss: 0.2151 - val_accuracy: 0.1180\n",
      "Epoch 20/80\n",
      "47/47 [==============================] - 0s 9ms/step - loss: 0.1950 - accuracy: 0.1636 - val_loss: 0.2151 - val_accuracy: 0.2920\n",
      "Epoch 21/80\n",
      "47/47 [==============================] - 0s 9ms/step - loss: 0.1950 - accuracy: 0.1710 - val_loss: 0.2151 - val_accuracy: 0.0960\n",
      "Epoch 22/80\n",
      "47/47 [==============================] - 0s 10ms/step - loss: 0.1950 - accuracy: 0.1657 - val_loss: 0.2151 - val_accuracy: 0.0040\n",
      "Epoch 23/80\n",
      "47/47 [==============================] - 0s 10ms/step - loss: 0.1950 - accuracy: 0.1502 - val_loss: 0.2151 - val_accuracy: 0.2040\n",
      "Epoch 24/80\n",
      "47/47 [==============================] - 0s 9ms/step - loss: 0.1950 - accuracy: 0.1818 - val_loss: 0.2151 - val_accuracy: 0.1300\n",
      "Epoch 25/80\n",
      "47/47 [==============================] - 0s 9ms/step - loss: 0.1950 - accuracy: 0.1429 - val_loss: 0.2151 - val_accuracy: 0.0780\n",
      "Epoch 26/80\n",
      "47/47 [==============================] - 0s 9ms/step - loss: 0.1950 - accuracy: 0.1764 - val_loss: 0.2151 - val_accuracy: 0.2880\n",
      "Epoch 27/80\n",
      "47/47 [==============================] - 0s 9ms/step - loss: 0.1950 - accuracy: 0.1851 - val_loss: 0.2151 - val_accuracy: 0.1480\n",
      "Epoch 28/80\n",
      "47/47 [==============================] - 0s 9ms/step - loss: 0.1950 - accuracy: 0.1630 - val_loss: 0.2151 - val_accuracy: 0.1520\n",
      "Epoch 29/80\n",
      "47/47 [==============================] - 0s 10ms/step - loss: 0.1950 - accuracy: 0.1791 - val_loss: 0.2151 - val_accuracy: 0.5940\n",
      "Epoch 30/80\n",
      "47/47 [==============================] - 0s 9ms/step - loss: 0.1950 - accuracy: 0.2025 - val_loss: 0.2151 - val_accuracy: 0.1500\n",
      "Epoch 31/80\n",
      "47/47 [==============================] - 0s 9ms/step - loss: 0.1950 - accuracy: 0.1616 - val_loss: 0.2151 - val_accuracy: 0.2600\n",
      "Epoch 32/80\n",
      "47/47 [==============================] - 0s 10ms/step - loss: 0.1950 - accuracy: 0.1791 - val_loss: 0.2151 - val_accuracy: 0.1600\n",
      "Epoch 33/80\n",
      "47/47 [==============================] - 0s 9ms/step - loss: 0.1950 - accuracy: 0.1824 - val_loss: 0.2151 - val_accuracy: 0.1260\n",
      "Epoch 34/80\n",
      "47/47 [==============================] - 0s 8ms/step - loss: 0.1950 - accuracy: 0.1281 - val_loss: 0.2151 - val_accuracy: 0.1900\n",
      "Epoch 35/80\n",
      "47/47 [==============================] - 0s 8ms/step - loss: 0.1950 - accuracy: 0.1724 - val_loss: 0.2151 - val_accuracy: 0.2300\n",
      "Epoch 36/80\n",
      "47/47 [==============================] - 0s 8ms/step - loss: 0.1950 - accuracy: 0.1435 - val_loss: 0.2151 - val_accuracy: 0.1840\n",
      "Epoch 37/80\n",
      "47/47 [==============================] - 0s 8ms/step - loss: 0.1950 - accuracy: 0.1261 - val_loss: 0.2151 - val_accuracy: 0.3440\n",
      "Epoch 38/80\n",
      "47/47 [==============================] - 0s 8ms/step - loss: 0.1950 - accuracy: 0.1315 - val_loss: 0.2151 - val_accuracy: 0.0460\n",
      "Epoch 39/80\n",
      "47/47 [==============================] - 0s 8ms/step - loss: 0.1950 - accuracy: 0.1891 - val_loss: 0.2151 - val_accuracy: 0.0200\n",
      "Epoch 40/80\n",
      "47/47 [==============================] - 0s 8ms/step - loss: 0.1950 - accuracy: 0.1891 - val_loss: 0.2151 - val_accuracy: 0.6800\n",
      "Epoch 41/80\n",
      "47/47 [==============================] - 0s 9ms/step - loss: 0.1950 - accuracy: 0.1583 - val_loss: 0.2151 - val_accuracy: 0.1980\n",
      "Epoch 42/80\n",
      "47/47 [==============================] - 0s 8ms/step - loss: 0.1950 - accuracy: 0.1938 - val_loss: 0.2151 - val_accuracy: 0.2580\n",
      "Epoch 43/80\n",
      "47/47 [==============================] - 0s 9ms/step - loss: 0.1950 - accuracy: 0.1476 - val_loss: 0.2151 - val_accuracy: 0.0280\n",
      "Epoch 44/80\n",
      "47/47 [==============================] - 0s 9ms/step - loss: 0.1950 - accuracy: 0.1972 - val_loss: 0.2151 - val_accuracy: 0.1760\n",
      "Epoch 45/80\n",
      "47/47 [==============================] - 0s 9ms/step - loss: 0.1950 - accuracy: 0.1227 - val_loss: 0.2151 - val_accuracy: 0.1180\n",
      "Epoch 46/80\n",
      "47/47 [==============================] - 0s 8ms/step - loss: 0.1950 - accuracy: 0.1496 - val_loss: 0.2151 - val_accuracy: 0.1620\n",
      "Epoch 47/80\n",
      "47/47 [==============================] - 0s 9ms/step - loss: 0.1950 - accuracy: 0.1710 - val_loss: 0.2151 - val_accuracy: 0.0840\n",
      "Epoch 48/80\n",
      "47/47 [==============================] - 0s 8ms/step - loss: 0.1950 - accuracy: 0.1449 - val_loss: 0.2151 - val_accuracy: 0.2720\n",
      "Epoch 49/80\n",
      "47/47 [==============================] - 0s 8ms/step - loss: 0.1950 - accuracy: 0.1704 - val_loss: 0.2151 - val_accuracy: 0.1400\n",
      "Epoch 50/80\n",
      "47/47 [==============================] - 0s 8ms/step - loss: 0.1950 - accuracy: 0.1643 - val_loss: 0.2151 - val_accuracy: 0.0680\n",
      "Epoch 51/80\n",
      "47/47 [==============================] - 0s 8ms/step - loss: 0.1950 - accuracy: 0.1194 - val_loss: 0.2151 - val_accuracy: 0.1240\n",
      "Epoch 52/80\n",
      "47/47 [==============================] - 0s 8ms/step - loss: 0.1950 - accuracy: 0.1844 - val_loss: 0.2151 - val_accuracy: 0.1300\n",
      "Epoch 53/80\n",
      "47/47 [==============================] - 0s 8ms/step - loss: 0.1950 - accuracy: 0.1690 - val_loss: 0.2151 - val_accuracy: 0.4920\n",
      "Epoch 54/80\n",
      "47/47 [==============================] - 0s 8ms/step - loss: 0.1950 - accuracy: 0.1590 - val_loss: 0.2151 - val_accuracy: 0.0300\n",
      "Epoch 55/80\n",
      "47/47 [==============================] - 0s 8ms/step - loss: 0.1950 - accuracy: 0.1335 - val_loss: 0.2151 - val_accuracy: 0.0740\n",
      "Epoch 56/80\n",
      "47/47 [==============================] - 0s 9ms/step - loss: 0.1950 - accuracy: 0.1449 - val_loss: 0.2151 - val_accuracy: 0.1040\n",
      "Epoch 57/80\n",
      "47/47 [==============================] - 0s 8ms/step - loss: 0.1950 - accuracy: 0.1315 - val_loss: 0.2151 - val_accuracy: 0.1460\n",
      "Epoch 58/80\n",
      "47/47 [==============================] - 0s 8ms/step - loss: 0.1950 - accuracy: 0.1455 - val_loss: 0.2151 - val_accuracy: 0.0060\n",
      "Epoch 59/80\n",
      "47/47 [==============================] - 0s 9ms/step - loss: 0.1950 - accuracy: 0.1697 - val_loss: 0.2151 - val_accuracy: 0.3260\n",
      "Epoch 60/80\n",
      "47/47 [==============================] - 0s 10ms/step - loss: 0.1950 - accuracy: 0.1476 - val_loss: 0.2151 - val_accuracy: 0.0040\n",
      "Epoch 61/80\n",
      "47/47 [==============================] - 0s 9ms/step - loss: 0.1950 - accuracy: 0.1496 - val_loss: 0.2151 - val_accuracy: 0.1760\n",
      "Epoch 62/80\n",
      "47/47 [==============================] - 0s 9ms/step - loss: 0.1950 - accuracy: 0.1670 - val_loss: 0.2151 - val_accuracy: 0.1480\n",
      "Epoch 63/80\n",
      "47/47 [==============================] - 0s 9ms/step - loss: 0.1950 - accuracy: 0.1388 - val_loss: 0.2151 - val_accuracy: 0.0060\n",
      "Epoch 64/80\n",
      "47/47 [==============================] - 0s 10ms/step - loss: 0.1950 - accuracy: 0.1268 - val_loss: 0.2151 - val_accuracy: 0.1340\n",
      "Epoch 65/80\n",
      "47/47 [==============================] - 0s 10ms/step - loss: 0.1950 - accuracy: 0.1663 - val_loss: 0.2151 - val_accuracy: 0.0060\n",
      "Epoch 66/80\n",
      "47/47 [==============================] - 0s 9ms/step - loss: 0.1950 - accuracy: 0.1422 - val_loss: 0.2151 - val_accuracy: 0.1580\n",
      "Epoch 67/80\n",
      "47/47 [==============================] - 0s 9ms/step - loss: 0.1950 - accuracy: 0.1328 - val_loss: 0.2151 - val_accuracy: 0.1180\n",
      "Epoch 68/80\n",
      "47/47 [==============================] - 0s 10ms/step - loss: 0.1950 - accuracy: 0.1402 - val_loss: 0.2151 - val_accuracy: 0.0380\n",
      "Epoch 69/80\n",
      "47/47 [==============================] - 0s 10ms/step - loss: 0.1950 - accuracy: 0.1878 - val_loss: 0.2151 - val_accuracy: 0.1640\n",
      "Epoch 70/80\n",
      "47/47 [==============================] - 0s 10ms/step - loss: 0.1950 - accuracy: 0.1469 - val_loss: 0.2151 - val_accuracy: 0.0960\n",
      "Epoch 71/80\n",
      "47/47 [==============================] - 0s 9ms/step - loss: 0.1950 - accuracy: 0.1958 - val_loss: 0.2151 - val_accuracy: 0.0340\n",
      "Epoch 72/80\n",
      "47/47 [==============================] - 0s 10ms/step - loss: 0.1950 - accuracy: 0.1341 - val_loss: 0.2151 - val_accuracy: 0.0760\n",
      "Epoch 73/80\n",
      "47/47 [==============================] - 0s 9ms/step - loss: 0.1950 - accuracy: 0.1201 - val_loss: 0.2151 - val_accuracy: 0.0280\n",
      "Epoch 74/80\n",
      "47/47 [==============================] - 0s 9ms/step - loss: 0.1950 - accuracy: 0.1643 - val_loss: 0.2151 - val_accuracy: 0.1180\n",
      "Epoch 75/80\n",
      "47/47 [==============================] - 0s 10ms/step - loss: 0.1950 - accuracy: 0.1650 - val_loss: 0.2151 - val_accuracy: 0.1720\n",
      "Epoch 76/80\n",
      "47/47 [==============================] - 0s 10ms/step - loss: 0.1950 - accuracy: 0.1268 - val_loss: 0.2151 - val_accuracy: 0.1340\n",
      "Epoch 77/80\n",
      "47/47 [==============================] - 0s 9ms/step - loss: 0.1950 - accuracy: 0.1502 - val_loss: 0.2151 - val_accuracy: 0.1280\n",
      "Epoch 78/80\n",
      "47/47 [==============================] - 0s 9ms/step - loss: 0.1950 - accuracy: 0.1388 - val_loss: 0.2151 - val_accuracy: 0.0320\n",
      "Epoch 79/80\n",
      "47/47 [==============================] - 0s 9ms/step - loss: 0.1950 - accuracy: 0.1543 - val_loss: 0.2151 - val_accuracy: 0.0040\n",
      "Epoch 80/80\n",
      "47/47 [==============================] - 0s 9ms/step - loss: 0.1950 - accuracy: 0.1328 - val_loss: 0.2151 - val_accuracy: 0.0420\n"
     ]
    }
   ],
   "source": [
    "history = model.fit(x_train, y_train_bin,\n",
    "epochs=80,\n",
    "batch_size=32,\n",
    "validation_data=(x_val, y_val_bin))"
   ]
  },
  {
   "cell_type": "code",
   "execution_count": 10,
   "id": "91d32b28-57cf-4497-9708-4531cc7885e1",
   "metadata": {},
   "outputs": [],
   "source": [
    "model.save_weights('../Model Objects/keras_out_bin_v1.h5')"
   ]
  },
  {
   "cell_type": "code",
   "execution_count": null,
   "id": "a07bf2ef-cc32-4cbb-a4de-a4f1d1af825a",
   "metadata": {},
   "outputs": [],
   "source": []
  },
  {
   "cell_type": "code",
   "execution_count": null,
   "id": "c8b59762-1b60-43af-b3ea-51d91fc7507a",
   "metadata": {
    "tags": []
   },
   "outputs": [],
   "source": [
    "def getModel():\n",
    "    my_dim = 8\n",
    "    \n",
    "    model = Sequential()\n",
    "    model.add(Embedding(max_words, my_dim, input_length=maxlen))\n",
    "    model.add(Flatten())\n",
    "#    model.add(Dense(32, activation='relu'))\n",
    "    model.add(Dense(7, activation='softmax'))\n",
    "    \n",
    "    return model"
   ]
  },
  {
   "cell_type": "code",
   "execution_count": null,
   "id": "653ed884-ce2a-4711-a343-d96a00fb2521",
   "metadata": {
    "tags": []
   },
   "outputs": [],
   "source": [
    "# Different configurations to try\n",
    "epochs_list = [30, 60, 90]\n",
    "batch_sizes = [16, 32, 64]\n",
    "#embedding_dim = 8\n",
    "# Dictionary to store the history of each configuration\n",
    "history_dict = {}\n",
    "\n",
    "for epochs in epochs_list:\n",
    "    for batch_size in batch_sizes:\n",
    "        # Get a fresh instance of the model for each run\n",
    "        model = getModel()\n",
    "\n",
    "        # Compile the model\n",
    "        model.compile(optimizer='rmsprop',\n",
    "                      loss='categorical_crossentropy',\n",
    "                      metrics=['accuracy'])\n",
    "\n",
    "        # Train the model\n",
    "        history = model.fit(x_train, y_train_one_hot,\n",
    "                            epochs=epochs,\n",
    "                            batch_size=batch_size,\n",
    "                            validation_data=(x_val, y_val_one_hot),\n",
    "                            verbose=2)  # Set verbose to 2 for less output\n",
    "\n",
    "        # Save the history of this configuration\n",
    "        history_dict[f\"epochs_{epochs}_batch_{batch_size}\"] = history.history\n",
    "\n",
    "        # Optionally, you can print out the final validation accuracy for each configuration\n",
    "        final_val_accuracy = history.history['val_accuracy'][-1]\n",
    "        print(f\"Epochs: {epochs}, Batch size: {batch_size}, Validation accuracy: {final_val_accuracy}\")\n",
    "\n",
    "# Now you can analyze the history_dict to see which configuration performed best\n"
   ]
  },
  {
   "cell_type": "code",
   "execution_count": null,
   "id": "7be3a190-677d-4588-a3e3-c74e8b8f707b",
   "metadata": {
    "tags": []
   },
   "outputs": [],
   "source": [
    "history_dict"
   ]
  },
  {
   "cell_type": "code",
   "execution_count": null,
   "id": "79cee368-916f-44d6-8a6e-984d1842f3a2",
   "metadata": {},
   "outputs": [],
   "source": []
  }
 ],
 "metadata": {
  "kernelspec": {
   "display_name": "Python_3_7",
   "language": "python",
   "name": "python_3_7"
  },
  "language_info": {
   "codemirror_mode": {
    "name": "ipython",
    "version": 3
   },
   "file_extension": ".py",
   "mimetype": "text/x-python",
   "name": "python",
   "nbconvert_exporter": "python",
   "pygments_lexer": "ipython3",
   "version": "3.8.3rc1"
  }
 },
 "nbformat": 4,
 "nbformat_minor": 5
}
